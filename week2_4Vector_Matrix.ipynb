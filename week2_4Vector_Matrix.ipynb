{
  "cells": [
    {
      "cell_type": "markdown",
      "metadata": {},
      "source": [
        "모두의 연구소, 2024 AI 코칭스터디 팀 활동을 통해 정리한 내용입니다.  \n",
        "- 로롱코치_6팀 : @박문지 @서진형 @엄수빈 @엔터6(변찬우) @miji(박미지) @Shinar(신애라) "
      ]
    },
    {
      "cell_type": "markdown",
      "metadata": {},
      "source": [
        "# **Vector**"
      ]
    },
    {
      "cell_type": "markdown",
      "metadata": {},
      "source": [
        "숫자를 원소로 가지는 list 또는 array"
      ]
    },
    {
      "cell_type": "code",
      "execution_count": 2,
      "metadata": {},
      "outputs": [],
      "source": [
        "import numpy as np "
      ]
    },
    {
      "cell_type": "markdown",
      "metadata": {},
      "source": [
        "### **L1 노름 (맨해튼 노름)**\n",
        "- L1 노름은 벡터의 각 성분의 절대값의 합으로 정의됩니다. \n",
        "- 이는 \"맨해튼 거리\"라고도 불리며, 다음과 같이 계산됩니다"
      ]
    },
    {
      "cell_type": "code",
      "execution_count": 4,
      "metadata": {},
      "outputs": [
        {
          "name": "stdout",
          "output_type": "stream",
          "text": [
            "벡터 v: [ 1 -2  3]\n",
            "L1 노름: 6\n"
          ]
        }
      ],
      "source": [
        "# 예제 벡터\n",
        "v = np.array([1, -2, 3])\n",
        "\n",
        "# L1 노름 계산 = 벡터 요소의 절대값의 합으로 계산됩니다.\n",
        "def l1_norm(x):\n",
        "    x_norm = np.abs(x) # 1.각 절대값 구하기 \n",
        "    x_norm = np.sum(x_norm) # 2.각각의 절대값 더하기 \n",
        "    return x_norm\n",
        "\n",
        "l1_norm = l1_norm(v)\n",
        "\n",
        "print(\"벡터 v:\", v)\n",
        "print(\"L1 노름:\", l1_norm)"
      ]
    },
    {
      "cell_type": "markdown",
      "metadata": {},
      "source": [
        "### **L2 노름 (유클리드 노름)**\n",
        "- L2 노름은 벡터의 각 성분의 제곱을 더한 후 제곱근을 취한 값으로 정의됩니다. \n",
        "- 이는 \"유클리드 거리\"라고도 불리며, 다음과 같이 계산됩니다:"
      ]
    },
    {
      "cell_type": "code",
      "execution_count": 6,
      "metadata": {},
      "outputs": [
        {
          "name": "stdout",
          "output_type": "stream",
          "text": [
            "벡터 v: [ 1 -2  3]\n",
            "L2 노름: 3.7416573867739413\n"
          ]
        }
      ],
      "source": [
        "# 예제 벡터\n",
        "v = np.array([1, -2, 3])\n",
        "\n",
        "# L2 노름 = 벡터 요소의 제곱을 더한 후 제곱근을 취한 값으로 계산됩니다.\n",
        "# l2_norm = np.sqrt(np.sum(v ** 2))\n",
        "\n",
        "def l2_norm(x):\n",
        "    x_norm = x*x # 성분곱 연산 \n",
        "    x_norm = np.sum(x_norm)\n",
        "    x_norm = np.sqrt(x_norm)# 제곱근 연산 \n",
        "    return x_norm\n",
        "\n",
        "l2_norm = l2_norm(v)\n",
        "\n",
        "print(\"벡터 v:\", v)\n",
        "print(\"L2 노름:\", l2_norm)"
      ]
    },
    {
      "cell_type": "markdown",
      "metadata": {},
      "source": [
        "### **두 벡터 사이의 거리 구하기**"
      ]
    },
    {
      "cell_type": "code",
      "execution_count": 7,
      "metadata": {},
      "outputs": [
        {
          "name": "stdout",
          "output_type": "stream",
          "text": [
            "벡터 a: [1 2 3]\n",
            "벡터 b: [4 5 6]\n",
            "L1 거리: 9\n",
            "L2 거리: 5.196152422706632\n",
            "L1 거리 (내장 함수): 9.0\n",
            "L2 거리 (내장 함수): 5.196152422706632\n"
          ]
        }
      ],
      "source": [
        "import numpy as np\n",
        "\n",
        "# 두 벡터 정의\n",
        "a = np.array([1, 2, 3])\n",
        "b = np.array([4, 5, 6])\n",
        "print(\"벡터 a:\", a)\n",
        "print(\"벡터 b:\", b)\n",
        "\n",
        "# 기본 함수 사용 \n",
        "l1_distance = np.sum(np.abs(a - b)) # L1 거리 계산\n",
        "l2_distance = np.sqrt(np.sum((a - b) ** 2)) # L2 거리 계산\n",
        "print(\"L1 거리:\", l1_distance)\n",
        "print(\"L2 거리:\", l2_distance)\n",
        "\n",
        "# 내장 함수(선형 대수) 사용\n",
        "l1_distance_builtin = np.linalg.norm(a - b, ord=1) # ord=1: L1 노름\n",
        "l2_distance_builtin = np.linalg.norm(a - b, ord=2) # ord=2: L2 노름 \n",
        "\n",
        "print(\"L1 거리 (내장 함수):\", l1_distance_builtin)\n",
        "print(\"L2 거리 (내장 함수):\", l2_distance_builtin)\n"
      ]
    },
    {
      "cell_type": "markdown",
      "metadata": {},
      "source": [
        "## **내적** "
      ]
    },
    {
      "cell_type": "markdown",
      "metadata": {},
      "source": [
        "### 두 벡터 사이의 각도 구하기"
      ]
    },
    {
      "cell_type": "code",
      "execution_count": 10,
      "metadata": {},
      "outputs": [
        {
          "name": "stdout",
          "output_type": "stream",
          "text": [
            "두 벡터 사이의 각도는 10.304846468766044도입니다.\n",
            "case - inner : 10.304846468766044 도\n",
            "case - dot :  10.304846468766044 도\n",
            "case - @ :  [3 8]\n"
          ]
        }
      ],
      "source": [
        "# 두 벡터를 정의\n",
        "vector1 = np.array([3, 4]) \n",
        "vector2 = np.array([1, 2]) \n",
        "\n",
        "def calculate_angle_between_vectors(vector1, vector2):\n",
        "    # 벡터의 내적 계산\n",
        "    dot_product = np.dot(vector1, vector2)\n",
        "    \n",
        "    # 각 벡터의 크기 계산\n",
        "    magnitude1 = np.linalg.norm(vector1)\n",
        "    magnitude2 = np.linalg.norm(vector2)\n",
        "    \n",
        "    # 벡터 사이의 각도 계산\n",
        "    cos_theta = dot_product / (magnitude1 * magnitude2)\n",
        "    angle_in_radians = np.arccos(cos_theta)\n",
        "    \n",
        "    # 라디안 값을 도 단위로 변환\n",
        "    angle_in_degrees = np.degrees(angle_in_radians)\n",
        "    \n",
        "    return angle_in_degrees\n",
        "\n",
        "\n",
        "# 두 벡터 사이의 각도 계산\n",
        "angle = calculate_angle_between_vectors(vector1, vector2)\n",
        "print(\"두 벡터 사이의 각도는 {}도입니다.\".format(angle))\n",
        "\n",
        "\n",
        "np.inner(vector1,vector2)\n",
        "np.dot(vector1,vector2)\n",
        "print(\"case - inner : {} 도\".format(angle))\n",
        "print(\"case - dot :  {} 도\".format(angle))\n",
        "print(\"case - @ : \", vector1*vector2)\n"
      ]
    },
    {
      "cell_type": "markdown",
      "metadata": {},
      "source": [
        "### 벡터와 벡터의 곱하기 "
      ]
    },
    {
      "cell_type": "code",
      "execution_count": 11,
      "metadata": {},
      "outputs": [
        {
          "name": "stdout",
          "output_type": "stream",
          "text": [
            "두 벡터의 내적: 32\n"
          ]
        }
      ],
      "source": [
        "import numpy as np\n",
        "\n",
        "vector1 = np.array([1, 2, 3])\n",
        "vector2 = np.array([4, 5, 6])\n",
        "\n",
        "dot_product = np.dot(vector1, vector2)\n",
        "print(\"두 벡터의 내적:\", dot_product) # 내적 값은 클 수록 두 벡터가 유사한 방향을 갖음\n"
      ]
    },
    {
      "cell_type": "markdown",
      "metadata": {},
      "source": [
        "### 벡터간의 유사도 계산"
      ]
    },
    {
      "cell_type": "code",
      "execution_count": 13,
      "metadata": {},
      "outputs": [
        {
          "name": "stdout",
          "output_type": "stream",
          "text": [
            "두 벡터의 유사도: 0.9509634325746504\n"
          ]
        }
      ],
      "source": [
        "import numpy as np\n",
        "\n",
        "# 두 벡터를 예시로 사용\n",
        "vector1 = np.array([0.2, 0.4, 0.5])\n",
        "vector2 = np.array([0.1, 0.3, 0.7])\n",
        "\n",
        "# 두 벡터의 곱 계산\n",
        "dot_product = np.dot(vector1, vector2)\n",
        "\n",
        "# 각 벡터의 크기 계산\n",
        "magnitude1 = np.linalg.norm(vector1)\n",
        "magnitude2 = np.linalg.norm(vector2)\n",
        "\n",
        "# 유사도를 측정(완전 일치는 1, 완전 불일치는 0)\n",
        "similarity = dot_product / (magnitude1 * magnitude2)\n",
        "print(\"두 벡터의 유사도:\", similarity) \n"
      ]
    },
    {
      "cell_type": "markdown",
      "metadata": {},
      "source": [
        "# **Matrix**"
      ]
    },
    {
      "cell_type": "markdown",
      "metadata": {},
      "source": [
        "벡터를 원소로 가지는 2차원 배열 \n",
        "- 행렬은 행(row)과 열(column)이라는 인덱스(index)를 가진다 \n",
        "- 행렬의 행(row)과 열(column)의 인덱스를 바꿔 전치행렬 transpose matrix로 변환할 수 있다 "
      ]
    },
    {
      "cell_type": "markdown",
      "metadata": {},
      "source": [
        "**행렬의 덧셈 (Matrix Addition)**\n",
        "- 두 행렬을 더하려면 각 행렬의 동일한 위치에 있는 요소들을 더합니다. \n",
        "- 두 행렬의 크기가 동일해야 합니다."
      ]
    },
    {
      "cell_type": "code",
      "execution_count": 2,
      "metadata": {},
      "outputs": [
        {
          "name": "stdout",
          "output_type": "stream",
          "text": [
            "행렬 A:\n",
            "[[1 2]\n",
            " [3 4]]\n",
            "\n",
            "행렬 B:\n",
            "[[5 6]\n",
            " [7 8]]\n",
            "\n",
            "행렬 A + B:\n",
            "[[ 6  8]\n",
            " [10 12]]\n"
          ]
        }
      ],
      "source": [
        "# 두 행렬 정의\n",
        "A = np.array([[1, 2], [3, 4]])\n",
        "B = np.array([[5, 6], [7, 8]])\n",
        "\n",
        "# 행렬 덧셈\n",
        "C = A + B\n",
        "\n",
        "print(\"행렬 A:\")\n",
        "print(A)\n",
        "print(\"\\n행렬 B:\")\n",
        "print(B)\n",
        "print(\"\\n행렬 A + B:\")\n",
        "print(C)"
      ]
    },
    {
      "cell_type": "markdown",
      "metadata": {},
      "source": [
        "**행렬의 뺄셈 (Matrix Subtraction)**\n",
        "- 두 행렬을 빼려면 각 행렬의 동일한 위치에 있는 요소들을 뺍니다. \n",
        "- 두 행렬의 크기가 동일해야 합니다."
      ]
    },
    {
      "cell_type": "code",
      "execution_count": 5,
      "metadata": {},
      "outputs": [
        {
          "name": "stdout",
          "output_type": "stream",
          "text": [
            "행렬 A:\n",
            "[[1 2]\n",
            " [3 4]]\n",
            "\n",
            "행렬 B:\n",
            "[[5 6]\n",
            " [7 8]]\n",
            "\n",
            "행렬 A - B:\n",
            "[[-4 -4]\n",
            " [-4 -4]]\n"
          ]
        }
      ],
      "source": [
        "# 행렬 뺄셈\n",
        "C = A - B\n",
        "\n",
        "print(\"행렬 A:\")\n",
        "print(A)\n",
        "print(\"\\n행렬 B:\")\n",
        "print(B)\n",
        "print(\"\\n행렬 A - B:\")\n",
        "print(C)"
      ]
    },
    {
      "cell_type": "markdown",
      "metadata": {},
      "source": [
        "**스칼라곱 (Scalar Multiplication)**\n",
        "- 행렬의 각 요소에 스칼라 값을 곱합니다."
      ]
    },
    {
      "cell_type": "code",
      "execution_count": 4,
      "metadata": {},
      "outputs": [
        {
          "name": "stdout",
          "output_type": "stream",
          "text": [
            "행렬 A:\n",
            "[[1 2]\n",
            " [3 4]]\n",
            "\n",
            "스칼라 값:\n",
            "2\n",
            "\n",
            "행렬 A * 스칼라:\n",
            "[[2 4]\n",
            " [6 8]]\n"
          ]
        }
      ],
      "source": [
        "# 스칼라 정의\n",
        "scalar = 2\n",
        "\n",
        "# 스칼라곱\n",
        "C = A * scalar\n",
        "\n",
        "print(\"행렬 A:\")\n",
        "print(A)\n",
        "print(\"\\n스칼라 값:\")\n",
        "print(scalar)\n",
        "print(\"\\n행렬 A * 스칼라:\")\n",
        "print(C)"
      ]
    },
    {
      "cell_type": "markdown",
      "metadata": {},
      "source": [
        "**전치행렬(transpose matrix)A_T = np.transpose(A)**\n",
        "- 주어진 행렬의 행과 열을 교환하여 얻은 행렬입니다. \n",
        "- 전치행렬은 원래 행렬 𝐴의 행(row)을 열(column)로, 열을 행으로 바꾸어 생성됩니다. "
      ]
    },
    {
      "cell_type": "markdown",
      "metadata": {},
      "source": [
        "- 전치행렬의 주요 속성:\n",
        "    - A(A^T)^T : 전치행렬의 전치행렬은 원래 행렬과 같습니다.\n",
        "    - (A + B)^T = A^T + B^T: 두 행렬의 합의 전치는 각각의 전치행렬의 합과 같습니다.\n",
        "    - (cA)^T = cA^T: 상수 c를 곱한 행렬의 전치는 상수 c와 전치행렬을 곱한 것과 같습니다.\n",
        "    - (AB)^T = B^T A^T: 두 행렬의 곱의 전치는 각각의 전치행렬을 순서를 바꾸어 곱한 것과 같습니다."
      ]
    },
    {
      "cell_type": "code",
      "execution_count": 6,
      "metadata": {},
      "outputs": [
        {
          "name": "stdout",
          "output_type": "stream",
          "text": [
            "행렬 A:\n",
            "[[1 2 3]\n",
            " [4 5 6]]\n",
            "\n",
            "행렬 A의 전치행렬:\n",
            "[[1 4]\n",
            " [2 5]\n",
            " [3 6]]\n"
          ]
        }
      ],
      "source": [
        "# 행렬 정의\n",
        "A = np.array([[1, 2, 3], [4, 5, 6]])\n",
        "\n",
        "print(\"행렬 A:\")\n",
        "print(A)\n",
        "\n",
        "# 전치행렬 계산\n",
        "A_T = np.transpose(A)\n",
        "# 또는 A_T = A.T를 사용할 수 있습니다\n",
        "\n",
        "print(\"\\n행렬 A의 전치행렬:\")\n",
        "print(A_T)"
      ]
    },
    {
      "cell_type": "markdown",
      "metadata": {},
      "source": [
        "### **행렬의 곱셈 C = 'np.dot(A, B)' 또는 'A @ B'**\n",
        "- 𝑖 번째 행벡터와 𝑗 번째 열벡터 사이의 **내적을 성분**으로 가지는 행렬을 계산\n",
        "- 두 행렬의 곱을 계산하는 방법으로, 두 행렬 𝐴와 𝐵의 곱 𝐶 = 𝐴𝐵는 다음과 같은 규칙에 따라 계산됩니다: \n",
        "    - 𝐴의 **열**의 수와 𝐵의 **행**의 수가 같아야 합니다. \n",
        "        - 즉, 𝐴가 𝑚 × 𝑛 행렬이고 𝐵가 𝑛 × 𝑝 행렬일 때, 𝐶 는 𝑚 × 𝑝 행렬이 됩니다. \n",
        "        - 𝐶 의 각 요소 𝑐 𝑖 𝑗 ​는 𝐴의 𝑖 번째 행과 𝐵의 𝑗 번째 열의 각 요소를 곱한 후 모두 더한 값입니다."
      ]
    },
    {
      "cell_type": "markdown",
      "metadata": {},
      "source": [
        "### 2x2 행렬x행렬의 내적(곱셈)"
      ]
    },
    {
      "cell_type": "code",
      "execution_count": 7,
      "metadata": {},
      "outputs": [
        {
          "name": "stdout",
          "output_type": "stream",
          "text": [
            "행렬 A:\n",
            "[[1 2]\n",
            " [3 4]]\n",
            "\n",
            "행렬 B:\n",
            "[[5 6]\n",
            " [7 8]]\n",
            "\n",
            "행렬 A와 B의 곱 (AB):\n",
            "[[19 22]\n",
            " [43 50]]\n"
          ]
        }
      ],
      "source": [
        "# 2x2 행렬의 곱셈\n",
        "A = np.array([[1, 2], [3, 4]])\n",
        "B = np.array([[5, 6], [7, 8]])\n",
        "\n",
        "# 행렬 곱셈\n",
        "C = np.dot(A, B)\n",
        "# 또는 C = A @ B 를 사용할 수 있습니다\n",
        "\n",
        "print(\"행렬 A:\")\n",
        "print(A)\n",
        "print(\"\\n행렬 B:\")\n",
        "print(B)\n",
        "print(\"\\n행렬 A와 B의 곱 (AB):\")\n",
        "print(C)"
      ]
    },
    {
      "cell_type": "markdown",
      "metadata": {},
      "source": [
        "### 2x3와 3x2 행렬x행렬의 내적(곱셈)"
      ]
    },
    {
      "cell_type": "code",
      "execution_count": 8,
      "metadata": {},
      "outputs": [
        {
          "name": "stdout",
          "output_type": "stream",
          "text": [
            "행렬 A:\n",
            "[[1 2 3]\n",
            " [4 5 6]]\n",
            "\n",
            "행렬 B:\n",
            "[[ 7  8]\n",
            " [ 9 10]\n",
            " [11 12]]\n",
            "\n",
            "행렬 A와 B의 곱 (AB):\n",
            "[[ 58  64]\n",
            " [139 154]]\n"
          ]
        }
      ],
      "source": [
        "# 2x3와 3x2 행렬의 곱셈\n",
        "A = np.array([[1, 2, 3], [4, 5, 6]])\n",
        "B = np.array([[7, 8], [9, 10], [11, 12]])\n",
        "\n",
        "# 행렬 곱셈\n",
        "C = np.dot(A, B)\n",
        "# 또는 C = A @ B 를 사용할 수 있습니다\n",
        "\n",
        "print(\"행렬 A:\")\n",
        "print(A)\n",
        "print(\"\\n행렬 B:\")\n",
        "print(B)\n",
        "print(\"\\n행렬 A와 B의 곱 (AB):\")\n",
        "print(C)"
      ]
    },
    {
      "cell_type": "markdown",
      "metadata": {},
      "source": [
        "### 3x2와 2x3 행렬x행렬의 내적(곱셈)"
      ]
    },
    {
      "cell_type": "code",
      "execution_count": 9,
      "metadata": {},
      "outputs": [
        {
          "name": "stdout",
          "output_type": "stream",
          "text": [
            "행렬 A:\n",
            "[[1 2]\n",
            " [3 4]\n",
            " [5 6]]\n",
            "\n",
            "행렬 B:\n",
            "[[ 7  8  9]\n",
            " [10 11 12]]\n",
            "\n",
            "행렬 A와 B의 곱 (AB):\n",
            "[[ 27  30  33]\n",
            " [ 61  68  75]\n",
            " [ 95 106 117]]\n"
          ]
        }
      ],
      "source": [
        "# 3x2와 2x3 행렬의 곱셈\n",
        "A = np.array([[1, 2], [3, 4], [5, 6]])\n",
        "B = np.array([[7, 8, 9], [10, 11, 12]])\n",
        "\n",
        "# 행렬 곱셈\n",
        "C = np.dot(A, B)\n",
        "# 또는 C = A @ B 를 사용할 수 있습니다\n",
        "\n",
        "print(\"행렬 A:\")\n",
        "print(A)\n",
        "print(\"\\n행렬 B:\")\n",
        "print(B)\n",
        "print(\"\\n행렬 A와 B의 곱 (AB):\")\n",
        "print(C)\n"
      ]
    },
    {
      "cell_type": "markdown",
      "metadata": {},
      "source": [
        "### **행렬과 벡터의 내적**\n",
        "- 행렬 𝐴와 벡터 𝑏의 내적은 행렬의 각 행과 벡터의 내적을 계산하여 새로운 벡터를 만듭니다."
      ]
    },
    {
      "cell_type": "code",
      "execution_count": 11,
      "metadata": {},
      "outputs": [
        {
          "name": "stdout",
          "output_type": "stream",
          "text": [
            "행렬 A:\n",
            "[[1 2 3]\n",
            " [4 5 6]]\n",
            "벡터 b: [7 8 9]\n",
            "행렬 A와 벡터 b의 내적:\n",
            "[ 50 122]\n"
          ]
        }
      ],
      "source": [
        "# 행렬 A와 벡터 b 정의\n",
        "A = np.array([[1, 2, 3], [4, 5, 6]])\n",
        "b = np.array([7, 8, 9])\n",
        "\n",
        "# 행렬과 벡터의 내적\n",
        "result = np.dot(A, b)\n",
        "# 또는 result = A @ b 를 사용할 수 있습니다\n",
        "\n",
        "print(\"행렬 A:\")\n",
        "print(A)\n",
        "print(\"벡터 b:\", b)\n",
        "print(\"행렬 A와 벡터 b의 내적:\")\n",
        "print(result)\n"
      ]
    },
    {
      "cell_type": "markdown",
      "metadata": {},
      "source": [
        "### **역행렬**\n",
        "- 선형 방정식을 푸는 데 유용한 수학적 도구입니다.\n",
        "- 역행렬은 정방 행렬에만 정의됩니다\n",
        "- 역행렬은 주어진 정방 행렬 𝐴에 대해 다음을 만족하는 행렬 𝐵입니다.\n",
        "    - A⋅B=B⋅A=I\n",
        "- 여기서 𝐼는 항등 행렬입니다. 즉, 𝐴와 𝐵를 곱했을 때 항등 행렬이 되어야 합니다."
      ]
    },
    {
      "cell_type": "markdown",
      "metadata": {},
      "source": [
        "1. NumPy를 사용한 역행렬 계산 예시:"
      ]
    },
    {
      "cell_type": "code",
      "execution_count": 16,
      "metadata": {},
      "outputs": [
        {
          "name": "stdout",
          "output_type": "stream",
          "text": [
            "행렬 A:\n",
            " [[1 2]\n",
            " [3 4]]\n",
            "\n",
            "행렬 A의 역행렬:\n",
            " [[-2.   1. ]\n",
            " [ 1.5 -0.5]]\n"
          ]
        }
      ],
      "source": [
        "import numpy as np\n",
        "\n",
        "# 역행렬을 계산할 행렬 A를 정의합니다. (예시로 임의의 값 사용)\n",
        "A = np.array([[1, 2], [3, 4]])\n",
        "\n",
        "# NumPy의 inv 함수를 사용하여 역행렬을 계산합니다.\n",
        "A_inv = np.linalg.inv(A)\n",
        "\n",
        "print(\"행렬 A:\\n\", A)\n",
        "print(\"\\n행렬 A의 역행렬:\\n\", A_inv)\n"
      ]
    },
    {
      "cell_type": "markdown",
      "metadata": {},
      "source": [
        "2. SciPy를 사용한 역행렬 계산 예시:"
      ]
    },
    {
      "cell_type": "code",
      "execution_count": 20,
      "metadata": {},
      "outputs": [
        {
          "name": "stdout",
          "output_type": "stream",
          "text": [
            "행렬 A:\n",
            " [[1 2]\n",
            " [3 4]]\n",
            "\n",
            "행렬 A의 역행렬:\n",
            " [[-2.   1. ]\n",
            " [ 1.5 -0.5]]\n"
          ]
        }
      ],
      "source": [
        "from scipy.linalg import inv\n",
        "\n",
        "# 역행렬을 계산할 행렬 A를 정의합니다. (예시로 임의의 값 사용)\n",
        "A = np.array([[1, 2], [3, 4]])\n",
        "\n",
        "# SciPy의 inv 함수를 사용하여 역행렬을 계산합니다.\n",
        "A_inv = inv(A)\n",
        "\n",
        "print(\"행렬 A:\\n\", A)\n",
        "print(\"\\n행렬 A의 역행렬:\\n\", A_inv)"
      ]
    },
    {
      "cell_type": "markdown",
      "metadata": {},
      "source": [
        "### **유사 역행렬**\n",
        "- 역행렬과 달리, \n",
        "    - 유사역행렬은 정방 행렬이 아니거나 역행렬이 존재하지 않는 행렬에 대해서도 정의될 수 있습니다.\n",
        "- 유사 역행렬은 **𝐴의 의사 역행렬** 또는 **무어-펜로즈 역행렬**이라고도 합니다."
      ]
    },
    {
      "cell_type": "code",
      "execution_count": 22,
      "metadata": {},
      "outputs": [
        {
          "name": "stdout",
          "output_type": "stream",
          "text": [
            "행렬 A:\n",
            " [[1 2]\n",
            " [3 4]\n",
            " [5 6]]\n",
            "\n",
            "행렬 A의 유사역행렬:\n",
            " [[-1.33333333 -0.33333333  0.66666667]\n",
            " [ 1.08333333  0.33333333 -0.41666667]]\n"
          ]
        }
      ],
      "source": [
        "# 유사역행렬을 계산할 행렬 A를 정의합니다. (예시로 임의의 값 사용)\n",
        "A = np.array([[1, 2], [3, 4], [5, 6]])\n",
        "\n",
        "# NumPy의 pinv 함수를 사용하여 유사역행렬을 계산합니다.\n",
        "A_pseudo_inv = np.linalg.pinv(A)\n",
        "\n",
        "print(\"행렬 A:\\n\", A)\n",
        "print(\"\\n행렬 A의 유사역행렬:\\n\", A_pseudo_inv)"
      ]
    },
    {
      "cell_type": "markdown",
      "metadata": {},
      "source": [
        "### **선형회귀분석**\n",
        "- 선형 회귀 분석은 주어진 데이터에 대해 **선형 관계를 나타내는 모델을 만들고**, \n",
        "- 이 모델을 사용하여 **종속 변수와 독립 변수 간의 관계를 예측**하는 것을 목표로 합니다. \n",
        "    - 이를 위해 최소 제곱법(Least Squares Method)을 사용하여 모델의 계수를 \"추정\"합니다. \n",
        "    - 역행렬 또는 유사 역행렬을 사용하여 이러한 계수를 \"계산\"할 수 있습니다."
      ]
    },
    {
      "cell_type": "code",
      "execution_count": 23,
      "metadata": {},
      "outputs": [
        {
          "name": "stdout",
          "output_type": "stream",
          "text": [
            "회귀 모델의 계수: [-2.   2.5]\n"
          ]
        }
      ],
      "source": [
        "X = np.array([[1, 2], [3, 4], [5, 6]])  \n",
        "y = np.array([3, 4, 5]) \n",
        "\n",
        "X_transpose = np.transpose(X)  \n",
        "X_transpose_X_inv = np.linalg.inv(np.dot(X_transpose, X)) \n",
        "coefficients = np.dot(np.dot(X_transpose_X_inv, X_transpose), y)  \n",
        "\n",
        "print(\"회귀 모델의 계수:\", coefficients)\n"
      ]
    },
    {
      "cell_type": "code",
      "execution_count": 25,
      "metadata": {},
      "outputs": [
        {
          "name": "stdout",
          "output_type": "stream",
          "text": [
            "회귀 모델의 계수: [-2.   2.5]\n"
          ]
        }
      ],
      "source": [
        "# 예시 데이터 생성\n",
        "X = np.array([[1, 2], [3, 4], [5, 6]])  # 독립 변수 행렬\n",
        "y = np.array([3, 4, 5])  # 종속 변수 벡터\n",
        "\n",
        "# 선형 회귀 모델의 계수를 추정하는 함수\n",
        "def estimate_coefficients(X, y):\n",
        "    X_transpose = np.transpose(X)  # X의 전치 행렬\n",
        "    dot_product = np.dot(X_transpose, X)  # 벡터의 내적 계산\n",
        "    X_transpose_X_inv = np.linalg.inv(dot_product) # 각 벡터의 크기 계산\n",
        "    coefficients = np.dot(np.dot(X_transpose_X_inv, X_transpose), y) # 회귀 모델의 계수 벡터\n",
        "    \n",
        "    return coefficients\n",
        "\n",
        "# 선형 회귀 모델의 계수 추정\n",
        "coefficients = estimate_coefficients(X, y)\n",
        "print(\"회귀 모델의 계수:\", coefficients)\n"
      ]
    }
  ],
  "metadata": {
    "colab": {
      "collapsed_sections": [
        "QFRYTAAPT4BP",
        "oYmaK5H8si_g"
      ],
      "provenance": []
    },
    "kernelspec": {
      "display_name": "Python 3",
      "name": "python3"
    },
    "language_info": {
      "name": "python"
    }
  },
  "nbformat": 4,
  "nbformat_minor": 0
}
