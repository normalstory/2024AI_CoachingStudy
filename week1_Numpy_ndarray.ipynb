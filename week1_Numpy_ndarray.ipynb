{
  "cells": [
    {
      "cell_type": "markdown",
      "metadata": {},
      "source": [
        "모두의 연구소, 2024 AI 코칭스터디 팀 활동 과정에서 실습했던 내용과 추가 리서치했던 코드를 정리한 내용입니다. \n",
        "- @엔터6(변찬우) "
      ]
    },
    {
      "cell_type": "markdown",
      "metadata": {
        "id": "QFRYTAAPT4BP"
      },
      "source": [
        "# **ndarray**"
      ]
    },
    {
      "cell_type": "markdown",
      "metadata": {
        "id": "OBDmzjaNVCNA"
      },
      "source": [
        "- NumPy의 N차원 배열 객체\n",
        "  - numpy는 np.array 함수를 활용하여 '배열'을 생성함\n",
        "- Python의 list와 가장 큰 차이점은, 하나의 데이터 타입만 넣을 수 있다\n",
        "  - Python List는 Dynamic typing을 지원 : ref 주소만 가리킴(*but 속도가 오래걸림)\n",
        "  - 하지만, ndarray는 지원하지 않는다\n",
        "    - numpy는 하나의 데이터 type만 배열에 넣을 수 있음\n",
        "    - C의 Array를 사용하여 배열을 생성함\n"
      ]
    },
    {
      "cell_type": "markdown",
      "metadata": {},
      "source": [
        "0. 넘파이 패키지 추가하기 "
      ]
    },
    {
      "cell_type": "code",
      "execution_count": 6,
      "metadata": {
        "id": "sOZC29edUAJB"
      },
      "outputs": [],
      "source": [
        "import numpy as np"
      ]
    },
    {
      "cell_type": "markdown",
      "metadata": {
        "id": "ikmJLFmcf5IM"
      },
      "source": [
        "1. 배열 생성\n",
        "  - a의 list를 int 타입의 ndarray로 생성하여 a_ndarray 변수에 담는다."
      ]
    },
    {
      "cell_type": "code",
      "execution_count": 7,
      "metadata": {
        "colab": {
          "base_uri": "https://localhost:8080/"
        },
        "id": "Wqg00PoJT11n",
        "outputId": "c4e57551-9589-452b-e088-d62120692f7a"
      },
      "outputs": [
        {
          "name": "stdout",
          "output_type": "stream",
          "text": [
            "[1 2 3 4 5]\n"
          ]
        },
        {
          "data": {
            "text/plain": [
              "numpy.int64"
            ]
          },
          "execution_count": 7,
          "metadata": {},
          "output_type": "execute_result"
        }
      ],
      "source": [
        "a = [1, 2, 3, 4, 5]\n",
        "a_ndarray = np.array(a, int)\n",
        "print(a_ndarray)\n",
        "\n",
        "type(a_ndarray[3])  # 타입 확인"
      ]
    },
    {
      "cell_type": "markdown",
      "metadata": {
        "id": "WVYrcV3qgX_r"
      },
      "source": [
        "2. int 타입의 ndarray 생성하기\n",
        "  - np.array 함수는 기존의 리스트 형태의 데이터와 데이터 타입을 입력받아 ndarray 형태로 변환해주는 함수이다."
      ]
    },
    {
      "cell_type": "code",
      "execution_count": 8,
      "metadata": {
        "colab": {
          "base_uri": "https://localhost:8080/"
        },
        "id": "HH8qE63ZUNJJ",
        "outputId": "0bec9a98-0416-46a5-c275-e7c460c794de"
      },
      "outputs": [
        {
          "name": "stdout",
          "output_type": "stream",
          "text": [
            "[1. 4. 5. 8.]\n"
          ]
        },
        {
          "data": {
            "text/plain": [
              "numpy.float64"
            ]
          },
          "execution_count": 8,
          "metadata": {},
          "output_type": "execute_result"
        }
      ],
      "source": [
        "test = [1, 4, 5, 8]\n",
        "test_array = np.array(test, float)\n",
        "print(test_array)\n",
        "\n",
        "type(test_array[3]) # 타입 확인"
      ]
    },
    {
      "cell_type": "markdown",
      "metadata": {
        "id": "fC0gz_TBfvCi"
      },
      "source": [
        " 3. String 타입의 자동 형 변환\n",
        "  - numpy는 하나의 데이터 type만 배열에 넣을 수 있음\n",
        "  - List에 여러 데이터 타입이 존재하더라도 ndarray는 알아서 하나의 타입으로 형 변환을 수행"
      ]
    },
    {
      "cell_type": "code",
      "execution_count": 9,
      "metadata": {
        "colab": {
          "base_uri": "https://localhost:8080/"
        },
        "id": "e5m7hQxUfg4z",
        "outputId": "281356cc-6e8d-4fc7-9e9e-84fc75d857c4"
      },
      "outputs": [
        {
          "name": "stdout",
          "output_type": "stream",
          "text": [
            "[1. 4. 5. 8.]\n"
          ]
        },
        {
          "data": {
            "text/plain": [
              "numpy.float64"
            ]
          },
          "execution_count": 9,
          "metadata": {},
          "output_type": "execute_result"
        }
      ],
      "source": [
        "b = [1, 4, 5, '8']\n",
        "b_ndarray = np.array(b, float)\n",
        "print(b_ndarray)  # 출력을 해서 확인할 수도 있고\n",
        "\n",
        "type(b_ndarray[3])  # 타입 확인, 'float로 변환'된 것을 확인할 수 있다."
      ]
    },
    {
      "cell_type": "markdown",
      "metadata": {
        "id": "KjZ84zv_haw6"
      },
      "source": [
        "4. shape과 dtype property 사용하는 방법"
      ]
    },
    {
      "cell_type": "markdown",
      "metadata": {
        "id": "nq_DCPvjqC5u"
      },
      "source": [
        "  - 1 차원"
      ]
    },
    {
      "cell_type": "code",
      "execution_count": 10,
      "metadata": {
        "colab": {
          "base_uri": "https://localhost:8080/"
        },
        "id": "EqdttqrTpSDc",
        "outputId": "8e112d05-df7e-4a84-b3d3-28258246648b"
      },
      "outputs": [
        {
          "name": "stdout",
          "output_type": "stream",
          "text": [
            "shape :  (4,)\n",
            "ndim :  1\n",
            "size :  4\n",
            "dtype :  int64\n"
          ]
        }
      ],
      "source": [
        "a = [1, 2, 5, 8]  # 4, 1차원 배열 선언\n",
        "a_ndarray = np.array(a, int)\n",
        "print(\"shape : \", a_ndarray.shape) # 1rd order tensor\n",
        "print(\"ndim : \", a_ndarray.ndim) # number of dimensions\n",
        "print(\"size : \", a_ndarray.size) # 4 == 4\n",
        "print(\"dtype : \", a_ndarray.dtype) # int64출력"
      ]
    },
    {
      "cell_type": "markdown",
      "metadata": {
        "id": "-APmXbORqIAr"
      },
      "source": [
        " - 2 차원"
      ]
    },
    {
      "cell_type": "code",
      "execution_count": 11,
      "metadata": {
        "colab": {
          "base_uri": "https://localhost:8080/"
        },
        "id": "AiHalm7spRT-",
        "outputId": "43e269d4-4df2-4061-c3ec-3113f67c7fd5"
      },
      "outputs": [
        {
          "name": "stdout",
          "output_type": "stream",
          "text": [
            "shape :  (3, 4)\n",
            "ndim :  2\n",
            "size :  12\n",
            "dtype :  int64\n"
          ]
        }
      ],
      "source": [
        "c = [[1, 2, 5, 8], [1, 2, 5, 8], [1, 2, 5, 8]]  # 4x3 2차원 배열 선언\n",
        "c_ndarray = np.array(c, int)\n",
        "print(\"shape : \", c_ndarray.shape) # 2rd order tensor\n",
        "print(\"ndim : \", c_ndarray.ndim) # number of dimensions\n",
        "print(\"size : \", c_ndarray.size) # 12 == 4x3\n",
        "print(\"dtype : \", c_ndarray.dtype) # int64출력"
      ]
    },
    {
      "cell_type": "markdown",
      "metadata": {
        "id": "iEDF_caiqJOT"
      },
      "source": [
        "  - 3 차원"
      ]
    },
    {
      "cell_type": "code",
      "execution_count": 12,
      "metadata": {
        "colab": {
          "base_uri": "https://localhost:8080/"
        },
        "id": "t7Cr_uhnheQZ",
        "outputId": "251af9b1-d4be-4a48-fae9-bf9b5d10b1eb"
      },
      "outputs": [
        {
          "name": "stdout",
          "output_type": "stream",
          "text": [
            "shape :  (4, 3, 4)\n",
            "ndim :  3\n",
            "size :  48\n",
            "dtype :  int64\n"
          ]
        }
      ],
      "source": [
        "d = [[[1, 2, 5, 8], [1, 2, 5, 8], [1, 2, 5, 8]],\n",
        "     [[1, 2, 5, 8], [1, 2, 5, 8], [1, 2, 5, 8]],\n",
        "     [[1, 2, 5, 8], [1, 2, 5, 8], [1, 2, 5, 8]],\n",
        "     [[1, 2, 5, 8], [1, 2, 5, 8], [1, 2, 5, 8]]]  # 4x3x4 3차원 배열 선언\n",
        "d_ndarray = np.array(d, int)\n",
        "print(\"shape : \", d_ndarray.shape) # 3rd order tensor\n",
        "print(\"ndim : \", d_ndarray.ndim) # number of dimensions\n",
        "print(\"size : \", d_ndarray.size) # 48 == 4x3x4\n",
        "print(\"dtype : \", d_ndarray.dtype) # int64출력"
      ]
    },
    {
      "cell_type": "markdown",
      "metadata": {
        "id": "ST1am4ixf9ry"
      },
      "source": [
        "5. 데이터 타입 변경\n",
        "  - 위와 같은 예제도 데이터가 많아서 복잡한데, 실제 데이터 분석을 위해 사용되는 데이터는 훨씬 방대하다.\n",
        "  - 그렇기 때문에 데이터의 상/하한 값을 안다면, 그에 맞춰 dtype을 np.int8 또는 float32와 같이 줄여서 메모리 낭비를 줄일 수 있다."
      ]
    },
    {
      "cell_type": "code",
      "execution_count": 13,
      "metadata": {
        "colab": {
          "base_uri": "https://localhost:8080/"
        },
        "id": "vm9vRaNaUOpv",
        "outputId": "de17a8ed-dbde-4089-e324-a76a71e316df"
      },
      "outputs": [
        {
          "name": "stdout",
          "output_type": "stream",
          "text": [
            "dtype :  int8\n",
            "dtype :  float32\n"
          ]
        }
      ],
      "source": [
        "d_ndarray = np.array(d, dtype=np.int8) # 기본은 int32인데, 메모리 낭비가 커서 int8로 사용가능\n",
        "print(\"dtype : \", d_ndarray.dtype) # int8출력\n",
        "\n",
        "addtxt_array = np.array(b, np.float32)\n",
        "print(\"dtype : \", addtxt_array.dtype) # int8출력"
      ]
    },
    {
      "cell_type": "markdown",
      "metadata": {
        "id": "7NEU3HhhkOlS"
      },
      "source": [
        "6. nbytes로 데이터의 Byte 크기 추출하기\n",
        "  - Machine Learning을 하며 Y값을 잘 예측하기 위해서는 float를 사용하여 소수점까지 정확하게 계산할 필요가 있다.\n",
        "  - 그래서 주로 float를 사용할 것이고, 이런 데이터의 Byte 단위 크기를 알고 싶다면 .nbytes를 사용하면 된다."
      ]
    },
    {
      "cell_type": "code",
      "execution_count": 14,
      "metadata": {
        "colab": {
          "base_uri": "https://localhost:8080/"
        },
        "id": "xgscJ98okSpa",
        "outputId": "6894c8f9-5aa7-4fb7-c579-c6a2b6e41dac"
      },
      "outputs": [
        {
          "name": "stdout",
          "output_type": "stream",
          "text": [
            "192\n"
          ]
        }
      ],
      "source": [
        "# 소수점까지 있어야 정확한 Y값 예측이 가능해져서 대부분의 경우 float를 사용함\n",
        "d_ndarray = np.array(d, dtype=np.float32)\n",
        "print(d_ndarray.nbytes) # byte size를 출력함. 48개 x 4B == 192B 출력"
      ]
    },
    {
      "cell_type": "markdown",
      "metadata": {
        "id": "eWU5aUEBl9rY"
      },
      "source": [
        "**마무리**\n",
        "\n",
        "- ndarray는 NumPy에서 N차원 배열을 사용할 때 사용되는 기본이다.\n",
        "- 즉, 데이터 분석을 하기 위해서는 ndarray를 늘 사용한다고 이해하면 좋다.\n",
        "- np.array 함수를 통해서 ndarray로 변환하고, 이때 기본 list 데이터와 원하는 데이터 타입을 지정할 수 있다.\n",
        "- shape/dtype/ndim/size/nbytes 등의 property를 사용하여 데이터에 대한 정보를 얻을 수 있다."
      ]
    },
    {
      "cell_type": "markdown",
      "metadata": {
        "id": "oYmaK5H8si_g"
      },
      "source": [
        "# **Reshape**"
      ]
    },
    {
      "cell_type": "markdown",
      "metadata": {
        "id": "mJS4fYV6srlj"
      },
      "source": [
        "1. 기본 데이터를 ndarray로 입력하고, .shape을 통해 기대한 값이 나오는지 확인\n",
        "  - 지난 포스트에 정리한 np.array와 .shape을 통해서 기본 데이터가 잘 들어갔는지 확인한다.\n",
        "  - 생각보다 데이터 입력부터 틀려서 원하는 결과가 나오지 않는 경우도 많으니, 꼭 확인 후에 넘어가는 것이 정신건강에 이롭다."
      ]
    },
    {
      "cell_type": "code",
      "execution_count": 15,
      "metadata": {
        "colab": {
          "base_uri": "https://localhost:8080/"
        },
        "id": "CdhBdVhVsnNY",
        "outputId": "966b506c-3518-412e-de96-55c8f7477d07"
      },
      "outputs": [
        {
          "data": {
            "text/plain": [
              "(2, 4)"
            ]
          },
          "execution_count": 15,
          "metadata": {},
          "output_type": "execute_result"
        }
      ],
      "source": [
        "import numpy as np\n",
        "\n",
        "test_matrix = [[1, 2, 3, 4],\n",
        "               [5, 6, 7, 8]] # 2x4 데이터 배열 선언\n",
        "test_array = np.array(test_matrix)\n",
        "test_array.shape # 기존의 2x4 확인"
      ]
    },
    {
      "cell_type": "markdown",
      "metadata": {
        "id": "iRz_kIaUs8qQ"
      },
      "source": [
        "2. .reshape함수를 사용하여 각종 형태로 변환\n",
        "  - .reshape은 말 그대로 array의 크기를 바꿔주는 함수이다.\n",
        "  - '변환되는 array의 크기(element의 개수)가 같다'는 원칙만 지켜지면, 모든 reshape이 가능하다"
      ]
    },
    {
      "cell_type": "code",
      "execution_count": 16,
      "metadata": {
        "colab": {
          "base_uri": "https://localhost:8080/"
        },
        "id": "s-pQ1z_0soUp",
        "outputId": "e850e987-7138-4049-db07-d7b9da44f7fe"
      },
      "outputs": [
        {
          "data": {
            "text/plain": [
              "array([[1, 2],\n",
              "       [3, 4],\n",
              "       [5, 6],\n",
              "       [7, 8]])"
            ]
          },
          "execution_count": 16,
          "metadata": {},
          "output_type": "execute_result"
        }
      ],
      "source": [
        "test_array.reshape(4, 2)  # 4x2로 변환 가능"
      ]
    },
    {
      "cell_type": "code",
      "execution_count": 17,
      "metadata": {
        "colab": {
          "base_uri": "https://localhost:8080/"
        },
        "id": "KvOl6s9DtXPk",
        "outputId": "e557212f-a89c-4b59-91d5-b1232f6d8d7a"
      },
      "outputs": [
        {
          "data": {
            "text/plain": [
              "array([[[1, 2],\n",
              "        [3, 4]],\n",
              "\n",
              "       [[5, 6],\n",
              "        [7, 8]]])"
            ]
          },
          "execution_count": 17,
          "metadata": {},
          "output_type": "execute_result"
        }
      ],
      "source": [
        "test_array.reshape(2, 2, 2)  # 총 element 수만 동일하다면, 어떻게든 변환 가능"
      ]
    },
    {
      "cell_type": "code",
      "execution_count": 18,
      "metadata": {
        "colab": {
          "base_uri": "https://localhost:8080/"
        },
        "id": "HQojlhp6tZRA",
        "outputId": "cfb4eb09-ab69-4c16-e3f4-7dcc12dd5467"
      },
      "outputs": [
        {
          "data": {
            "text/plain": [
              "array([1, 2, 3, 4, 5, 6, 7, 8])"
            ]
          },
          "execution_count": 18,
          "metadata": {},
          "output_type": "execute_result"
        }
      ],
      "source": [
        "test_array.reshape(8,)  # (8,) Tuple로 reshape"
      ]
    },
    {
      "cell_type": "code",
      "execution_count": 19,
      "metadata": {
        "colab": {
          "base_uri": "https://localhost:8080/"
        },
        "id": "3ypZVJCVtalI",
        "outputId": "b01d8d9a-4e40-4918-e965-ac87a2fd2a3a"
      },
      "outputs": [
        {
          "data": {
            "text/plain": [
              "(2, 4)"
            ]
          },
          "execution_count": 19,
          "metadata": {},
          "output_type": "execute_result"
        }
      ],
      "source": [
        "test_array.reshape(2, 4).shape  # 이렇게 데이터를 변형한 뒤에 다시 shape를 봐도 2x4로 잘 보임"
      ]
    },
    {
      "cell_type": "markdown",
      "metadata": {
        "id": "ksF9n61dtmNl"
      },
      "source": [
        "3. -1 index와 flatten 함수\n",
        "  - -1을 쓰면, row에 맞춰서 column 개수를 맞춰달라는 것으로 해석하여 알아서 4를 사용한다(반대로 .reshape(-1, 2)를 하면 4x2의 배열로 reshape 한다)\n",
        "  - .flatten 함수는 test array를 하나의 row로 변환한다.(1차원으로 변환)"
      ]
    },
    {
      "cell_type": "code",
      "execution_count": 20,
      "metadata": {
        "colab": {
          "base_uri": "https://localhost:8080/"
        },
        "id": "SHiq_uCLtnlL",
        "outputId": "da3f7289-cb41-43f0-bbeb-de06a197c9f2"
      },
      "outputs": [
        {
          "data": {
            "text/plain": [
              "array([[1, 2, 3, 4],\n",
              "       [5, 6, 7, 8]])"
            ]
          },
          "execution_count": 20,
          "metadata": {},
          "output_type": "execute_result"
        }
      ],
      "source": [
        "test_array.reshape(2, -1)  # 2개의 row에 맞춰서 column 수는 \"알아서 맞춰줌\""
      ]
    },
    {
      "cell_type": "code",
      "execution_count": 21,
      "metadata": {
        "colab": {
          "base_uri": "https://localhost:8080/"
        },
        "id": "tDRbGONcuEHx",
        "outputId": "71375566-715e-4b88-9ad1-292abdb1b79c"
      },
      "outputs": [
        {
          "data": {
            "text/plain": [
              "array([[1, 2, 3, 4, 5, 6, 7, 8]])"
            ]
          },
          "execution_count": 21,
          "metadata": {},
          "output_type": "execute_result"
        }
      ],
      "source": [
        "test_array.reshape(-1, 8)"
      ]
    },
    {
      "cell_type": "code",
      "execution_count": 22,
      "metadata": {
        "colab": {
          "base_uri": "https://localhost:8080/"
        },
        "id": "zUhgmGFYtxYy",
        "outputId": "023ba171-9e3f-4f6d-93ec-3bdc8b65c15a"
      },
      "outputs": [
        {
          "data": {
            "text/plain": [
              "array([1, 2, 3, 4, 5, 6, 7, 8])"
            ]
          },
          "execution_count": 22,
          "metadata": {},
          "output_type": "execute_result"
        }
      ],
      "source": [
        "test_array.flatten()  # .reshape(1,-1)과 동일하게 동작해서 한 row로 변환함"
      ]
    },
    {
      "cell_type": "markdown",
      "metadata": {
        "id": "rzS4VoATupY5"
      },
      "source": [
        "마무리\n",
        "  - ndarray의 형태를 바꿔야 하는 경우는 생각보다 많다.\n",
        "  - 주로 다른 데이터와 통합하여 관리하기 위해서는 형태를 바꿔야 하는데,\n",
        "  - 이때 사용되는 함수가 .reshape이다\n",
        "  - 기본 원칙은 '개체 수가 동일하면 reshape은 가능하다'라는 것이다.\n",
        "  - -1 index은 자동으로 숫자를 맞춰주고 flatten 함수는 1차원으로 변환시켜준다"
      ]
    },
    {
      "cell_type": "markdown",
      "metadata": {
        "id": "jiesWd5zu9jA"
      },
      "source": [
        "# **Indexing & Slicing**"
      ]
    },
    {
      "cell_type": "markdown",
      "metadata": {
        "id": "akW9bKsGSVzm"
      },
      "source": [
        "1. 인덱싱 : test_array[1, 2]\n",
        "    - 0-base indexing이기 때문에 첫 줄은 0번 줄이다\n",
        "    - 가로-세로순,\n",
        "    - 0과 1(오른쪽으로 2칸), 1과 2(아래로 2칸) = 예제 기준으로는 3"
      ]
    },
    {
      "cell_type": "code",
      "execution_count": 7,
      "metadata": {
        "id": "TmvC74RnvDUC",
        "outputId": "5cfb489f-cff3-4114-f235-120d4242e4a6"
      },
      "outputs": [
        {
          "name": "stdout",
          "output_type": "stream",
          "text": [
            "6\n",
            "6\n"
          ]
        }
      ],
      "source": [
        "import numpy as np\n",
        "\n",
        "test_list = [[1, 2, 5, 8],\n",
        "             [2, 3, 6, 9],\n",
        "             [3, 4, 7, 10],\n",
        "             [4, 5, 8, 11]] # 4 x 4 array\n",
        "test_array = np.array(test_list, int)\n",
        "\n",
        "print(test_array[1][2]) # 6 출력, # 0-base indexing이기 때문에 첫 줄은 0번 줄이다\n",
        "print(test_array[1, 2]) # 동일하게 6 출력"
      ]
    },
    {
      "cell_type": "markdown",
      "metadata": {
        "id": "WJJacu65vG7o"
      },
      "source": [
        "2. 슬라이싱 : ndarray 배열 참조 규칙\n",
        "    - 배열 한 칸의 내부는 최대 3개 조건으로 설정할 수 있는 'Start(이상):End(미만):Interval'의 parameter를 사용\n",
        "    - ':k' = k 미만, 'k:' = k 이상\n",
        "    - 'k:j' = k 이상 & j 미만\n",
        "    - ' : ' = 모든\n",
        "    - ' ::k'= 전부 k칸씩 띄어서\n",
        "    - 'k::j'= k부터 & 전부 k칸씩 띄어서\n",
        "    - 'k:j:i'= k부터 & j미만까지, k칸씩 띄어서"
      ]
    },
    {
      "cell_type": "markdown",
      "metadata": {
        "id": "04Bh6Bh8SVzm"
      },
      "source": [
        "- Slicing 예제 #1\n",
        "    - Slicing이란 배열 중에서 원하는 부분만 뽑아 쓰기 위해 '잘라서 사용하는' 기능이다.\n",
        "    - 위의 예제를 보면, 행의 위치에 1:2라는 것은 1이상 & 2 미만을 뜻한다.\n",
        "    - 행 위치에 있으니 1 이상 2 미만의 행을 의미하는 것이고, 같은 값이 콤마 뒤에 있었다면 1 이상 2 미만의 열이 되었을 것이다.\n",
        "    - 예제의 열 위치에 있는 :2는 2미만을 뜻한다. 즉, 2 미만의 모든 열을 slice 하라는 의미이다.\n",
        "    - test_array[1:2, :2]는 '2차원 배열'인 [[2,3]] 값을 반환하게 된다."
      ]
    },
    {
      "cell_type": "code",
      "execution_count": 8,
      "metadata": {
        "id": "eaWzBv8zSVzq",
        "outputId": "b8917327-f6e0-42d3-c7de-305b59388dad"
      },
      "outputs": [
        {
          "data": {
            "text/plain": [
              "array([[2, 3]])"
            ]
          },
          "execution_count": 8,
          "metadata": {},
          "output_type": "execute_result"
        }
      ],
      "source": [
        "test_array[1:2, :2] # 1번행 이상 / 2번행 미만, 2번 열 미만 출력 -> \"2차원으로 출력"
      ]
    },
    {
      "cell_type": "markdown",
      "metadata": {
        "id": "Wd3GkPmGSVzq"
      },
      "source": [
        "- Slicing 예제 #2\n",
        "    - 행은 1번 행을 읽어온다.\n",
        "    - 열은 2 미만의 열을 읽어온다.\n",
        "    - 그렇기 때문에 데이터는 [2, 3]이 반환되어 1번 예제와 동일한 결과물 같아 보이지만,\n",
        "    - 2번 예제는 '1차원 배열'을 반환한다."
      ]
    },
    {
      "cell_type": "code",
      "execution_count": 9,
      "metadata": {
        "id": "BwY0kWJ2SVzq",
        "outputId": "72e3192a-85b0-4d38-f9fd-fc73235c5fdb"
      },
      "outputs": [
        {
          "data": {
            "text/plain": [
              "array([2, 3])"
            ]
          },
          "execution_count": 9,
          "metadata": {},
          "output_type": "execute_result"
        }
      ],
      "source": [
        "test_array[1, :2] # 동일하게 출력되지만, -> \"1차원으로 출력"
      ]
    },
    {
      "cell_type": "markdown",
      "metadata": {
        "id": "Nf3kyjYbSVzq"
      },
      "source": [
        "- Slicing 예제 #3\n",
        "    - 행에 세미콜론(:)만 있는 것은 '모든 행'을 뜻한다.\n",
        "    - 열의 2:는 2 이상의 모든 열을 뜻한다.\n",
        "    - 합치면 모든 행의 2열 이상의 데이터를 가져오라 는 의미가 된다."
      ]
    },
    {
      "cell_type": "code",
      "execution_count": 10,
      "metadata": {
        "id": "pqMCZaEcSVzq",
        "outputId": "494a0a2f-b254-4c53-9bcd-1d38fae4f934"
      },
      "outputs": [
        {
          "data": {
            "text/plain": [
              "array([[ 5,  8],\n",
              "       [ 6,  9],\n",
              "       [ 7, 10],\n",
              "       [ 8, 11]])"
            ]
          },
          "execution_count": 10,
          "metadata": {},
          "output_type": "execute_result"
        }
      ],
      "source": [
        "test_array[:, 2:] # 모든 행, 2번 열 이후 출력"
      ]
    },
    {
      "cell_type": "markdown",
      "metadata": {
        "id": "HNtgkaQ0SVzr"
      },
      "source": [
        "-   Slicing 예제 #4\n",
        "    - 모든 행의 데이터를 출력\n",
        "    - 모든 열을 출력하되, 짝수번째 열들만 출력"
      ]
    },
    {
      "cell_type": "code",
      "execution_count": 11,
      "metadata": {
        "id": "SLOQwSTYSVzr",
        "outputId": "62b258d7-0d60-4939-8941-e8229386747f"
      },
      "outputs": [
        {
          "data": {
            "text/plain": [
              "array([[1, 5],\n",
              "       [2, 6],\n",
              "       [3, 7],\n",
              "       [4, 8]])"
            ]
          },
          "execution_count": 11,
          "metadata": {},
          "output_type": "execute_result"
        }
      ],
      "source": [
        "test_array[:, ::2] # 모든 행 + 모든 열을 2칸씩 띄워서"
      ]
    },
    {
      "cell_type": "markdown",
      "metadata": {
        "id": "6H8IsHWpSVzr"
      },
      "source": [
        "-   Slicing 예제 #5\n",
        "    - 'Start:End:Interval'의 문법을 사용한다.\n",
        "    - 그리고 아무런 값이 없을 경우의 Default 값은 Start = 0, End = Total Row/Col count, Interval = 1이다.\n",
        "    - 행의 1::2는 1번부터 시작해서, 끝까지 출력하되, 2 행씩 건너뛰어서 출력하라는 것이다. (1번, 3번 행 출력)\n",
        "    - 열의 0:4:3은 0번 열부터 시작해서, 4번 열 미만까지 출력하되, 3열씩 건너뛰어서 출력하라는 것이다. (0번, 3번 열 출력)"
      ]
    },
    {
      "cell_type": "code",
      "execution_count": 12,
      "metadata": {
        "id": "zsoBe6xeSVzr",
        "outputId": "c5cfd8e1-9f0e-4489-dc89-75c0afb9aad2"
      },
      "outputs": [
        {
          "data": {
            "text/plain": [
              "array([[ 2,  9],\n",
              "       [ 4, 11]])"
            ]
          },
          "execution_count": 12,
          "metadata": {},
          "output_type": "execute_result"
        }
      ],
      "source": [
        "test_array[1::2, 0:4:3] # 1번 행부터 끝까지, 2행씩 띄워서 출력\n",
        "                        # 0번 열부터 4번 미만 열까지, 3열씩 띄워서 출력"
      ]
    },
    {
      "cell_type": "markdown",
      "metadata": {
        "id": "R270yjOeSVzr"
      },
      "source": [
        "마무리\n",
        "\n",
        "- Indexing은 비교적 단순하다. 각 dimension 별로 값을 주면, 해당 위치의 값을 반환해주는 것이 전부다.\n",
        "- Slicing은 생각보다 간단하지 않지만, 원리만 이해하고 나면 쉽게 적용이 된다.\n",
        "    - Start:End:Interval의 문법으로 Slice 할 위치를 지정한다.\n",
        "    - 각 위치의 default 값은 0:Total count:1이다.\n",
        "- 그래서 Start index를 생략하면 처음부터 전부라는 의미이고\n",
        "- End Index를 생략하면 끝까지 전부라는 의미이고\n",
        "- Interval을 생략하면 건너뛰지 않고 전부라는 의미이다."
      ]
    },
    {
      "cell_type": "markdown",
      "metadata": {
        "id": "zdlNpAZISVzr"
      },
      "source": [
        "-------------------------------------"
      ]
    },
    {
      "cell_type": "markdown",
      "metadata": {
        "id": "CwEqWH7Flxij"
      },
      "source": [
        "출처: [ndarray 이해하기](https://coding-grandpa.tistory.com/24)"
      ]
    },
    {
      "cell_type": "markdown",
      "metadata": {
        "id": "tf1nlJShbMQZ"
      },
      "source": [
        "# **Creation Function**"
      ]
    },
    {
      "cell_type": "markdown",
      "metadata": {
        "id": "BHYcY2Xzbank"
      },
      "source": [
        "생성 함수\n",
        "- 말 그대로 무언가를 만드는 함수들을 통칭하는 용어이다.\n",
        "- NumPy는 array를 쉽게 만들기 위한 (내장)함수( :arange, zeros, empty..)들을 제공하고 있다."
      ]
    },
    {
      "cell_type": "markdown",
      "metadata": {
        "id": "hsu_fVTvbVqV"
      },
      "source": [
        "1. arange 함수\n",
        "  - arange는 3개의 Parameter를 입력받는다 : Start, End, Interval.\n",
        "  - Start 이상, End 미만의 값을 Interval 간격으로 생성하여 하나의 배열에 담아주는 함수이다.\n",
        "  - Parameter를 2개만 전달할 경우 Start와 End로 인식하여 동작한다 (Interval의 Default 값은 1이다).\n",
        "  - Parameter를 1개만 전달할 경우 End로 인식하여 동작한다 (Start의 Default 값은 0이다).\n",
        "  - 이렇게 arange를 통해 만들어진 배열을 .reshape 함수를 통해서 원하는 형태로 변형하여 사용할 수도 있다."
      ]
    },
    {
      "cell_type": "code",
      "execution_count": 29,
      "metadata": {
        "colab": {
          "base_uri": "https://localhost:8080/"
        },
        "id": "sOiDmbvmbt68",
        "outputId": "38196d63-557d-48cf-ebc0-9f622e569d55"
      },
      "outputs": [
        {
          "data": {
            "text/plain": [
              "array([0. , 0.5, 1. , 1.5, 2. , 2.5, 3. , 3.5, 4. , 4.5])"
            ]
          },
          "execution_count": 29,
          "metadata": {},
          "output_type": "execute_result"
        }
      ],
      "source": [
        "import numpy as np\n",
        "\n",
        "np.arange(0, 5, 0.5) # 0이상 5미만까지 0.5씩 증가하는 값의 array를 만들어라"
      ]
    },
    {
      "cell_type": "code",
      "execution_count": 30,
      "metadata": {
        "colab": {
          "base_uri": "https://localhost:8080/"
        },
        "id": "l0tAPhmGcTP0",
        "outputId": "777fa3ad-4eea-4a6d-f82c-8b7aa2ee6d22"
      },
      "outputs": [
        {
          "data": {
            "text/plain": [
              "array([ 0,  1,  2,  3,  4,  5,  6,  7,  8,  9, 10, 11, 12, 13, 14, 15, 16,\n",
              "       17, 18, 19, 20, 21, 22, 23, 24, 25, 26, 27, 28, 29])"
            ]
          },
          "execution_count": 30,
          "metadata": {},
          "output_type": "execute_result"
        }
      ],
      "source": [
        "np.arange(30) # 0이상 30미만까지 1씩 증가하는 값의 array를 만들어라"
      ]
    },
    {
      "cell_type": "code",
      "execution_count": 31,
      "metadata": {
        "colab": {
          "base_uri": "https://localhost:8080/"
        },
        "id": "tl-7XfQtcVXM",
        "outputId": "b6e1c4b5-c923-4cc1-c9e2-464cac8abc79"
      },
      "outputs": [
        {
          "data": {
            "text/plain": [
              "array([[ 0,  1,  2,  3,  4,  5],\n",
              "       [ 6,  7,  8,  9, 10, 11],\n",
              "       [12, 13, 14, 15, 16, 17],\n",
              "       [18, 19, 20, 21, 22, 23],\n",
              "       [24, 25, 26, 27, 28, 29]])"
            ]
          },
          "execution_count": 31,
          "metadata": {},
          "output_type": "execute_result"
        }
      ],
      "source": [
        "np.arange(30).reshape(5,6) #array를 np matrix로 변형하여 사용할 수 있다."
      ]
    },
    {
      "cell_type": "markdown",
      "metadata": {
        "id": "gqd5dqm_c3F0"
      },
      "source": [
        "2. zeros 함수\n",
        "  - zeros 함수는 shape와 dtype을 전달받아서 동작하는 함수이다.\n",
        "  - shape를 통해서 크기를 지정해주고, dtype으로 data type을 지정해준다.\n",
        "  - 그러면 shape와 dtype에 해당하는 0으로 채워진 배열을 반환해주는 함수이다."
      ]
    },
    {
      "cell_type": "code",
      "execution_count": 32,
      "metadata": {
        "colab": {
          "base_uri": "https://localhost:8080/"
        },
        "id": "UlE897c1c5tI",
        "outputId": "045276f0-4e6f-4d41-aee0-36cbd4dbb164"
      },
      "outputs": [
        {
          "data": {
            "text/plain": [
              "array([0, 0, 0, 0, 0, 0, 0, 0, 0, 0], dtype=int8)"
            ]
          },
          "execution_count": 32,
          "metadata": {},
          "output_type": "execute_result"
        }
      ],
      "source": [
        "np.zeros(shape=(10,),   # (10,) tuple 형태로 크기 지정\n",
        "         dtype=np.int8) # 0으로 만들어줌"
      ]
    },
    {
      "cell_type": "markdown",
      "metadata": {
        "id": "BFQjsTyVdL3-"
      },
      "source": [
        "3. empty 함수\n",
        "  - zeros 함수와 동일한 parameter를 입력받는 함수이다.\n",
        "많이들 zeros와 헷갈리는 함수인데, zeros와 empty의 차이는 초기화 여부이다.\n",
        "  - zeros는 메모리를 할당받아 0으로 초기화한 뒤에 반환하지만, empty는 메모리 할당만 받고 '초기화 없이 반환'한다.\n",
        "그렇기 때문에 empty 함수를 '실행할 때마다 값이 다른 것을 확인'할 수 있다.\n",
        "  - 이는 해당 메모리 영역에 '어떤 데이터가 남아있었던지 상관없이 그대로 영역의 주소만 알려줄 뿐', 초기화는 사용자에게 맡기기 때문이다.\n",
        "  - empty의 장점은 초기화를 생략하기 때문에 성능이 조금 더 개선된다는 점인데, ***실무에서는 거의 사용되는 적이 없다. ***"
      ]
    },
    {
      "cell_type": "code",
      "execution_count": 33,
      "metadata": {
        "colab": {
          "base_uri": "https://localhost:8080/"
        },
        "id": "KH9yEz-KdaEQ",
        "outputId": "1e8da903-45de-4484-91e2-c165bc47a42e"
      },
      "outputs": [
        {
          "data": {
            "text/plain": [
              "array([0, 0, 0, 0, 0, 0, 0, 0, 0, 0], dtype=int8)"
            ]
          },
          "execution_count": 33,
          "metadata": {},
          "output_type": "execute_result"
        }
      ],
      "source": [
        "np.empty(shape=(10,),   # (10,) tuple 형태로 크기 전달\n",
        "         dtype=np.int8) # dtype 지정"
      ]
    },
    {
      "cell_type": "markdown",
      "metadata": {
        "id": "rwCuzcMAdZmu"
      },
      "source": [
        "(중간 점검 1)\n",
        "\n",
        "  - arange 함수 : start/end/interval을 입력받아서 배열을 만들어준다.\n",
        "  - arange 함수 뒤에 .reshape을 사용해서 크기를 조절하여 사용하는 경우가 많다.\n",
        "  - zeros 함수 : shape과 dtype을 입력받아 0으로 초기화된 배열을 만들어준다.\n",
        "  - empty 함수 : shape과 dtype을 입력 받아 초기화되지 않은 배열을 만들어준다."
      ]
    },
    {
      "cell_type": "markdown",
      "metadata": {
        "id": "BsG4Sb2deV7D"
      },
      "source": [
        "4. ones_like 함수\n",
        "  - ones_like 함수는 'matrix나 vector'를 parameter로 전달받는다.\n",
        "  - 전달받은 matrix/vector와 '동일한 크기'의 matrix/vector를 생성하여 '1로 초기화'하여 반환하는 함수이다.\n",
        "  - dtype을 지정해주면 원하는 data type의 배열로 생성해서 반환한다"
      ]
    },
    {
      "cell_type": "code",
      "execution_count": 34,
      "metadata": {
        "colab": {
          "base_uri": "https://localhost:8080/"
        },
        "id": "sXnCn_5Uef7r",
        "outputId": "7c747fd8-b3c7-487b-905a-83bc02dad706"
      },
      "outputs": [
        {
          "data": {
            "text/plain": [
              "array([[ 0,  1,  2,  3,  4,  5],\n",
              "       [ 6,  7,  8,  9, 10, 11],\n",
              "       [12, 13, 14, 15, 16, 17],\n",
              "       [18, 19, 20, 21, 22, 23],\n",
              "       [24, 25, 26, 27, 28, 29]])"
            ]
          },
          "execution_count": 34,
          "metadata": {},
          "output_type": "execute_result"
        }
      ],
      "source": [
        "test_matrix = np.arange(30).reshape(5,-1) # 샘플용 매트릭스\n",
        "test_matrix"
      ]
    },
    {
      "cell_type": "code",
      "execution_count": 35,
      "metadata": {
        "colab": {
          "base_uri": "https://localhost:8080/"
        },
        "id": "Ec14BiyZejZP",
        "outputId": "21d24611-1e05-49df-e532-81ac6bdd0fea"
      },
      "outputs": [
        {
          "data": {
            "text/plain": [
              "array([[1., 1., 1., 1., 1., 1.],\n",
              "       [1., 1., 1., 1., 1., 1.],\n",
              "       [1., 1., 1., 1., 1., 1.],\n",
              "       [1., 1., 1., 1., 1., 1.],\n",
              "       [1., 1., 1., 1., 1., 1.]], dtype=float32)"
            ]
          },
          "execution_count": 35,
          "metadata": {},
          "output_type": "execute_result"
        }
      ],
      "source": [
        "np.ones_like(test_matrix, np.float32) # 원본과 동일한 크기로 만들어짐"
      ]
    },
    {
      "cell_type": "markdown",
      "metadata": {
        "id": "jcYryvenv3sY"
      },
      "source": [
        "5. Zeros_like 함수\n",
        "  - 이름에서 유추할 수 있듯, ones_like과 완전히 동일하다.\n",
        "  - 유일한 차이점은 1로 초기화하지 않고 0으로 초기화한다는 점만 다르다."
      ]
    },
    {
      "cell_type": "code",
      "execution_count": 36,
      "metadata": {
        "colab": {
          "base_uri": "https://localhost:8080/"
        },
        "id": "62XHBDQkv7af",
        "outputId": "6c4d34aa-7753-4e4b-9b6b-67fe6a126b63"
      },
      "outputs": [
        {
          "data": {
            "text/plain": [
              "array([[0, 0, 0, 0, 0, 0],\n",
              "       [0, 0, 0, 0, 0, 0],\n",
              "       [0, 0, 0, 0, 0, 0],\n",
              "       [0, 0, 0, 0, 0, 0],\n",
              "       [0, 0, 0, 0, 0, 0]], dtype=int8)"
            ]
          },
          "execution_count": 36,
          "metadata": {},
          "output_type": "execute_result"
        }
      ],
      "source": [
        "np.zeros_like(test_matrix, np.int8) # 1 대신 0으로 구성"
      ]
    },
    {
      "cell_type": "markdown",
      "metadata": {
        "id": "fCA5Ve8cwS4V"
      },
      "source": [
        "6. empty_like 함수\n",
        "  - empty_like도 동일하다.\n",
        "  - 유일한 차이점은 초기화 없이 메모리 할당만 받아서 전달한다는 것이다."
      ]
    },
    {
      "cell_type": "code",
      "execution_count": 37,
      "metadata": {
        "colab": {
          "base_uri": "https://localhost:8080/"
        },
        "id": "0ipXIP6WwVa_",
        "outputId": "935ed884-ca76-45f6-cb43-58516fd708bf"
      },
      "outputs": [
        {
          "data": {
            "text/plain": [
              "array([[1065353216, 1065353216, 1065353216, 1065353216, 1065353216,\n",
              "        1065353216],\n",
              "       [1065353216, 1065353216, 1065353216, 1065353216, 1065353216,\n",
              "        1065353216],\n",
              "       [1065353216, 1065353216, 1065353216, 1065353216, 1065353216,\n",
              "        1065353216],\n",
              "       [1065353216, 1065353216, 1065353216, 1065353216, 1065353216,\n",
              "        1065353216],\n",
              "       [1065353216, 1065353216, 1065353216, 1065353216, 1065353216,\n",
              "        1065353216]], dtype=int32)"
            ]
          },
          "execution_count": 37,
          "metadata": {},
          "output_type": "execute_result"
        }
      ],
      "source": [
        "np.empty_like(test_matrix, np.int32)"
      ]
    },
    {
      "cell_type": "markdown",
      "metadata": {
        "id": "Z_3WOz7kw3LB"
      },
      "source": [
        "(중간 점검 2)\n",
        "  - ones_like, zeros_like, empty_like는 따로 shape을 지정해주지 않고, 기존 matrix/vector를 전달할 수 있어서 편리하다."
      ]
    },
    {
      "cell_type": "markdown",
      "metadata": {
        "id": "rIRPKkwlxNfe"
      },
      "source": [
        "  7. Identity 행렬 만들기\n",
        "    - Identity matrix란 *항등 행렬 혹은 단위 행렬* 이라고 불린다..\n",
        "쉽게 말해 '**가운데 대각선의 값**'이 전부 1이고, 나머지는 0으로 채워진 행렬을 뜻한다.\n",
        "    - 숫자들 간의 곱셈을 할 때 어떤 수를 1과 곱해도 원래의 숫자가 나오듯,\n",
        "      - Identity matrix는 어떤 행렬을 곱해도 원래의 행렬이 나오는 행렬을 의미한다.\n",
        "      - 그래서 identity matrix라는 이름을 붙였는데, 오히려 항등 행렬/단위행렬이란 이름은 직관적이지 못하다고 생각한다.\n",
        "    - n은 row/col의 개수로 전달하고, dtype으로 데이터 타입을 지정해주면, n x n의 identity 행렬이 생성된다."
      ]
    },
    {
      "cell_type": "code",
      "execution_count": 38,
      "metadata": {
        "colab": {
          "base_uri": "https://localhost:8080/"
        },
        "id": "mcwfJx2LxUHD",
        "outputId": "1c8b9200-caf2-472e-9d11-ab400f6aa218"
      },
      "outputs": [
        {
          "data": {
            "text/plain": [
              "array([[1, 0, 0, 0, 0],\n",
              "       [0, 1, 0, 0, 0],\n",
              "       [0, 0, 1, 0, 0],\n",
              "       [0, 0, 0, 1, 0],\n",
              "       [0, 0, 0, 0, 1]], dtype=int8)"
            ]
          },
          "execution_count": 38,
          "metadata": {},
          "output_type": "execute_result"
        }
      ],
      "source": [
        "#identity 행렬 만들기 (대각 행렬, 대각선이 1인 행렬)\n",
        "np.identity(n=5, dtype=np.int8) # 5x5의 np.int8의 identity 행렬 생성"
      ]
    },
    {
      "cell_type": "markdown",
      "metadata": {
        "id": "DlJFyYQExyGZ"
      },
      "source": [
        "8. np.eye 함수\n",
        "  - eye 함수로 생성되는 배열은 identity와 유사하다.\n",
        "  - 차이는 Identity 행렬은 항상 nxn의 행렬이라면, eye는 원하는 NxM으로 행렬을 만들 수 있다.\n",
        "  - k 변수를 통해서 identity matrix가 시작할 열을 지정해줄 수 있다.\n",
        "  - 위의 예제에서 보면, N=3/M=5/k=1이기 때문에3x5 행렬을 만들고, 1번 열부터 시작하여 1을 대각선으로 입력하고, 나머지는 0으로 채워진 행렬을 array 형태로 반환한다."
      ]
    },
    {
      "cell_type": "code",
      "execution_count": 39,
      "metadata": {
        "colab": {
          "base_uri": "https://localhost:8080/"
        },
        "id": "itXUZufax1D_",
        "outputId": "521dbb1b-4d4b-4f1a-f26d-d541e1a2558c"
      },
      "outputs": [
        {
          "data": {
            "text/plain": [
              "array([[0, 1, 0, 0, 0],\n",
              "       [0, 0, 1, 0, 0],\n",
              "       [0, 0, 0, 1, 0]], dtype=int8)"
            ]
          },
          "execution_count": 39,
          "metadata": {},
          "output_type": "execute_result"
        }
      ],
      "source": [
        "np.eye(N=3, M=5,      # 총 행렬의 크기는 3x5 로 만들어 달라\n",
        "            k=1,      # identity matrix의 시작은 1열부터 시작하라\n",
        "\t\t\t dtype=np.int8) # dtype은 int8로 설정"
      ]
    },
    {
      "cell_type": "markdown",
      "metadata": {
        "id": "XK_2OgEBylIm"
      },
      "source": [
        "9. np.daig 함수\n",
        "  - diag 함수는 parameter로 전달받은 행렬의 k번째 열부터 있는 대각선의 값들을 1차원 array로 반환하는 함수이다.\n",
        "  - np.diag(matrix, k=1)은 'matrix 행렬의 1번 열부터의 대각선 값들을 반환해줘' 라는 요청이 된다.\n",
        "  - 그렇기 때문에 [0, 1], [1, 2]에 있는 값들을 뽑아서 하나의 배열로 반환한다.\n",
        "  - 그래서 Out[4]는 [1, 5]의 값을 반환하게 된다."
      ]
    },
    {
      "cell_type": "code",
      "execution_count": 40,
      "metadata": {
        "colab": {
          "base_uri": "https://localhost:8080/"
        },
        "id": "g1ah7w1vypb1",
        "outputId": "d273a140-90d3-45cb-b89e-9a25a069376b"
      },
      "outputs": [
        {
          "data": {
            "text/plain": [
              "array([[0, 1, 2],\n",
              "       [3, 4, 5],\n",
              "       [6, 7, 8]])"
            ]
          },
          "execution_count": 40,
          "metadata": {},
          "output_type": "execute_result"
        }
      ],
      "source": [
        "matrix = np.arange(9).reshape(3,-1)\n",
        "matrix"
      ]
    },
    {
      "cell_type": "code",
      "execution_count": 41,
      "metadata": {
        "colab": {
          "base_uri": "https://localhost:8080/"
        },
        "id": "tFsst2CZyw6T",
        "outputId": "1e7cc7e7-e105-420a-b37b-9fedff4b845f"
      },
      "outputs": [
        {
          "data": {
            "text/plain": [
              "array([1, 5])"
            ]
          },
          "execution_count": 41,
          "metadata": {},
          "output_type": "execute_result"
        }
      ],
      "source": [
        "np.diag(matrix, k=1) #matrix의 k열을 기준으로 대각선에 있는 값들을 array에 담아서 반환함"
      ]
    },
    {
      "cell_type": "markdown",
      "metadata": {
        "id": "82nZEBULzAMZ"
      },
      "source": [
        "(중간 점검 3)\n",
        "- Identity 행렬은 행렬의 계산에 항상 필요하기 때문에, 어떤 parameter로 동작하는지 기억해두자.\n",
        "- eye와 diag 함수도 때에 따라 요긴하게 쓰이는 상황들이 생긴다. 저걸 직접 구현하려면 노력 대비 너무 단순한 기능이기 때문에, 주어진 함수를 잘 사용해서 더 의미 있는 알고리즘을 짜는데 시간을 투자하자."
      ]
    },
    {
      "cell_type": "markdown",
      "metadata": {},
      "source": [
        "10. 2차원 배열에서 sum 함수 사용하기"
      ]
    },
    {
      "cell_type": "code",
      "execution_count": 42,
      "metadata": {},
      "outputs": [
        {
          "data": {
            "text/plain": [
              "array([[ 1,  2,  3,  4],\n",
              "       [ 5,  6,  7,  8],\n",
              "       [ 9, 10, 11, 12]])"
            ]
          },
          "execution_count": 42,
          "metadata": {},
          "output_type": "execute_result"
        }
      ],
      "source": [
        "import numpy as np\n",
        "test_array = np.arange(1,13).reshape(3,4) # 1~12까지의 값을 갖는 test_array를 생성한다.\n",
        "test_array"
      ]
    },
    {
      "cell_type": "code",
      "execution_count": 43,
      "metadata": {},
      "outputs": [
        {
          "data": {
            "text/plain": [
              "78"
            ]
          },
          "execution_count": 43,
          "metadata": {},
          "output_type": "execute_result"
        }
      ],
      "source": [
        "test_array.sum() #  배열의 전체 요소들의 합을 반환"
      ]
    },
    {
      "cell_type": "markdown",
      "metadata": {},
      "source": [
        "11. 차원별 sum 구하기"
      ]
    },
    {
      "cell_type": "code",
      "execution_count": 44,
      "metadata": {},
      "outputs": [
        {
          "data": {
            "text/plain": [
              "array([15, 18, 21, 24])"
            ]
          },
          "execution_count": 44,
          "metadata": {},
          "output_type": "execute_result"
        }
      ],
      "source": [
        "test_array.sum(axis=0) # 각 col 행의 합으로 하나의 row 열 구성 = [c-sum,c-sum,c-sum,c-sum]  "
      ]
    },
    {
      "cell_type": "code",
      "execution_count": 45,
      "metadata": {},
      "outputs": [
        {
          "data": {
            "text/plain": [
              "array([10, 26, 42])"
            ]
          },
          "execution_count": 45,
          "metadata": {},
          "output_type": "execute_result"
        }
      ],
      "source": [
        "test_array.sum(axis=1) # 각 row 열의 합으로 하나의 col 행을 구성 = [r-sum,r-sum,r-sum]  "
      ]
    },
    {
      "cell_type": "markdown",
      "metadata": {},
      "source": [
        "12. 3차원에서의 차원 이해하기 (shape 이해하기)"
      ]
    },
    {
      "cell_type": "code",
      "execution_count": 46,
      "metadata": {},
      "outputs": [
        {
          "data": {
            "text/plain": [
              "array([[[ 1,  2,  3,  4],\n",
              "        [ 5,  6,  7,  8],\n",
              "        [ 9, 10, 11, 12]],\n",
              "\n",
              "       [[ 1,  2,  3,  4],\n",
              "        [ 5,  6,  7,  8],\n",
              "        [ 9, 10, 11, 12]],\n",
              "\n",
              "       [[ 1,  2,  3,  4],\n",
              "        [ 5,  6,  7,  8],\n",
              "        [ 9, 10, 11, 12]]])"
            ]
          },
          "execution_count": 46,
          "metadata": {},
          "output_type": "execute_result"
        }
      ],
      "source": [
        "third_order_tensor = np.array([test_array, test_array, test_array]) \n",
        "third_order_tensor"
      ]
    },
    {
      "cell_type": "markdown",
      "metadata": {},
      "source": [
        "3x4 array를 3개 붙이면\n",
        "- 새로운 차원이 제일 앞에 추가되고 총개수는 3개가 된다 \n",
        "- 그래서 첫 axis에 3이 추가된다.\n",
        "- 새로 추가되는 axis가 axis=0이 되고, 기존의 0,1 axis는 각각 1,2 axis로 밀려나게 된다.\n",
        "- 이와 같이 각 차원이 몇번째 axis인지를 볼 수 있어야 한다"
      ]
    },
    {
      "cell_type": "code",
      "execution_count": 47,
      "metadata": {},
      "outputs": [
        {
          "data": {
            "text/plain": [
              "(3, 3, 4)"
            ]
          },
          "execution_count": 47,
          "metadata": {},
          "output_type": "execute_result"
        }
      ],
      "source": [
        "third_order_tensor.shape"
      ]
    },
    {
      "cell_type": "markdown",
      "metadata": {},
      "source": [
        "13. Mathematical functions 수학 연산자 함수 \n",
        "    - 변형된 axis로 차원별 sum, mean, std(표준편차) 계산하기\n",
        "    - 그 외 다양한 연산자\n",
        "        - exponential: exp, expml, exp2, log, 10g10, loglp, 10g2, power, sqrt\n",
        "        - trigonometric: sin, cos, tan, acsin, arccos, atctan \n",
        "        - hyperbolic: sinh, cosh, tanh, acsinh, arccosh, atctanh "
      ]
    },
    {
      "cell_type": "markdown",
      "metadata": {},
      "source": [
        "axis=0인 경우, 새로 추가된 제일 높은 차원들끼리 더하는 것이다. \n",
        "    -  즉, test_array들끼리 더해달라는 것이 되기 때문에 sum(axis=0)의 결과값은 기존 test_array의 각각의 값에 3을 곱한 것과 동일하다 (3 = 1+1+1, 6 = 2+2+2 등)"
      ]
    },
    {
      "cell_type": "code",
      "execution_count": 48,
      "metadata": {},
      "outputs": [
        {
          "data": {
            "text/plain": [
              "array([[ 3,  6,  9, 12],\n",
              "       [15, 18, 21, 24],\n",
              "       [27, 30, 33, 36]])"
            ]
          },
          "execution_count": 48,
          "metadata": {},
          "output_type": "execute_result"
        }
      ],
      "source": [
        "third_order_tensor.sum(axis=0)"
      ]
    },
    {
      "cell_type": "markdown",
      "metadata": {},
      "source": [
        "axis=1인 경우는 test_array의 axis=0과 동일하기 때문에, test_array의 행들끼리 더하라는 의미이다. 그렇기 때문에 15 = 1+5+9, 18 = 2+6+10, 21 = 3+7+11 등의 순서로 결과값이 나온다."
      ]
    },
    {
      "cell_type": "code",
      "execution_count": 49,
      "metadata": {},
      "outputs": [
        {
          "data": {
            "text/plain": [
              "array([[15, 18, 21, 24],\n",
              "       [15, 18, 21, 24],\n",
              "       [15, 18, 21, 24]])"
            ]
          },
          "execution_count": 49,
          "metadata": {},
          "output_type": "execute_result"
        }
      ],
      "source": [
        "third_order_tensor.sum(axis=1)"
      ]
    },
    {
      "cell_type": "markdown",
      "metadata": {},
      "source": [
        "axis=2인 경우는 test_array의 axis=1과 동일하기 때문에, test_array의 열들끼리 더하라는 의미이다. 그렇기 때문에 10 = 1+2+3+4, 26=5+6+7+8, 42=9+10+11+12 등의 결과값이 나오게 된다."
      ]
    },
    {
      "cell_type": "code",
      "execution_count": 50,
      "metadata": {},
      "outputs": [
        {
          "data": {
            "text/plain": [
              "array([[10, 26, 42],\n",
              "       [10, 26, 42],\n",
              "       [10, 26, 42]])"
            ]
          },
          "execution_count": 50,
          "metadata": {},
          "output_type": "execute_result"
        }
      ],
      "source": [
        "third_order_tensor.sum(axis=2)"
      ]
    },
    {
      "cell_type": "code",
      "execution_count": 51,
      "metadata": {},
      "outputs": [
        {
          "data": {
            "text/plain": [
              "array([[ 2.5,  6.5, 10.5],\n",
              "       [ 2.5,  6.5, 10.5],\n",
              "       [ 2.5,  6.5, 10.5]])"
            ]
          },
          "execution_count": 51,
          "metadata": {},
          "output_type": "execute_result"
        }
      ],
      "source": [
        "third_order_tensor.mean(axis=2)"
      ]
    },
    {
      "cell_type": "code",
      "execution_count": 52,
      "metadata": {},
      "outputs": [
        {
          "data": {
            "text/plain": [
              "array([[1.11803399, 1.11803399, 1.11803399],\n",
              "       [1.11803399, 1.11803399, 1.11803399],\n",
              "       [1.11803399, 1.11803399, 1.11803399]])"
            ]
          },
          "execution_count": 52,
          "metadata": {},
          "output_type": "execute_result"
        }
      ],
      "source": [
        "third_order_tensor.std(axis=2)"
      ]
    },
    {
      "cell_type": "markdown",
      "metadata": {},
      "source": [
        "마무리\n",
        "- 배열 계산을 할 경우 차원을 이해하는 것은 정말 중요하다.\n",
        "- 새로 추가되는 차원은 앞의 index로 추가된다는 기본 규칙을 이해하는 것이 중요하다.\n",
        "- 그런 차원들중에서 각각 합을 구하고 싶으면 axis parameter를 통해서 전달할 수 있다.\n",
        "- 내가 의도한 코드를 잘 짜는 것도 중요하지만, 다른 사람이 짠 코드의 의도를 정확하게 이해하기 \n",
        "    - 위해서는 배열의 차원을 이해하고, 차원별로 합/평균/표준편차를 구했을 때 어떤 의미인지 이해하는 것이 매우 중요하다."
      ]
    },
    {
      "cell_type": "markdown",
      "metadata": {},
      "source": [
        "# **random sampling 함수** "
      ]
    },
    {
      "cell_type": "markdown",
      "metadata": {},
      "source": [
        "1. np.random.uniform, 균등 분포 정보를 생성하여 array에 만들기"
      ]
    },
    {
      "cell_type": "code",
      "execution_count": 15,
      "metadata": {},
      "outputs": [
        {
          "data": {
            "text/plain": [
              "array([0.89943302, 0.25134183, 0.31769065, 0.32529121, 0.52262105,\n",
              "       0.77911074, 0.88340608, 0.49678297, 0.90235298, 0.06667087,\n",
              "       0.61596349, 0.90074438, 0.51445868, 0.65704727, 0.53128098,\n",
              "       0.13151622, 0.14285406, 0.79341152, 0.1012568 , 0.21997143,\n",
              "       0.75581849, 0.60525128, 0.63766362, 0.84198714, 0.23606937,\n",
              "       0.2188299 , 0.19213914, 0.35850438, 0.66987183, 0.56201678,\n",
              "       0.22588746, 0.45643369, 0.94567916, 0.36225458, 0.25309986,\n",
              "       0.54858477, 0.06185472, 0.64494731, 0.35804031, 0.690393  ,\n",
              "       0.89723323, 0.29203183, 0.27931551, 0.14229641, 0.72882015,\n",
              "       0.12801964, 0.49465631, 0.89552835, 0.81200799, 0.89853471,\n",
              "       0.8664579 , 0.96983906, 0.35169284, 0.68127336, 0.84249714,\n",
              "       0.06378663, 0.61740659, 0.06554155, 0.44338583, 0.73530711,\n",
              "       0.34495145, 0.44227884, 0.5282908 , 0.29293849, 0.12841884,\n",
              "       0.15483031, 0.97477802, 0.837102  , 0.36116674, 0.00826994,\n",
              "       0.17827848, 0.40689908, 0.37735868, 0.6618889 , 0.615573  ,\n",
              "       0.88346986, 0.34594558, 0.87852805, 0.00470305, 0.13804606,\n",
              "       0.75755771, 0.13620567, 0.73241762, 0.51299297, 0.12885212,\n",
              "       0.35858065, 0.85582754, 0.61040303, 0.35248749, 0.64647751,\n",
              "       0.10995485, 0.68071396, 0.02003191, 0.3351522 , 0.55627021,\n",
              "       0.49201496, 0.41585137, 0.31264558, 0.64810324, 0.04309137,\n",
              "       0.83211061, 0.15530826, 0.80703557, 0.00822375, 0.00288574,\n",
              "       0.03000859, 0.91868777, 0.82693558, 0.6542569 , 0.82660907,\n",
              "       0.16215108, 0.79933001, 0.32213568, 0.03710954, 0.44919371,\n",
              "       0.78790019, 0.35677872, 0.103069  , 0.21535497, 0.94690659,\n",
              "       0.3094691 , 0.39573869, 0.01972329, 0.07850349, 0.2456201 ,\n",
              "       0.83426147, 0.72529525, 0.6140914 , 0.72793396, 0.94380935,\n",
              "       0.94830832, 0.99649144, 0.16023806, 0.44958389, 0.16407768,\n",
              "       0.85299447, 0.705709  , 0.29155379, 0.13412935, 0.97243033,\n",
              "       0.9314792 , 0.15019182, 0.5213763 , 0.17410263, 0.40013189,\n",
              "       0.99303409, 0.82124571, 0.87883132, 0.98902055, 0.8490973 ,\n",
              "       0.93782262, 0.21657655, 0.57468277, 0.02089624, 0.38855937,\n",
              "       0.19390199, 0.170033  , 0.82197726, 0.33530037, 0.45241034,\n",
              "       0.01592896, 0.72653995, 0.38052411, 0.9331507 , 0.49241737,\n",
              "       0.68777979, 0.25737029, 0.40950493, 0.55149272, 0.78145026,\n",
              "       0.79576153, 0.25176963, 0.85640167, 0.98957479, 0.84029068,\n",
              "       0.41149257, 0.9773794 , 0.27836923, 0.11783324, 0.98217611,\n",
              "       0.99976805, 0.01417761, 0.24962804, 0.65457534, 0.30739708,\n",
              "       0.72623114, 0.09813008, 0.12240703, 0.98162303, 0.89869413,\n",
              "       0.02226842, 0.49156832, 0.15230233, 0.50902522, 0.46224194,\n",
              "       0.650409  , 0.15058446, 0.54236918, 0.40878789, 0.37556107,\n",
              "       0.30711915, 0.58207872, 0.55544204, 0.63117309, 0.58177476,\n",
              "       0.70594794, 0.61505131, 0.47040993, 0.59930227, 0.37465353,\n",
              "       0.68732246, 0.89990594, 0.9521867 , 0.20188915, 0.9428628 ,\n",
              "       0.22227558, 0.03150461, 0.04137675, 0.9936028 , 0.13407438,\n",
              "       0.89479782, 0.40527484, 0.26601216, 0.32079551, 0.80924913,\n",
              "       0.70878963, 0.96760517, 0.8352451 , 0.05872066, 0.63745155,\n",
              "       0.38033147, 0.49774957, 0.47660815, 0.88469396, 0.96549715,\n",
              "       0.76709983, 0.57438945, 0.18243608, 0.22950948, 0.58840329,\n",
              "       0.86262485, 0.09138008, 0.2140988 , 0.81425851, 0.22648923,\n",
              "       0.48696125, 0.96987637, 0.57203189, 0.397264  , 0.54711013,\n",
              "       0.14401139, 0.86975916, 0.26483889, 0.32619767, 0.40211807,\n",
              "       0.32063861, 0.30923591, 0.96330177, 0.59136508, 0.68520914,\n",
              "       0.46556254, 0.61028102, 0.75290104, 0.65813436, 0.67696934,\n",
              "       0.23489415, 0.02872158, 0.43844665, 0.15126707, 0.07195437,\n",
              "       0.71303769, 0.9071601 , 0.74242785, 0.84786605, 0.94109337,\n",
              "       0.30558675, 0.25083758, 0.3272557 , 0.4861265 , 0.75524426,\n",
              "       0.08217601, 0.59364541, 0.30749763, 0.63942235, 0.23296036,\n",
              "       0.39720311, 0.33002987, 0.23287218, 0.87978201, 0.76420742,\n",
              "       0.10598124, 0.41496385, 0.29338059, 0.01955407, 0.76052473,\n",
              "       0.93989814, 0.41056182, 0.3776977 , 0.50754182, 0.5176298 ,\n",
              "       0.49400211, 0.08967936, 0.99335882, 0.16456831, 0.52548358,\n",
              "       0.85727736, 0.37966853, 0.65784252, 0.9488643 , 0.25094676,\n",
              "       0.58796379, 0.25693991, 0.76914714, 0.85355854, 0.92451369,\n",
              "       0.07273253, 0.47518629, 0.79205127, 0.36203199, 0.87576435,\n",
              "       0.25691118, 0.15284298, 0.00671337, 0.71557574, 0.79442268,\n",
              "       0.41747757, 0.5904003 , 0.78152195, 0.76862753, 0.07499619,\n",
              "       0.01086498, 0.73875482, 0.84166613, 0.89281329, 0.48184745,\n",
              "       0.98852868, 0.19447494, 0.96331187, 0.81519939, 0.55556934,\n",
              "       0.87044249, 0.93605265, 0.21790841, 0.97672033, 0.7450159 ,\n",
              "       0.63610335, 0.53115997, 0.07351361, 0.02860982, 0.72205595,\n",
              "       0.69118895, 0.41299288, 0.24894478, 0.99941333, 0.96024617,\n",
              "       0.39584116, 0.19706097, 0.77660914, 0.05753102, 0.40010327,\n",
              "       0.0847524 , 0.96205396, 0.32755944, 0.86680857, 0.46136215,\n",
              "       0.06175159, 0.60071066, 0.1807124 , 0.89169798, 0.73722634,\n",
              "       0.5322909 , 0.37323725, 0.67574603, 0.44515366, 0.84712978,\n",
              "       0.18523578, 0.58528058, 0.7132169 , 0.27971893, 0.42980496,\n",
              "       0.28416687, 0.05505216, 0.64961983, 0.14032423, 0.75517523,\n",
              "       0.46606122, 0.40611965, 0.43027157, 0.43100921, 0.60711525,\n",
              "       0.95286372, 0.21990892, 0.63027721, 0.54966088, 0.07307091,\n",
              "       0.25925684, 0.7855584 , 0.45525203, 0.54401128, 0.27110439,\n",
              "       0.75037349, 0.36214113, 0.48871069, 0.88374946, 0.85206013,\n",
              "       0.15982901, 0.02239399, 0.84166776, 0.68263573, 0.59417435,\n",
              "       0.15399168, 0.87279597, 0.93595629, 0.27359105, 0.27587114,\n",
              "       0.03555146, 0.94983339, 0.22929324, 0.07628048, 0.33523597,\n",
              "       0.89307296, 0.45882704, 0.86876572, 0.86107132, 0.88423559,\n",
              "       0.03346477, 0.06633795, 0.37346061, 0.00883579, 0.09305824,\n",
              "       0.1761741 , 0.07382358, 0.3001406 , 0.8375722 , 0.30324249,\n",
              "       0.89629205, 0.17630507, 0.73828736, 0.45051464, 0.63282318,\n",
              "       0.55438544, 0.23873328, 0.93065694, 0.33931541, 0.66525095,\n",
              "       0.03628097, 0.5238573 , 0.60620922, 0.33800368, 0.67890362,\n",
              "       0.25927515, 0.14417167, 0.15993749, 0.82673751, 0.7890284 ,\n",
              "       0.74009014, 0.01270197, 0.44879848, 0.12407451, 0.74656991,\n",
              "       0.82782399, 0.11727612, 0.69773521, 0.66098021, 0.57227528,\n",
              "       0.84513718, 0.65214933, 0.4557423 , 0.31383482, 0.12571137,\n",
              "       0.95570843, 0.27490055, 0.57567293, 0.11870483, 0.59918862,\n",
              "       0.91874238, 0.69553719, 0.89187664, 0.8568003 , 0.4302121 ,\n",
              "       0.13182311, 0.02991226, 0.58586856, 0.94319988, 0.54071067,\n",
              "       0.71381617, 0.21079024, 0.77288094, 0.13403967, 0.83824454,\n",
              "       0.76976812, 0.79538388, 0.2654571 , 0.91498863, 0.72194471,\n",
              "       0.32386709, 0.89253454, 0.96207326, 0.89747798, 0.92170139,\n",
              "       0.58648997, 0.17481776, 0.73959106, 0.42975852, 0.722686  ,\n",
              "       0.11282782, 0.5359689 , 0.92923701, 0.57932934, 0.49976952,\n",
              "       0.49922117, 0.56018725, 0.62448832, 0.55555256, 0.08196761,\n",
              "       0.31602671, 0.21608385, 0.32359423, 0.61538942, 0.92060997,\n",
              "       0.64892682, 0.44321499, 0.07697249, 0.46619499, 0.07769362,\n",
              "       0.27268021, 0.82963299, 0.57890027, 0.74914884, 0.59372723,\n",
              "       0.8152901 , 0.51310416, 0.47458743, 0.47145798, 0.89506671,\n",
              "       0.04465564, 0.70035442, 0.15917289, 0.32516829, 0.45843187,\n",
              "       0.568026  , 0.33261329, 0.15134982, 0.96713665, 0.51975682,\n",
              "       0.22340462, 0.34654846, 0.33051609, 0.62644245, 0.82736805,\n",
              "       0.01954448, 0.56538566, 0.18993734, 0.73048754, 0.33520277,\n",
              "       0.85140306, 0.88160891, 0.29227091, 0.47602634, 0.40753609,\n",
              "       0.32408853, 0.72365504, 0.41280908, 0.05860073, 0.08402131,\n",
              "       0.40668634, 0.23857693, 0.15500008, 0.31224259, 0.70449353,\n",
              "       0.86153098, 0.10031701, 0.65502815, 0.98494619, 0.12569247,\n",
              "       0.17782315, 0.59008691, 0.05919448, 0.10078153, 0.62855829,\n",
              "       0.83875189, 0.70440968, 0.68158775, 0.51751457, 0.82883835,\n",
              "       0.59649673, 0.70301711, 0.15614963, 0.87365346, 0.91469119,\n",
              "       0.17531498, 0.09902479, 0.64646427, 0.79353205, 0.71373709,\n",
              "       0.00944114, 0.64511548, 0.44279371, 0.01150966, 0.05671018,\n",
              "       0.08175397, 0.32524613, 0.71036344, 0.34603208, 0.05788279,\n",
              "       0.48315528, 0.03115716, 0.48509315, 0.35392398, 0.65837319,\n",
              "       0.1488935 , 0.52769473, 0.06972836, 0.88700475, 0.32994828,\n",
              "       0.37125783, 0.13019257, 0.86461012, 0.74134357, 0.40868447,\n",
              "       0.2316728 , 0.68973963, 0.30038709, 0.77132816, 0.99737392,\n",
              "       0.39918375, 0.22446549, 0.28633593, 0.00597317, 0.7063429 ,\n",
              "       0.5418777 , 0.52982299, 0.04698351, 0.9922195 , 0.55707691,\n",
              "       0.73252541, 0.41162422, 0.40197993, 0.88236317, 0.41908242,\n",
              "       0.10396692, 0.47482048, 0.28764241, 0.1982837 , 0.18250738,\n",
              "       0.89827464, 0.41064845, 0.38167725, 0.61746621, 0.41249096,\n",
              "       0.37836366, 0.35622139, 0.90304341, 0.98576491, 0.29499417,\n",
              "       0.35222421, 0.38652986, 0.84250268, 0.37398546, 0.14898122,\n",
              "       0.65739053, 0.06331502, 0.54619284, 0.95425255, 0.75471253,\n",
              "       0.50828192, 0.24909095, 0.84423195, 0.59179463, 0.32950265,\n",
              "       0.23188579, 0.51837316, 0.11842568, 0.95652909, 0.23798308,\n",
              "       0.94150379, 0.39036516, 0.38814163, 0.67424467, 0.55704151,\n",
              "       0.98476415, 0.84120135, 0.48163583, 0.65049949, 0.69329132,\n",
              "       0.28481676, 0.14667667, 0.95975115, 0.78794195, 0.40721876,\n",
              "       0.63090366, 0.3823975 , 0.18598089, 0.4391254 , 0.27818238,\n",
              "       0.81370096, 0.50815652, 0.85289906, 0.35674616, 0.39982239,\n",
              "       0.21254307, 0.62124983, 0.88552632, 0.80893149, 0.51337158,\n",
              "       0.93031552, 0.97965822, 0.30798283, 0.59849229, 0.77143109,\n",
              "       0.58738016, 0.31374524, 0.25794904, 0.22564016, 0.29487588,\n",
              "       0.26998632, 0.15834422, 0.12092724, 0.87367128, 0.48316005,\n",
              "       0.93253802, 0.48554802, 0.69834301, 0.08424521, 0.62542702,\n",
              "       0.96790908, 0.32235113, 0.5884384 , 0.52729548, 0.99273048,\n",
              "       0.66310903, 0.80215757, 0.93885823, 0.38070298, 0.04006093,\n",
              "       0.27213748, 0.13105694, 0.57291516, 0.75962631, 0.89853435,\n",
              "       0.70510157, 0.2739328 , 0.44963778, 0.72808347, 0.60046355,\n",
              "       0.86721859, 0.06470188, 0.15778867, 0.95554179, 0.91786188,\n",
              "       0.97022913, 0.25761846, 0.12673955, 0.10652857, 0.94061077,\n",
              "       0.51527745, 0.46008343, 0.31136727, 0.03006088, 0.06723519,\n",
              "       0.64083239, 0.39686123, 0.91382186, 0.36429669, 0.30811221,\n",
              "       0.44322366, 0.66881651, 0.46422671, 0.51839219, 0.30526806,\n",
              "       0.02602746, 0.88962629, 0.15917762, 0.91959515, 0.71913003,\n",
              "       0.84394933, 0.12288312, 0.79115307, 0.51863816, 0.09894127,\n",
              "       0.92107757, 0.27357235, 0.18944869, 0.14640963, 0.16309168,\n",
              "       0.63665747, 0.56283683, 0.48955384, 0.69874874, 0.79897193,\n",
              "       0.13841184, 0.8931181 , 0.51418613, 0.37563669, 0.73778645,\n",
              "       0.1862715 , 0.0148157 , 0.46630086, 0.74700156, 0.67793747,\n",
              "       0.07946821, 0.72393981, 0.93145116, 0.91171279, 0.60902707,\n",
              "       0.13045817, 0.50614802, 0.43359984, 0.81191521, 0.71243358,\n",
              "       0.49426849, 0.09819014, 0.55338909, 0.31292039, 0.45664157,\n",
              "       0.97791792, 0.03665223, 0.81136805, 0.10988185, 0.95812699,\n",
              "       0.51495916, 0.5783407 , 0.00386091, 0.51129712, 0.64283513,\n",
              "       0.42058722, 0.41695711, 0.5846315 , 0.57449686, 0.10502759,\n",
              "       0.56927674, 0.67471546, 0.40147092, 0.76817391, 0.79622127,\n",
              "       0.99226794, 0.74604743, 0.72214599, 0.89708479, 0.51072205,\n",
              "       0.13760357, 0.11955301, 0.3020656 , 0.95958943, 0.16609032,\n",
              "       0.29208032, 0.37483885, 0.19173582, 0.58160807, 0.00942682,\n",
              "       0.24322649, 0.5685983 , 0.76811666, 0.11771428, 0.42818736,\n",
              "       0.63172439, 0.30024846, 0.4771101 , 0.88919092, 0.03012199,\n",
              "       0.96008474, 0.82997631, 0.1582999 , 0.70535189, 0.67380371,\n",
              "       0.55568046, 0.46947432, 0.59932244, 0.65060255, 0.60285158,\n",
              "       0.19594713, 0.17731571, 0.01996565, 0.89077086, 0.61719953,\n",
              "       0.95461326, 0.63728453, 0.27449324, 0.16686317, 0.31197347,\n",
              "       0.63714474, 0.29785664, 0.05349613, 0.80161243, 0.13578344,\n",
              "       0.96583459, 0.14041404, 0.77706923, 0.83756402, 0.26285397,\n",
              "       0.08180738, 0.27609166, 0.57802405, 0.10867721, 0.77721981,\n",
              "       0.91786829, 0.06375397, 0.44669516, 0.20679974, 0.23665724,\n",
              "       0.71722111, 0.639815  , 0.76810256, 0.89612675, 0.44134349,\n",
              "       0.95570462, 0.71080113, 0.17000425, 0.55838677, 0.37938796,\n",
              "       0.31294872, 0.01421603, 0.19036179, 0.87765265, 0.00244367,\n",
              "       0.65445932, 0.45480966, 0.01186683, 0.58489807, 0.36334775,\n",
              "       0.15844225, 0.92789952, 0.15393147, 0.99641328, 0.99058583,\n",
              "       0.24141812, 0.26823813, 0.88686757, 0.6917125 , 0.10540885,\n",
              "       0.5907691 , 0.66510387, 0.77973816, 0.15874826, 0.33838655,\n",
              "       0.55369074, 0.47852078, 0.52302525, 0.18881521, 0.16379735,\n",
              "       0.37112754, 0.20424983, 0.96969797, 0.66467984, 0.34669726,\n",
              "       0.76996337, 0.08681573, 0.80121705, 0.04092584, 0.39167305,\n",
              "       0.26167891, 0.67206578, 0.51375293, 0.00879028, 0.77001464,\n",
              "       0.64255203, 0.65901585, 0.971628  , 0.79551314, 0.89273472,\n",
              "       0.59349955, 0.38668196, 0.62335296, 0.46356884, 0.72217746,\n",
              "       0.13092605, 0.55638264, 0.84825986, 0.22142525, 0.7853935 ,\n",
              "       0.27028631, 0.8154465 , 0.94922213, 0.67573669, 0.28080209,\n",
              "       0.6274696 , 0.90870699, 0.18734941, 0.39213782, 0.39708146,\n",
              "       0.4171306 , 0.63349648, 0.89009804, 0.4895191 , 0.30420735,\n",
              "       0.49242394, 0.13558579, 0.54855166, 0.66811221, 0.48188195,\n",
              "       0.45560859, 0.69733524, 0.29088812, 0.31790431, 0.20687914,\n",
              "       0.10739598, 0.92603708, 0.36799052, 0.88192295, 0.24407471])"
            ]
          },
          "execution_count": 15,
          "metadata": {},
          "output_type": "execute_result"
        }
      ],
      "source": [
        "np.random.uniform(0,1,1000) # [균등 분포 Parameter] 최소 0, 최대 1, 개수 1000개"
      ]
    },
    {
      "cell_type": "markdown",
      "metadata": {},
      "source": [
        "2. np.random.normal, 정규분포"
      ]
    },
    {
      "cell_type": "code",
      "execution_count": 16,
      "metadata": {},
      "outputs": [
        {
          "data": {
            "text/plain": [
              "array([-1.88783355e+00, -9.99009544e-01, -1.32918820e+00, -1.29662724e+00,\n",
              "        5.68474257e-01, -1.63254185e+00,  1.04708089e+00,  2.56234847e-01,\n",
              "       -4.06108347e-01, -4.58009368e-01,  6.29352354e-01,  5.89257073e-01,\n",
              "        1.59320674e+00,  1.18542697e-01, -6.82042231e-01, -6.10660524e-01,\n",
              "        1.17761252e+00, -5.27698478e-01, -1.85995485e-01, -2.46867125e-01,\n",
              "        2.09504606e-01, -9.93570912e-01,  1.00278610e+00, -7.77986427e-01,\n",
              "       -1.10761031e+00, -1.73071906e+00, -4.46601308e-01, -6.42216049e-01,\n",
              "        1.77695579e+00, -1.57063339e+00,  7.77579717e-01, -6.80612147e-01,\n",
              "       -1.14914680e+00,  3.20152641e-01, -3.81693613e-01, -3.30487074e-01,\n",
              "       -1.51986932e+00, -1.77122711e+00,  1.44118057e+00, -1.21744111e+00,\n",
              "        2.83655599e+00,  3.80170186e-01,  2.87439134e-01, -2.47978749e+00,\n",
              "       -1.44573425e+00, -1.56491708e-02, -4.36498935e-01,  8.35779604e-01,\n",
              "        6.44253442e-01, -1.08521134e+00,  1.28360673e+00,  1.07542977e+00,\n",
              "        3.14706210e-02, -1.73392141e+00, -1.27886689e-01,  1.46225961e-01,\n",
              "       -3.96639219e-01, -1.03920916e+00, -1.08643782e-01,  5.08443521e-01,\n",
              "       -8.02798960e-01, -9.44255411e-01,  1.84910291e-01,  2.04947285e-01,\n",
              "        1.54214265e+00, -6.38519437e-01,  2.30992185e-01, -1.57719355e-01,\n",
              "       -1.04119011e+00,  7.76742465e-01,  1.35601275e-01, -9.43054691e-02,\n",
              "       -1.23196869e+00, -2.67813391e-02,  5.13915820e-01, -9.89552490e-01,\n",
              "       -1.19570224e+00, -1.84989087e+00,  8.93724027e-01, -1.06713024e+00,\n",
              "        6.43086651e-01,  1.97861359e+00,  1.42657204e-01,  9.03684322e-01,\n",
              "        6.49792986e-01, -1.18961541e-01, -2.00209678e+00, -2.41654504e+00,\n",
              "        1.26286200e-01,  1.51571750e+00, -4.10394607e-01,  1.78478305e+00,\n",
              "       -1.59510340e+00, -8.57077307e-01, -9.55747100e-01, -3.83930028e-01,\n",
              "        5.20326085e-01,  4.24867694e-01,  8.77336098e-01, -8.34055632e-01,\n",
              "       -3.30818055e-01, -1.01467961e+00, -3.71397545e-01, -5.61189867e-01,\n",
              "        2.31528693e+00, -1.77052361e+00, -1.18195830e+00,  1.22484124e+00,\n",
              "        3.37272796e-01,  1.09330163e+00,  7.27103830e-01, -6.55902274e-01,\n",
              "        1.11830014e+00, -1.49767464e+00,  9.27350105e-01, -1.17141287e+00,\n",
              "       -1.68290082e-01, -2.01102653e-01,  6.04472742e-01, -2.07041969e-02,\n",
              "       -3.51667978e-02,  1.54292751e+00, -4.57282526e-01,  4.31285802e-01,\n",
              "        4.27921076e-01, -6.82651790e-02, -9.84890686e-01,  3.49233055e-01,\n",
              "        5.77381058e-01,  2.33119350e-01, -1.09553815e-02,  1.17774253e+00,\n",
              "        5.81335995e-02,  2.81672232e-01,  1.82305233e-01,  5.88538938e-01,\n",
              "        5.60933500e-01,  7.27390073e-01,  7.53544414e-02, -2.66805636e-01,\n",
              "       -1.76183245e+00, -1.55391713e-01, -1.85222711e-01,  3.01013901e-01,\n",
              "        3.30785303e-01,  1.46290675e+00,  7.43489286e-02, -1.32747858e-01,\n",
              "        2.97270418e-01, -9.73480841e-02, -1.80329940e-01, -6.34975136e-01,\n",
              "        1.31792944e+00, -2.32910130e-01,  5.83125921e-01,  3.96421726e-01,\n",
              "       -5.39412748e-03,  1.87168722e-01, -1.62445882e+00, -3.28319160e-01,\n",
              "        6.03888258e-02, -6.02348499e-01,  1.34619780e+00,  2.47219438e-01,\n",
              "        1.97179284e+00,  3.02206868e-01, -5.67478990e-02, -6.13105091e-01,\n",
              "        1.18287526e+00,  4.30495174e-01,  1.24663189e+00, -1.73716310e+00,\n",
              "        5.00137748e-01, -2.34629931e-01, -6.79622626e-01,  1.07085778e+00,\n",
              "        2.20255548e+00, -6.77521579e-01,  1.24548851e+00, -2.04358144e-01,\n",
              "        7.30949066e-01,  1.39781445e+00,  1.07622568e+00, -7.65946916e-01,\n",
              "        4.25035837e-01,  1.27350284e+00, -4.56158022e-01, -1.75410946e-01,\n",
              "        3.58120872e-01,  1.12319641e+00,  7.22667605e-01, -7.18478393e-01,\n",
              "        1.78202461e+00, -9.98993935e-01,  8.68886753e-01,  1.66798352e-01,\n",
              "        1.59047380e+00,  1.44444522e+00,  5.73618970e-01,  2.76544422e-01,\n",
              "       -1.92442037e+00, -3.38669660e-01, -7.29270159e-01, -3.38393622e-01,\n",
              "        3.81799187e-01,  2.28671706e+00,  9.43756334e-01, -3.65040010e-01,\n",
              "        1.13467656e+00,  7.19194618e-01,  2.06307966e-01, -8.75253953e-01,\n",
              "       -6.57126206e-01,  1.56145487e+00, -2.53889114e-01,  8.12725533e-02,\n",
              "        2.58982494e-02,  1.20722177e-01, -1.27509934e-01,  7.75268860e-02,\n",
              "        1.70739043e+00,  2.60052618e-01, -9.48886712e-01, -4.93164998e-01,\n",
              "        1.19000998e-01,  7.19897236e-01, -2.35992400e-01,  6.48361950e-01,\n",
              "       -2.73766822e-01, -4.72942981e-01, -9.59813716e-01,  4.71538830e-01,\n",
              "        2.49455383e-02, -1.21345343e-01, -3.48893009e-01,  1.56213935e+00,\n",
              "        2.83672979e-01,  8.34057969e-01, -4.78528890e-01, -7.03761881e-02,\n",
              "       -1.52292347e+00, -1.83035733e-01, -2.04257988e+00, -1.47886542e+00,\n",
              "       -3.39846984e-01,  2.58718901e+00,  1.00860764e+00,  7.75391829e-01,\n",
              "       -1.50113878e+00, -4.89060680e-02,  1.33459804e+00, -9.70947748e-02,\n",
              "        1.07224839e+00, -8.35913668e-01, -1.71141520e+00,  5.17505195e-01,\n",
              "        1.86104907e-01,  6.32043265e-01,  4.65851679e-01,  3.02439270e-01,\n",
              "       -3.39990774e-01, -1.22828687e+00,  3.88315503e-02,  5.99969865e-01,\n",
              "        1.15140441e-01,  1.72847445e-01,  1.44397136e+00,  1.47138682e+00,\n",
              "        1.47703790e-01, -8.88140664e-02, -7.67778207e-02,  1.62268531e+00,\n",
              "        8.57614941e-02,  1.91952769e-01, -3.26405685e-02,  1.00791409e+00,\n",
              "       -2.87818360e-01,  7.22094172e-01,  6.03952130e-01, -6.76067224e-02,\n",
              "       -1.38335014e+00,  1.75363952e-01, -4.68187099e-01, -1.46613868e+00,\n",
              "       -1.43679333e+00, -8.01872561e-01, -7.68583642e-01, -1.00110727e-01,\n",
              "        8.11956072e-02, -8.40253728e-02, -1.48634099e+00,  7.27572883e-02,\n",
              "        9.01997616e-01,  1.46862575e+00,  1.96593227e+00,  1.56601741e+00,\n",
              "       -2.44563298e-01,  1.14776962e+00,  3.60279663e-01, -1.60066413e+00,\n",
              "        1.65604113e+00, -1.27990282e+00, -4.05986889e-01,  9.90009951e-02,\n",
              "       -3.22319992e-01,  1.42373267e-01,  2.12247958e-01,  1.67016536e-01,\n",
              "       -8.16536964e-01, -1.89220889e+00, -9.56532896e-01, -3.59322528e-01,\n",
              "        1.81226891e-01, -2.17138309e-01,  2.41239346e+00,  1.77806535e-02,\n",
              "       -1.19421433e+00,  4.16856769e-01, -3.00306222e-02,  7.13283127e-02,\n",
              "        8.14462556e-01, -3.00026777e-01, -2.03292733e-01,  2.59950529e-01,\n",
              "        1.53202387e+00,  1.15164407e+00,  2.07029094e-01, -1.82121748e+00,\n",
              "        6.67528774e-01,  2.53342684e-01,  1.27795522e-01, -2.11615603e-01,\n",
              "       -1.24255092e-01,  3.00974005e-02, -9.09051319e-02,  4.13841469e-01,\n",
              "       -3.37982963e-01, -6.95103614e-01, -6.53847321e-01,  1.38332553e+00,\n",
              "       -1.50272013e+00,  6.89862591e-01, -1.09006073e+00,  7.81556882e-02,\n",
              "        4.13569114e-01,  1.35259606e+00, -4.65654275e-02, -1.05532201e+00,\n",
              "        1.24103875e+00, -5.87111030e-02, -1.53704149e+00, -9.64803596e-01,\n",
              "       -5.03370117e-01,  1.08830764e+00,  3.10697642e-01, -2.57575255e-01,\n",
              "       -1.65264683e+00,  1.27175496e+00,  2.34332182e+00,  3.14754277e-02,\n",
              "        1.49434703e+00,  6.85741120e-01,  5.93878390e-01,  6.61014374e-01,\n",
              "        6.19210867e-01, -2.33572156e+00, -6.29433856e-02,  1.23743194e-01,\n",
              "       -3.89806867e-01,  7.67608233e-01,  5.35488700e-01, -1.34649818e-01,\n",
              "       -1.14055042e+00, -1.64689868e+00,  1.15665266e+00, -1.13289565e+00,\n",
              "       -4.25411352e-01,  2.00744545e-01, -1.64480454e+00, -1.64284580e+00,\n",
              "       -1.39819577e+00, -1.81648506e-01, -7.96520588e-02, -9.04311884e-01,\n",
              "        8.07003455e-01,  2.51627970e+00,  3.34029872e-02, -5.33329180e-01,\n",
              "        6.74298569e-03, -3.43486228e-01,  1.70009128e+00, -1.00676115e+00,\n",
              "        1.24792786e+00, -5.01162309e-01,  9.25785766e-01, -3.00151692e-01,\n",
              "        8.69848099e-02, -1.94986712e-01,  5.17980204e-01,  6.81592602e-01,\n",
              "        2.19694581e+00,  4.41739336e-01,  1.05419845e+00,  1.37013570e+00,\n",
              "       -1.05677895e+00,  2.15030506e-01,  5.82141825e-01, -1.26877238e+00,\n",
              "       -1.05339930e+00, -5.98929097e-01, -1.29117432e-01, -8.10160465e-01,\n",
              "       -2.39712670e+00,  6.79858681e-01, -1.24595784e+00, -1.13471849e+00,\n",
              "        1.71263502e+00, -1.09563922e+00,  3.80068543e-01,  8.86519644e-01,\n",
              "        2.51870662e-01, -1.36807827e+00,  1.35981940e+00, -1.90333254e+00,\n",
              "       -1.06199509e+00, -1.27398097e+00,  1.32785087e+00,  3.35124500e-01,\n",
              "       -1.12988764e+00,  4.28776795e-01,  1.36402147e-01,  5.50013560e-01,\n",
              "       -2.28937656e-01,  2.82121210e-01,  9.75656072e-01, -7.90470369e-01,\n",
              "       -6.11173378e-01,  7.85710948e-01,  7.14811288e-01, -1.12500455e+00,\n",
              "       -6.55107685e-02, -5.15076976e-01,  8.69879952e-01,  3.89519326e-01,\n",
              "       -2.49081536e+00, -4.52255762e-01, -1.03313722e-01, -1.75165204e-01,\n",
              "        1.10839577e+00,  1.12318994e+00, -1.22438851e+00, -3.70981826e+00,\n",
              "       -5.67127873e-01,  3.21709523e-01,  7.00895149e-01, -7.66202135e-02,\n",
              "       -1.30385386e-02,  1.37948637e+00,  2.60068709e-01, -3.14600809e+00,\n",
              "        2.58227810e-01, -4.47116537e-01,  2.66326340e-01,  7.95202346e-02,\n",
              "       -1.38443106e-01, -1.88500032e-01,  2.03639094e-01, -2.85953989e-01,\n",
              "       -9.07524261e-01, -6.13673465e-02,  5.53551624e-01,  4.04696501e-01,\n",
              "       -1.75231693e-01, -6.21691609e-02,  6.01460507e-02, -4.89122168e-01,\n",
              "        3.92791263e-01, -8.71908849e-02,  5.34563478e-01, -8.77445853e-01,\n",
              "        2.27601394e+00, -2.65995114e-01, -1.16722712e-01, -8.31164806e-01,\n",
              "        6.80459262e-01, -5.07539464e-01,  4.39667784e-01,  2.43367784e-01,\n",
              "       -3.02244708e-02, -8.83646363e-01, -6.72309293e-01,  2.53946207e+00,\n",
              "       -1.94606159e-01,  4.22142739e-01, -4.91840182e-01,  1.80352101e+00,\n",
              "        5.22087512e-01,  7.87753176e-01,  1.10198292e+00, -3.97128998e-02,\n",
              "       -2.18019092e+00,  1.04580813e+00,  7.76281476e-01, -6.11917568e-01,\n",
              "       -1.69712780e+00, -1.28063775e+00, -1.91452649e+00,  3.21596566e-01,\n",
              "        8.71567467e-01, -1.06557256e+00,  5.72190756e-01, -5.44921822e-02,\n",
              "       -6.31897919e-01, -1.01390154e+00,  5.12504181e-01,  2.74162963e-01,\n",
              "       -7.38202830e-01, -1.78631838e+00,  1.96992124e+00,  1.08883626e+00,\n",
              "       -6.55588090e-01,  4.25646178e-01,  2.40252267e+00, -8.70190634e-01,\n",
              "       -6.07230874e-01,  9.73316996e-01,  2.06496492e-01,  9.27808581e-01,\n",
              "       -1.15995193e+00, -1.34411375e-01, -1.60535228e-01,  4.34948969e-01,\n",
              "        1.69030504e+00,  1.63036183e+00, -2.02438499e-01,  2.30333958e+00,\n",
              "       -1.08864929e+00,  2.64712672e-01, -8.09471899e-01,  8.02595295e-01,\n",
              "       -1.26330545e+00, -5.44217053e-01, -7.37572078e-01,  4.14021710e-01,\n",
              "        4.26154066e-01,  1.13182912e-01,  7.35067466e-01,  2.34698899e-01,\n",
              "        1.05302363e+00, -9.17717889e-01, -6.82313294e-02,  9.32343714e-01,\n",
              "       -2.00002840e+00,  1.08346451e+00,  1.09101233e-01,  3.84672690e-01,\n",
              "       -6.69194344e-01, -6.93138044e-01, -1.66335156e+00,  5.94498911e-01,\n",
              "        2.53446251e-01, -1.26335882e+00,  3.46438128e-02,  1.33568050e+00,\n",
              "       -8.98450621e-01,  3.11718270e-01, -7.34389731e-01,  1.08323523e+00,\n",
              "        7.20191312e-01,  2.36765977e-01,  2.64765613e-01, -1.89072467e+00,\n",
              "       -1.79483389e-01,  1.17039392e-01, -1.47869234e+00, -1.84800177e+00,\n",
              "       -5.77744798e-01,  5.55366516e-02,  1.77096382e+00,  6.80955236e-01,\n",
              "       -2.43102883e-01,  9.01252205e-01, -7.30887767e-01,  7.55386730e-01,\n",
              "       -2.70128960e+00,  1.72582410e-01, -2.05010832e-02,  4.31063408e-01,\n",
              "        4.51069348e-02, -6.02590659e-01, -1.21890675e+00,  2.46773364e+00,\n",
              "       -9.10145308e-01,  6.62335656e-01, -1.14291424e-01,  2.40689008e-01,\n",
              "       -5.35215067e-01, -8.31356345e-01, -2.18309409e-01, -5.27766844e-01,\n",
              "        6.25363053e-01, -1.20821507e-01, -6.89255321e-01,  3.83290950e-01,\n",
              "        1.22823208e+00, -1.96222199e-01,  8.63237165e-01, -1.10555207e+00,\n",
              "       -4.07332476e-01,  5.58476473e-01,  9.32828527e-01,  2.72300029e+00,\n",
              "       -2.08033335e-01,  6.36489468e-01,  8.76706095e-01,  3.66797367e-01,\n",
              "       -1.19593757e-01,  1.94089231e+00, -6.09093804e-01,  4.77593135e-01,\n",
              "       -1.04384857e+00,  4.39440536e-01, -1.10763301e+00, -4.90833778e-01,\n",
              "        1.37321020e+00,  2.06577993e-01, -8.04664490e-01, -2.64170765e-01,\n",
              "       -3.21599996e-01, -4.91278276e-01,  1.76716340e+00, -2.25099556e+00,\n",
              "        1.74311369e-01, -3.13683011e+00,  4.17814813e-01,  6.17223741e-01,\n",
              "       -7.69564181e-01, -8.05485741e-01, -1.74067877e+00,  2.20157925e-01,\n",
              "        1.06759135e+00, -7.77309232e-01, -7.20658839e-01, -5.75424545e-01,\n",
              "       -1.05723052e+00,  1.66136333e+00, -1.86634723e-01, -7.05747720e-01,\n",
              "        1.37597008e+00, -2.16113284e+00,  3.53156848e-01,  4.77883258e-01,\n",
              "        7.54953467e-01,  2.83014418e-01,  9.56918926e-01, -8.06365042e-01,\n",
              "       -8.99499070e-01, -1.24356519e+00, -2.09712202e-01, -1.15065539e+00,\n",
              "        4.94036332e-01,  4.01769180e-01, -7.85231843e-01, -6.12314507e-01,\n",
              "       -1.04058138e+00, -8.62584977e-01, -1.92756470e+00,  3.57712271e-01,\n",
              "        1.48165349e+00,  1.38265373e-01, -1.16634023e+00, -1.95809114e-01,\n",
              "        1.09549509e+00,  1.64704537e-01,  8.66410863e-01,  2.05306830e+00,\n",
              "       -7.37715083e-01,  7.35202158e-01,  5.16823013e-01, -1.42505959e-01,\n",
              "       -6.35492799e-02,  6.99450292e-01,  8.39719237e-01, -1.11031408e+00,\n",
              "        7.80303842e-02, -1.08996367e+00, -9.83240688e-01,  3.35797470e-01,\n",
              "       -6.09365137e-01, -1.76911590e-01,  2.46635534e-01, -2.23754294e+00,\n",
              "       -1.23280523e+00, -1.98667074e+00, -5.99056231e-01, -1.15988685e+00,\n",
              "       -1.82796418e-01, -9.43179547e-03,  5.09859605e-01,  1.86479771e-01,\n",
              "       -7.48354072e-01,  3.16723942e-01,  3.13067869e-01, -1.65391639e+00,\n",
              "        3.66235310e-02,  2.07402002e-02, -1.48419654e+00, -5.07503887e-01,\n",
              "        1.40843626e-01, -1.69550220e-01,  3.00285185e-01, -3.65002273e-01,\n",
              "       -1.43837997e-01,  6.93335660e-01,  6.32867181e-01,  7.57925148e-01,\n",
              "       -5.66601145e-01,  2.63019201e-01,  9.77272179e-01, -4.47547456e-01,\n",
              "        4.27029573e-02,  3.77621268e-01,  1.29197558e+00, -2.83098564e-01,\n",
              "       -1.77026592e-01,  2.18344692e-01,  6.90765864e-01, -2.39833355e+00,\n",
              "       -2.04507575e-01,  4.18140610e-01,  8.51533020e-01, -1.26227164e+00,\n",
              "        1.00331129e+00,  1.90719085e+00,  6.31465306e-01,  5.16085067e-01,\n",
              "        1.02842093e+00,  9.53971152e-01, -4.95708481e-01,  1.08678433e+00,\n",
              "        1.65608634e-01, -9.45857336e-01,  3.90260912e-01, -3.85685203e-01,\n",
              "       -1.74166552e-01,  5.04489984e-01, -1.87341168e-01, -1.09620737e+00,\n",
              "       -1.75165541e+00, -6.00977170e-01, -1.07303145e+00,  1.70812235e-01,\n",
              "        7.39579198e-01, -1.09674175e+00, -2.80052165e-01, -3.79858553e-01,\n",
              "        1.07843641e+00,  7.83735461e-01, -6.43095596e-01, -9.02196131e-01,\n",
              "        2.45708586e-01,  1.88394511e+00,  5.70185614e-01, -1.57889701e+00,\n",
              "       -1.09772118e+00,  6.89534123e-01, -4.02893632e-01, -3.41082706e-01,\n",
              "       -1.10039359e+00, -1.07368928e-01, -8.10223097e-02,  9.58064792e-02,\n",
              "        9.54187246e-02, -9.72149157e-01, -3.43636422e-01, -8.22197513e-02,\n",
              "       -3.95624054e-01,  5.20754392e-01, -5.31534982e-01, -2.32669400e-01,\n",
              "        9.58143422e-01, -1.12445360e+00, -1.45823180e+00, -2.04399389e-01,\n",
              "        1.42274731e-01, -2.26039850e-01, -8.10586501e-01,  5.47868291e-01,\n",
              "        4.06508823e-01,  3.72193496e-01,  1.15685729e+00, -2.56891925e-01,\n",
              "       -9.88371650e-01,  6.61337847e-01, -3.17442239e-01,  1.90901081e+00,\n",
              "       -5.51539143e-02, -7.56907931e-01, -5.46543355e-01, -6.10478908e-01,\n",
              "       -7.02816147e-01,  7.61636391e-01,  2.07370087e-01,  4.68791400e-01,\n",
              "       -1.11576456e-01, -8.01967064e-02, -1.36668435e+00, -9.27227683e-01,\n",
              "       -8.01586447e-01,  9.06433976e-01, -1.11747102e+00,  6.74713320e-02,\n",
              "       -1.28340388e+00,  1.03513973e-01, -4.87453761e-01,  1.94081864e-01,\n",
              "        7.85577997e-02, -1.35529665e+00,  8.17383730e-01,  4.35322945e-01,\n",
              "        4.49379623e-02, -1.98922406e+00,  9.81528065e-01, -6.45763799e-02,\n",
              "        1.30327820e-02,  1.63537948e-02, -1.28435369e+00, -1.15488516e-01,\n",
              "       -4.09983843e-01, -2.73416481e+00,  1.08104203e-01,  5.07020438e-02,\n",
              "        1.12409495e+00, -1.95868466e+00,  2.47941065e-01, -4.77566145e-01,\n",
              "       -2.47367062e-02, -1.13895641e+00,  2.18707840e-03,  1.72446428e-01,\n",
              "       -6.04177324e-01, -1.92334269e-01, -2.36531901e+00, -6.78795830e-01,\n",
              "        6.89262994e-01,  1.99010831e+00,  3.93909008e-01, -1.02542965e+00,\n",
              "       -1.46395146e+00, -4.40828830e-03,  1.62825706e-01,  9.60176213e-01,\n",
              "        8.87547096e-01, -6.70188591e-01,  3.09610540e-01, -5.63916683e-01,\n",
              "       -2.93794106e-01,  1.87092640e-01,  5.67300796e-01, -3.01965087e-01,\n",
              "       -3.29343865e-01,  3.75256703e-01,  4.61057138e-01,  9.37319274e-03,\n",
              "        6.81649087e-01, -2.19319595e-01,  8.26647439e-02,  7.10584008e-01,\n",
              "       -1.62326109e+00,  1.87128679e+00,  7.21954739e-01,  2.89074881e-01,\n",
              "        9.44480739e-01,  3.60275858e-01, -6.92938167e-01,  9.27518900e-01,\n",
              "       -6.26561981e-01,  7.58327202e-01, -1.23537057e+00, -1.35997877e-01,\n",
              "        5.93220796e-02,  3.70319106e-01,  1.12279885e+00, -5.32631171e-01,\n",
              "        2.45851440e-02, -2.76264717e-01, -6.44102517e-01, -6.76603058e-01,\n",
              "        1.97525614e+00, -3.62975382e-01,  1.63936492e-01,  1.45267563e+00,\n",
              "       -7.84761275e-01, -3.97104716e-01,  4.66857965e-01, -8.04547766e-01,\n",
              "        1.69719674e-01,  4.86277491e-01,  1.13658595e+00, -4.60111662e-01,\n",
              "        7.11689449e-01,  6.44870234e-01,  3.07317368e+00, -7.47623111e-01,\n",
              "        2.26150602e+00,  8.99470763e-01, -3.50871235e-01,  2.27964799e-01,\n",
              "        1.31825671e+00,  1.56566254e+00,  3.67069604e-01,  1.40003836e+00,\n",
              "        1.26453987e+00,  1.40814157e+00, -3.67188193e-01, -2.08073393e+00,\n",
              "        1.22388330e-01,  1.83994775e-01,  1.21341532e+00,  5.45508118e-01,\n",
              "        1.04410942e-01, -2.12330377e+00, -3.70455372e-01, -2.46199409e-01,\n",
              "        1.44846746e+00,  5.54427255e-01,  2.76538273e+00,  1.50843184e+00,\n",
              "        2.70410615e-01,  1.99741354e-01,  5.88950240e-02, -1.91920188e-01,\n",
              "       -2.66784956e-01, -1.58924522e-01,  1.11336325e-01, -8.42522484e-01,\n",
              "        1.94312464e+00, -2.05138575e+00, -1.39974085e+00, -1.69808404e+00,\n",
              "       -2.86439896e+00, -5.25197837e-01, -2.77478368e-01,  1.41130631e+00,\n",
              "       -9.81163775e-01, -1.61739358e+00,  7.04030930e-01, -1.52728013e-01,\n",
              "        3.33115117e-01, -1.19558824e+00,  1.36395953e+00,  1.35808944e+00,\n",
              "        1.11524511e+00, -1.54694732e-01,  1.96919244e-01,  1.24257222e+00,\n",
              "       -3.13371819e+00, -9.35609586e-01,  1.00863428e+00, -6.36024469e-01,\n",
              "        6.83360937e-01, -3.96770047e-01, -6.17972334e-01,  1.10108201e+00,\n",
              "       -4.48518878e-02,  5.75226485e-01,  1.12077111e+00,  4.46252724e-01,\n",
              "        9.90770190e-02, -1.26459370e+00,  5.67274804e-01,  1.02919089e+00,\n",
              "        3.23634052e-01,  1.98367945e+00,  8.72680444e-01, -1.55394621e+00,\n",
              "        7.28249838e-01, -3.32239555e-01,  3.04372574e+00, -8.83156243e-01,\n",
              "        1.01626985e-01, -9.71692903e-01, -1.03287346e+00,  1.05617311e+00,\n",
              "       -8.90850557e-01,  1.44063015e+00, -1.48937072e+00,  6.26009663e-01,\n",
              "       -2.09976739e+00, -1.69909017e+00, -1.89822717e+00,  5.67670782e-01,\n",
              "        7.19315652e-01,  1.74214019e-01,  6.54714062e-01, -5.27636428e-01,\n",
              "       -4.12859821e-01,  7.81785973e-02,  1.09195613e+00,  1.30515520e-01])"
            ]
          },
          "execution_count": 16,
          "metadata": {},
          "output_type": "execute_result"
        }
      ],
      "source": [
        "np.random.normal(0,1,1000) # [정규분포] 평균 0, 표준편차 1, 개수 1000개"
      ]
    },
    {
      "cell_type": "markdown",
      "metadata": {},
      "source": [
        "# **Array 붙이기**"
      ]
    },
    {
      "cell_type": "markdown",
      "metadata": {},
      "source": [
        "1. hstack과 vstack 함수\n",
        "    - vstack/hstack과 concatenate 함수를 통해서 두 개 이상의 '백터 array(배열)'을 하나로 합칠 수 있다"
      ]
    },
    {
      "cell_type": "code",
      "execution_count": 53,
      "metadata": {},
      "outputs": [
        {
          "data": {
            "text/plain": [
              "array([1, 2, 3])"
            ]
          },
          "execution_count": 53,
          "metadata": {},
          "output_type": "execute_result"
        }
      ],
      "source": [
        "a = np.arange(1,4) \n",
        "a"
      ]
    },
    {
      "cell_type": "code",
      "execution_count": 54,
      "metadata": {},
      "outputs": [
        {
          "data": {
            "text/plain": [
              "array([4, 5, 6])"
            ]
          },
          "execution_count": 54,
          "metadata": {},
          "output_type": "execute_result"
        }
      ],
      "source": [
        "b = np.arange(4,7) \n",
        "b"
      ]
    },
    {
      "cell_type": "markdown",
      "metadata": {},
      "source": [
        "- horizontal stack, 두 개의 배열을 좌우로 붙여주는 함수 - 때문에 row의 개수는 '동일'해야 한다"
      ]
    },
    {
      "cell_type": "code",
      "execution_count": 55,
      "metadata": {},
      "outputs": [
        {
          "data": {
            "text/plain": [
              "array([1, 2, 3, 4, 5, 6])"
            ]
          },
          "execution_count": 55,
          "metadata": {},
          "output_type": "execute_result"
        }
      ],
      "source": [
        "np.hstack((a,b))"
      ]
    },
    {
      "cell_type": "markdown",
      "metadata": {},
      "source": [
        "- vertical stack,  두 개의 배열을 위아래로 붙여주는 함수 - 붙여야하기 때문에 col의 개수는 동일해야 한다"
      ]
    },
    {
      "cell_type": "code",
      "execution_count": 56,
      "metadata": {},
      "outputs": [
        {
          "data": {
            "text/plain": [
              "array([[1, 2, 3],\n",
              "       [4, 5, 6]])"
            ]
          },
          "execution_count": 56,
          "metadata": {},
          "output_type": "execute_result"
        }
      ],
      "source": [
        "np.vstack((a,b))"
      ]
    },
    {
      "cell_type": "markdown",
      "metadata": {},
      "source": [
        "2. np.concatenate 함수"
      ]
    },
    {
      "cell_type": "code",
      "execution_count": 57,
      "metadata": {},
      "outputs": [
        {
          "data": {
            "text/plain": [
              "(array([[1, 2],\n",
              "        [3, 4]]),\n",
              " array([[5],\n",
              "        [6]]))"
            ]
          },
          "execution_count": 57,
          "metadata": {},
          "output_type": "execute_result"
        }
      ],
      "source": [
        "c = np.array([[1, 2], [3, 4]]) \n",
        "d = np.array([[5], [6]]) \n",
        "c, d"
      ]
    },
    {
      "cell_type": "code",
      "execution_count": 60,
      "metadata": {},
      "outputs": [
        {
          "data": {
            "text/plain": [
              "array([[1, 2, 5],\n",
              "       [3, 4, 6]])"
            ]
          },
          "execution_count": 60,
          "metadata": {},
          "output_type": "execute_result"
        }
      ],
      "source": [
        "np.concatenate((c,d), axis=1)"
      ]
    },
    {
      "cell_type": "code",
      "execution_count": 71,
      "metadata": {},
      "outputs": [
        {
          "data": {
            "text/plain": [
              "(array([[1, 2],\n",
              "        [3, 4]]),\n",
              " array([5, 6]))"
            ]
          },
          "execution_count": 71,
          "metadata": {},
          "output_type": "execute_result"
        }
      ],
      "source": [
        "e = np.array([[1, 2], [3, 4]]) \n",
        "f = np.array([5, 6]) # shape == (2,) \n",
        "e, f"
      ]
    },
    {
      "cell_type": "code",
      "execution_count": 69,
      "metadata": {},
      "outputs": [
        {
          "data": {
            "text/plain": [
              "(2, 2)"
            ]
          },
          "execution_count": 69,
          "metadata": {},
          "output_type": "execute_result"
        }
      ],
      "source": [
        "e.shape"
      ]
    },
    {
      "cell_type": "code",
      "execution_count": 72,
      "metadata": {},
      "outputs": [
        {
          "data": {
            "text/plain": [
              "(2,)"
            ]
          },
          "execution_count": 72,
          "metadata": {},
          "output_type": "execute_result"
        }
      ],
      "source": [
        "f.shape"
      ]
    },
    {
      "cell_type": "markdown",
      "metadata": {},
      "source": [
        "e에 f를 (axis=1)로 병합하기 위해 shape을 맞추는 과정\n",
        "- hstack과 vstack와 마찬가지로 concatenate 또한 추가를 위해서는 row/col의 개수 맞추어야 한다\n",
        "- 만약 axis=0으로 concatenate을 할 경우에는 행을 추가해야 한다"
      ]
    },
    {
      "cell_type": "code",
      "execution_count": 62,
      "metadata": {},
      "outputs": [
        {
          "data": {
            "text/plain": [
              "array([[5, 6]])"
            ]
          },
          "execution_count": 62,
          "metadata": {},
          "output_type": "execute_result"
        }
      ],
      "source": [
        "f = f[np.newaxis,:] # 차원을 추가한다 \n",
        "f # shape == (1,2)  # 새로운 차원이 앞으로!, 기존 차원은 뒤로 이동!!"
      ]
    },
    {
      "cell_type": "code",
      "execution_count": 63,
      "metadata": {},
      "outputs": [
        {
          "data": {
            "text/plain": [
              "(2, 1)"
            ]
          },
          "execution_count": 63,
          "metadata": {},
          "output_type": "execute_result"
        }
      ],
      "source": [
        "f.T.shape # shape == (2,1)"
      ]
    },
    {
      "cell_type": "code",
      "execution_count": 66,
      "metadata": {},
      "outputs": [
        {
          "data": {
            "text/plain": [
              "array([[5],\n",
              "       [6]])"
            ]
          },
          "execution_count": 66,
          "metadata": {},
          "output_type": "execute_result"
        }
      ],
      "source": [
        "f.T "
      ]
    },
    {
      "cell_type": "code",
      "execution_count": 64,
      "metadata": {},
      "outputs": [
        {
          "data": {
            "text/plain": [
              "array([[1, 2, 5],\n",
              "       [3, 4, 6]])"
            ]
          },
          "execution_count": 64,
          "metadata": {},
          "output_type": "execute_result"
        }
      ],
      "source": [
        "np.concatenate((e,f.T), axis=1)"
      ]
    },
    {
      "cell_type": "markdown",
      "metadata": {},
      "source": [
        "# **b/t arrays** "
      ]
    },
    {
      "cell_type": "markdown",
      "metadata": {},
      "source": [
        "1. Array와 Array 간의 사칙 연산 \n",
        "    - 같은 크기의 array 간 연산을 하면 행렬의 연산과 동일하게 각 요소들 간의 연산이 수행된다. "
      ]
    },
    {
      "cell_type": "code",
      "execution_count": 17,
      "metadata": {},
      "outputs": [
        {
          "data": {
            "text/plain": [
              "array([[1., 2., 3.],\n",
              "       [4., 5., 6.]])"
            ]
          },
          "execution_count": 17,
          "metadata": {},
          "output_type": "execute_result"
        }
      ],
      "source": [
        "import numpy as np\n",
        "test_a = np.array([[1,2,3], [4,5,6]], float) \n",
        "test_a"
      ]
    },
    {
      "cell_type": "code",
      "execution_count": 18,
      "metadata": {},
      "outputs": [
        {
          "data": {
            "text/plain": [
              "array([[ 2.,  4.,  6.],\n",
              "       [ 8., 10., 12.]])"
            ]
          },
          "execution_count": 18,
          "metadata": {},
          "output_type": "execute_result"
        }
      ],
      "source": [
        "test_a + test_a"
      ]
    },
    {
      "cell_type": "code",
      "execution_count": 19,
      "metadata": {},
      "outputs": [
        {
          "data": {
            "text/plain": [
              "array([[0., 0., 0.],\n",
              "       [0., 0., 0.]])"
            ]
          },
          "execution_count": 19,
          "metadata": {},
          "output_type": "execute_result"
        }
      ],
      "source": [
        "test_a - test_a"
      ]
    },
    {
      "cell_type": "markdown",
      "metadata": {},
      "source": [
        "2. ndarray 곱과 피보팅 : Dot Product(스칼라곱-내적)와 Transpose(전치 행렬 매트릭스)"
      ]
    },
    {
      "cell_type": "code",
      "execution_count": 20,
      "metadata": {},
      "outputs": [
        {
          "data": {
            "text/plain": [
              "array([[1, 2, 3],\n",
              "       [4, 5, 6]])"
            ]
          },
          "execution_count": 20,
          "metadata": {},
          "output_type": "execute_result"
        }
      ],
      "source": [
        "test_a = np.arange(1,7).reshape(2,3) \n",
        "test_a"
      ]
    },
    {
      "cell_type": "code",
      "execution_count": 21,
      "metadata": {},
      "outputs": [
        {
          "data": {
            "text/plain": [
              "array([[ 7,  8],\n",
              "       [ 9, 10],\n",
              "       [11, 12]])"
            ]
          },
          "execution_count": 21,
          "metadata": {},
          "output_type": "execute_result"
        }
      ],
      "source": [
        "test_b = np.arange(7,13).reshape(3,2) \n",
        "test_b"
      ]
    },
    {
      "cell_type": "markdown",
      "metadata": {},
      "source": [
        "- Dot Product : 선형대수학에서 스칼라곱 또는 점곱은 유클리드 공간의 두 벡터로부터 실수 스칼라를 얻는 연산이다. \n",
        "    - 스칼라곱이 유클리드 공간의 내적을 이루므로, 이를 단순히 '내적'이라고 부르기도 한다. \n",
        "    - 스칼라곱의 개념의 물리학 배경은 주어진 힘이 주어진 변위의 물체에 가한 일을 구하는 문제이다. \n",
        "    - 유클리드 공간의 두 벡터로부터 실수 스칼라를 얻는 연산이다."
      ]
    },
    {
      "cell_type": "code",
      "execution_count": 22,
      "metadata": {},
      "outputs": [
        {
          "data": {
            "text/plain": [
              "array([[ 58,  64],\n",
              "       [139, 154]])"
            ]
          },
          "execution_count": 22,
          "metadata": {},
          "output_type": "execute_result"
        }
      ],
      "source": [
        "test_a.dot(test_b)"
      ]
    },
    {
      "cell_type": "markdown",
      "metadata": {},
      "source": [
        "- Transposed matrix : 선형대수학에서 전치 행렬은 행과 열을 교환하여 얻는 행렬이다. \n",
        "    - 주대각선을 축으로 하는 반사 대칭을 가하여 얻는 행렬이다.\n",
        "    - .transpose 혹은 .T 연산자를 사용해서 행렬을 transpose 할 수 있다."
      ]
    },
    {
      "cell_type": "code",
      "execution_count": 23,
      "metadata": {},
      "outputs": [
        {
          "data": {
            "text/plain": [
              "array([[1, 4],\n",
              "       [2, 5],\n",
              "       [3, 6]])"
            ]
          },
          "execution_count": 23,
          "metadata": {},
          "output_type": "execute_result"
        }
      ],
      "source": [
        "test_a.transpose()"
      ]
    },
    {
      "cell_type": "code",
      "execution_count": 24,
      "metadata": {},
      "outputs": [
        {
          "data": {
            "text/plain": [
              "array([[1, 4],\n",
              "       [2, 5],\n",
              "       [3, 6]])"
            ]
          },
          "execution_count": 24,
          "metadata": {},
          "output_type": "execute_result"
        }
      ],
      "source": [
        "test_a.T"
      ]
    },
    {
      "cell_type": "markdown",
      "metadata": {},
      "source": [
        "- test_a를 Transpose 한 결과값에 test_a함수 곱하기 "
      ]
    },
    {
      "cell_type": "code",
      "execution_count": 25,
      "metadata": {},
      "outputs": [
        {
          "data": {
            "text/plain": [
              "array([[17, 22, 27],\n",
              "       [22, 29, 36],\n",
              "       [27, 36, 45]])"
            ]
          },
          "execution_count": 25,
          "metadata": {},
          "output_type": "execute_result"
        }
      ],
      "source": [
        "test_a.transpose().dot(test_a) # test_a.T.dot(test_a)"
      ]
    },
    {
      "cell_type": "markdown",
      "metadata": {},
      "source": [
        "3. Array와 Scalar 간의 연산\n",
        "    - array와 scalar를 더하면 각 요소에 scalar를 더한 것과 동일한 연산을 수행한다.\n",
        "    - 3이라는 scalar 값이 [[3., 3., 3.], [3., 3., 3.]] 배열로 확장되어 연산된다.\n",
        "    - 이러한 동작을 broadcasting이라고 한다.\n",
        "    - broadcasting의 정의는 '같은 shape으로 복사/확장'이다."
      ]
    },
    {
      "cell_type": "markdown",
      "metadata": {},
      "source": [
        "- 용어 비교\n",
        "    - 스칼라 (수학): 벡터 공간에서 벡터를 곱할 수 있는 양\n",
        "    - 스칼라 (물리): 특정 좌표계와 관련이 없는 양 \n",
        "    - 변수 (컴퓨터 과학): 한번에 하나의 값만 보유할 수 있는 원자량."
      ]
    },
    {
      "cell_type": "code",
      "execution_count": 26,
      "metadata": {},
      "outputs": [
        {
          "data": {
            "text/plain": [
              "array([[1., 2., 3.],\n",
              "       [4., 5., 6.]])"
            ]
          },
          "execution_count": 26,
          "metadata": {},
          "output_type": "execute_result"
        }
      ],
      "source": [
        "test_c = np.array([[1,2,3], [4,5,6]], float) \n",
        "test_c"
      ]
    },
    {
      "cell_type": "code",
      "execution_count": 27,
      "metadata": {},
      "outputs": [],
      "source": [
        "scalar = 3"
      ]
    },
    {
      "cell_type": "code",
      "execution_count": 28,
      "metadata": {},
      "outputs": [
        {
          "data": {
            "text/plain": [
              "array([[4., 5., 6.],\n",
              "       [7., 8., 9.]])"
            ]
          },
          "execution_count": 28,
          "metadata": {},
          "output_type": "execute_result"
        }
      ],
      "source": [
        "test_c + scalar"
      ]
    },
    {
      "cell_type": "code",
      "execution_count": 29,
      "metadata": {},
      "outputs": [
        {
          "data": {
            "text/plain": [
              "array([[ 5.,  6.,  7.],\n",
              "       [ 8.,  9., 10.]])"
            ]
          },
          "execution_count": 29,
          "metadata": {},
          "output_type": "execute_result"
        }
      ],
      "source": [
        "test_c + 4"
      ]
    },
    {
      "cell_type": "markdown",
      "metadata": {},
      "source": [
        "4. Array와 vector 간의 연산\n",
        "    - vector와의 연산에서도 동일하게 broadcasting이 일어난다.\n",
        "    - 수식으로 보면 4x3 matrix + 1x3 vector를 더하는 것 같지만,\n",
        "    - 실제 연산 시에는 \n",
        "        - 1x3 vector가 4x3 matrix로 broadcasting 되어 \n",
        "            ```\n",
        "            ([      \n",
        "                [10,20,30], \n",
        "                [10,20,30], \n",
        "                [10,20,30], \n",
        "                [10,20,30]\n",
        "                            ])`\n",
        "        - test_d matrix와 합쳐지기 때문에 \n",
        "        - Out[16]과 같은 결과가 나온다."
      ]
    },
    {
      "cell_type": "code",
      "execution_count": 30,
      "metadata": {},
      "outputs": [
        {
          "data": {
            "text/plain": [
              "array([[ 1,  2,  3],\n",
              "       [ 4,  5,  6],\n",
              "       [ 7,  8,  9],\n",
              "       [10, 11, 12]])"
            ]
          },
          "execution_count": 30,
          "metadata": {},
          "output_type": "execute_result"
        }
      ],
      "source": [
        "test_d = np.arange(1,13).reshape(4,3) \n",
        "test_d"
      ]
    },
    {
      "cell_type": "code",
      "execution_count": 31,
      "metadata": {},
      "outputs": [
        {
          "data": {
            "text/plain": [
              "array([10, 20, 30])"
            ]
          },
          "execution_count": 31,
          "metadata": {},
          "output_type": "execute_result"
        }
      ],
      "source": [
        "vector = np.arange(10, 40, 10) \n",
        "vector"
      ]
    },
    {
      "cell_type": "code",
      "execution_count": 32,
      "metadata": {},
      "outputs": [
        {
          "data": {
            "text/plain": [
              "array([[11, 22, 33],\n",
              "       [14, 25, 36],\n",
              "       [17, 28, 39],\n",
              "       [20, 31, 42]])"
            ]
          },
          "execution_count": 32,
          "metadata": {},
          "output_type": "execute_result"
        }
      ],
      "source": [
        "test_d + vector"
      ]
    },
    {
      "cell_type": "markdown",
      "metadata": {},
      "source": [
        "5. Vector와 vector 간의 연산\n",
        "    - 다른 vector 간의 연산은, 양쪽 다 broadcasting이 일어난 뒤에 연산이 수행된다.\n",
        "    - 풀이\n",
        "        1) 첫 vector는 \n",
        "            ```\n",
        "            [\n",
        "                [10,20,30], \n",
        "                [10,20,30], \n",
        "                [10,20,30]] 로 broadcasting이 되고\n",
        "        2) 둘째 vector는 \n",
        "            ```\n",
        "            [\n",
        "                [10,10,10], \n",
        "                [20,20,20], \n",
        "                [30,30,30]]로 broadcasting이 된다.\n",
        "        3) Broadcasting이 된 이후의 연산은 각 요소별로 이루어지기 때문에, \n",
        "        4) Out[18]과 같은 결과가 나오게 된다."
      ]
    },
    {
      "cell_type": "code",
      "execution_count": 34,
      "metadata": {},
      "outputs": [
        {
          "data": {
            "text/plain": [
              "array([[10],\n",
              "       [20],\n",
              "       [30]])"
            ]
          },
          "execution_count": 34,
          "metadata": {},
          "output_type": "execute_result"
        }
      ],
      "source": [
        "vector_transpose = vector.reshape(-1,3).T \n",
        "vector_transpose"
      ]
    },
    {
      "cell_type": "code",
      "execution_count": 35,
      "metadata": {},
      "outputs": [
        {
          "data": {
            "text/plain": [
              "array([[20, 30, 40],\n",
              "       [30, 40, 50],\n",
              "       [40, 50, 60]])"
            ]
          },
          "execution_count": 35,
          "metadata": {},
          "output_type": "execute_result"
        }
      ],
      "source": [
        "vector + vector_transpose"
      ]
    },
    {
      "cell_type": "markdown",
      "metadata": {},
      "source": [
        "6. 마무리\n",
        "    - 같은 크기의 Array 간의 연산은 각 요소별로 이루어진다.\n",
        "    - 크기가 다른 Scalar나 Vector를 Array와 연산하기 위해서는 \n",
        "        - Scalar/Vector를 Array와 같은 크기로 확장시켜주는 동작이 선행되는데, \n",
        "        - 이를 Broadcasting이라고 한다.\n",
        "    - 즉 Array + Scalar 혹은 Array + Vector를 수행하면 \n",
        "        - Scalar/Vector를 Array로 확장을 시킨 뒤에 \n",
        "        - 각 요소별로 연산을 수행하게 된다."
      ]
    },
    {
      "cell_type": "markdown",
      "metadata": {},
      "source": [
        "# **비교 연산자와 논리 연산자**"
      ]
    },
    {
      "cell_type": "markdown",
      "metadata": {},
      "source": [
        "- 일반 scalar 값의 대소 비교를 하듯 Array에도 대소 비교가 필요하다. \n",
        "- NumPy에는 대소비교 뿐만 아니라, 논리 연산 (AND/OR)을 지원하는 함수들을 제공한다."
      ]
    },
    {
      "cell_type": "markdown",
      "metadata": {},
      "source": [
        "1. Array와 Array의 비교 *-중요-*"
      ]
    },
    {
      "cell_type": "code",
      "execution_count": 36,
      "metadata": {},
      "outputs": [
        {
          "data": {
            "text/plain": [
              "array([1., 3., 0.])"
            ]
          },
          "execution_count": 36,
          "metadata": {},
          "output_type": "execute_result"
        }
      ],
      "source": [
        "import numpy as np\n",
        "\n",
        "test_a = np.array([1,3,0], float) \n",
        "test_a"
      ]
    },
    {
      "cell_type": "code",
      "execution_count": 37,
      "metadata": {},
      "outputs": [
        {
          "data": {
            "text/plain": [
              "array([5., 2., 1.])"
            ]
          },
          "execution_count": 37,
          "metadata": {},
          "output_type": "execute_result"
        }
      ],
      "source": [
        "test_b = np.array([5,2,1], float) \n",
        "test_b"
      ]
    },
    {
      "cell_type": "code",
      "execution_count": 38,
      "metadata": {},
      "outputs": [
        {
          "data": {
            "text/plain": [
              "array([False,  True, False])"
            ]
          },
          "execution_count": 38,
          "metadata": {},
          "output_type": "execute_result"
        }
      ],
      "source": [
        "test_a > test_b"
      ]
    },
    {
      "cell_type": "markdown",
      "metadata": {},
      "source": [
        "2. Array와 Scalar의 비교 *-중요-*\n",
        "    - test_c라는 ndarray와 4라는 scalar 값을 비교하면 \n",
        "        - scalar를 array로 brodacasting 한 뒤에,\n",
        "        - element-wise operation이 일어난다.\n",
        "    - 그렇기 때문에 0~3까지는 True가 나오고, 그 외에는 False가 담긴 array가 반환된다."
      ]
    },
    {
      "cell_type": "code",
      "execution_count": 39,
      "metadata": {},
      "outputs": [
        {
          "data": {
            "text/plain": [
              "array([0, 1, 2, 3, 4, 5, 6, 7, 8, 9])"
            ]
          },
          "execution_count": 39,
          "metadata": {},
          "output_type": "execute_result"
        }
      ],
      "source": [
        "test_c = np.arange(10) \n",
        "test_c"
      ]
    },
    {
      "cell_type": "code",
      "execution_count": 40,
      "metadata": {},
      "outputs": [
        {
          "data": {
            "text/plain": [
              "array([ True,  True,  True,  True, False, False, False, False, False,\n",
              "       False])"
            ]
          },
          "execution_count": 40,
          "metadata": {},
          "output_type": "execute_result"
        }
      ],
      "source": [
        "test_c < 4 # Broadcasting 되어 각 요소가 4보다 작은지 비교한 결과값의 배열을 return"
      ]
    },
    {
      "cell_type": "markdown",
      "metadata": {},
      "source": [
        "3. np.logical_and와 np.logical_or\n",
        "    - np.logical_and 함수는 각 element가 \n",
        "        - 모든 조건을 충족할 경우 True, \n",
        "        - 하나라도 충족하지 못할 경우 False를 반환한다.\n",
        "    - np.logical_or 함수는 반대로 \n",
        "        - 하나라도 충족하면 True, \n",
        "        - 아닐 경우 False를 반환한다.\n"
      ]
    },
    {
      "cell_type": "code",
      "execution_count": 41,
      "metadata": {},
      "outputs": [
        {
          "data": {
            "text/plain": [
              "array([1., 3., 0.])"
            ]
          },
          "execution_count": 41,
          "metadata": {},
          "output_type": "execute_result"
        }
      ],
      "source": [
        "test_d = np.array([1,3,0], float)\n",
        "test_d"
      ]
    },
    {
      "cell_type": "code",
      "execution_count": 42,
      "metadata": {},
      "outputs": [
        {
          "data": {
            "text/plain": [
              "array([ True, False, False])"
            ]
          },
          "execution_count": 42,
          "metadata": {},
          "output_type": "execute_result"
        }
      ],
      "source": [
        "np.logical_and(test_d > 0, test_d < 3) # 모든 조건을 충족할 경우 True, 아닐 경우 False"
      ]
    },
    {
      "cell_type": "code",
      "execution_count": 43,
      "metadata": {},
      "outputs": [
        {
          "data": {
            "text/plain": [
              "array([False,  True,  True])"
            ]
          },
          "execution_count": 43,
          "metadata": {},
          "output_type": "execute_result"
        }
      ],
      "source": [
        "np.logical_or(test_d > 2, test_d < 1)"
      ]
    },
    {
      "cell_type": "markdown",
      "metadata": {},
      "source": [
        "4. np.where *-중요-*"
      ]
    },
    {
      "cell_type": "code",
      "execution_count": 44,
      "metadata": {},
      "outputs": [
        {
          "data": {
            "text/plain": [
              "(array([0, 1]),)"
            ]
          },
          "execution_count": 44,
          "metadata": {},
          "output_type": "execute_result"
        }
      ],
      "source": [
        "np.where(test_d > 0) #test_d 배열 중 0보다 큰 값을 가진 요소들의 \"index번호를 배열로 반환\"하는 함수"
      ]
    },
    {
      "cell_type": "code",
      "execution_count": 45,
      "metadata": {},
      "outputs": [
        {
          "data": {
            "text/plain": [
              "array([3, 3, 2])"
            ]
          },
          "execution_count": 45,
          "metadata": {},
          "output_type": "execute_result"
        }
      ],
      "source": [
        "np.where(test_d > 0,3,2) # (condition, TRUE, FALSE)"
      ]
    },
    {
      "cell_type": "markdown",
      "metadata": {},
      "source": [
        "5. np.all과 np.any"
      ]
    },
    {
      "cell_type": "code",
      "execution_count": 46,
      "metadata": {},
      "outputs": [
        {
          "data": {
            "text/plain": [
              "False"
            ]
          },
          "execution_count": 46,
          "metadata": {},
          "output_type": "execute_result"
        }
      ],
      "source": [
        "np.all(test_c<5) # test_c<5의 모든 결과값이 True일 때만 True, 아니면 False"
      ]
    },
    {
      "cell_type": "code",
      "execution_count": 47,
      "metadata": {},
      "outputs": [
        {
          "data": {
            "text/plain": [
              "True"
            ]
          },
          "execution_count": 47,
          "metadata": {},
          "output_type": "execute_result"
        }
      ],
      "source": [
        "np.all(test_c<10) # test_c<10의 모든 결과값이 True이기 때문에 True"
      ]
    },
    {
      "cell_type": "code",
      "execution_count": 48,
      "metadata": {},
      "outputs": [
        {
          "data": {
            "text/plain": [
              "True"
            ]
          },
          "execution_count": 48,
          "metadata": {},
          "output_type": "execute_result"
        }
      ],
      "source": [
        "np.any(test_c>5)"
      ]
    },
    {
      "cell_type": "code",
      "execution_count": 49,
      "metadata": {},
      "outputs": [
        {
          "data": {
            "text/plain": [
              "False"
            ]
          },
          "execution_count": 49,
          "metadata": {},
          "output_type": "execute_result"
        }
      ],
      "source": [
        "np.any(test_c<0)"
      ]
    },
    {
      "cell_type": "markdown",
      "metadata": {},
      "source": [
        "6. np.isnan, np.isfinite\n",
        "    - NaN이란 Not a Number의 줄임말이다. 데이터를 입력하지 않은 경우 NaN으로 표기된다. \n",
        "    - Inf는 Divide By Zero 등을 통해 값이 이상해졌을 경우 np.Inf로 표기된다.\n",
        "    - isnan 함수는 test_d 배열에서 NaN인 위치의 index를 반환하는 함수이다.\n",
        "    - isfinite 함수는 각 위치의 값이 finite 한 값인지 infinite 한 값인지를 알려주는 함수이다."
      ]
    },
    {
      "cell_type": "code",
      "execution_count": 50,
      "metadata": {},
      "outputs": [
        {
          "data": {
            "text/plain": [
              "array([ 1., nan, inf])"
            ]
          },
          "execution_count": 50,
          "metadata": {},
          "output_type": "execute_result"
        }
      ],
      "source": [
        "test_d = np.array([1,np.NaN, np.Inf], float) \n",
        "test_d"
      ]
    },
    {
      "cell_type": "code",
      "execution_count": 51,
      "metadata": {},
      "outputs": [
        {
          "data": {
            "text/plain": [
              "array([False,  True, False])"
            ]
          },
          "execution_count": 51,
          "metadata": {},
          "output_type": "execute_result"
        }
      ],
      "source": [
        "np.isnan(test_d)"
      ]
    },
    {
      "cell_type": "code",
      "execution_count": 52,
      "metadata": {},
      "outputs": [
        {
          "data": {
            "text/plain": [
              "array([ True, False, False])"
            ]
          },
          "execution_count": 52,
          "metadata": {},
          "output_type": "execute_result"
        }
      ],
      "source": [
        "np.isfinite(test_d)"
      ]
    },
    {
      "cell_type": "markdown",
      "metadata": {},
      "source": [
        "- 마무리\n",
        "    - Array 간의 비교, 논리 연산자는 항상 사용되는 함수들이다.\n",
        "    - 다양한 기능들을 제공하는 만큼, \n",
        "        - 각각의 함수들이 \n",
        "            - index를 반환하는지 \n",
        "            - 실제 값을 반환하는지, \n",
        "            - array를 반환하는지 \n",
        "            - Boolean을 반환하는지 정확하게 이해할 필요가 있다."
      ]
    },
    {
      "cell_type": "markdown",
      "metadata": {},
      "source": [
        "# **| *위치' 찾기* | 배열의 정렬**"
      ]
    },
    {
      "cell_type": "markdown",
      "metadata": {},
      "source": [
        "Array sort/min/max 함수\n",
        "- 배열의 값들을 오름차순/내림차순으로 정렬하는 방법을 알아보자.\n",
        "- 그리고 배열의 최대 최소 값을 어떻게 추출할지, \n",
        "- 또 row/col 별 최대 최소값은 어떻게 추출할 수 있는지 알아보자."
      ]
    },
    {
      "cell_type": "markdown",
      "metadata": {},
      "source": [
        "1. argsort\n",
        "    - a.argsort()는 a라는 ndarray를 오름차순 정렬하기 위한 index의 순서를 배열로 반환한다.\n",
        "        - 즉, [2,1,0,3]은 오름차순 정렬하기 위해 a[2], a[1], a[0], a[3] 순서로 추출해야 된다는 것이다.\n",
        "        - 위의 결과대로 추출할 경우 1,2,4,7이 순서대로 반환될 것이다.\n",
        "    - 이를 확인하기 위해서 a[sort_index]로 fancy indexing을 하면 기대한 값이 나오는 것을 확인할 수 있다.\n",
        "    - 내림차순으로 정렬하기 위해선, 위에서 추출한 sort_index를 뒤집어주면 된다.\n",
        "        - 이 동작은 sort_index[::-1]을 하여 거꾸로 뽑을 수 있고, \n",
        "        - 뒤집힌 index를 가지고 fancy indexing을 수행하면 간단하게 내림차순 정렬이 가능하다."
      ]
    },
    {
      "cell_type": "code",
      "execution_count": 53,
      "metadata": {},
      "outputs": [
        {
          "data": {
            "text/plain": [
              "array([4, 2, 1, 7])"
            ]
          },
          "execution_count": 53,
          "metadata": {},
          "output_type": "execute_result"
        }
      ],
      "source": [
        "import numpy as np\n",
        "a = np.array([4,2,1,7])\n",
        "a"
      ]
    },
    {
      "cell_type": "code",
      "execution_count": 57,
      "metadata": {},
      "outputs": [
        {
          "data": {
            "text/plain": [
              "array([2, 1, 0, 3])"
            ]
          },
          "execution_count": 57,
          "metadata": {},
          "output_type": "execute_result"
        }
      ],
      "source": [
        "sort_index = a.argsort() # 오름차순 기준 index 순서를 반환 \n",
        "sort_index"
      ]
    },
    {
      "cell_type": "code",
      "execution_count": 58,
      "metadata": {},
      "outputs": [
        {
          "data": {
            "text/plain": [
              "array([1, 2, 4, 7])"
            ]
          },
          "execution_count": 58,
          "metadata": {},
          "output_type": "execute_result"
        }
      ],
      "source": [
        "a[sort_index] #fancy indexing으로 순서대로 추출"
      ]
    },
    {
      "cell_type": "code",
      "execution_count": 59,
      "metadata": {},
      "outputs": [
        {
          "data": {
            "text/plain": [
              "array([3, 0, 1, 2])"
            ]
          },
          "execution_count": 59,
          "metadata": {},
          "output_type": "execute_result"
        }
      ],
      "source": [
        "sort_index[::-1] # 기존의 순서를 거꾸로 추출한 결과 --> 내림차순"
      ]
    },
    {
      "cell_type": "code",
      "execution_count": 60,
      "metadata": {},
      "outputs": [
        {
          "data": {
            "text/plain": [
              "array([7, 4, 2, 1])"
            ]
          },
          "execution_count": 60,
          "metadata": {},
          "output_type": "execute_result"
        }
      ],
      "source": [
        "a[sort_index[::-1]] # a 배열로부터 내림차순 index로 fancy indexing"
      ]
    },
    {
      "cell_type": "markdown",
      "metadata": {},
      "source": [
        "2. np.argmax\n",
        "    - np.argmax(a)를 수행하면, 전체 a라는 배열 중 최대값이 있는 위치의 index를 알려준다.\n",
        "        - 5라는 값은 1번 row의 1번 Col을 의미하기 때문에, 88이 max값이라는 것을 의미한다 "
      ]
    },
    {
      "cell_type": "code",
      "execution_count": 62,
      "metadata": {},
      "outputs": [
        {
          "data": {
            "text/plain": [
              "array([[ 4,  2,  4,  7],\n",
              "       [ 9, 88,  6, 45],\n",
              "       [ 9, 76,  3,  0]])"
            ]
          },
          "execution_count": 62,
          "metadata": {},
          "output_type": "execute_result"
        }
      ],
      "source": [
        "a = np.array([[4,2,4,7], [9,88,6,45], [9,76,3,0]]) \n",
        "a"
      ]
    },
    {
      "cell_type": "code",
      "execution_count": 63,
      "metadata": {},
      "outputs": [
        {
          "data": {
            "text/plain": [
              "5"
            ]
          },
          "execution_count": 63,
          "metadata": {},
          "output_type": "execute_result"
        }
      ],
      "source": [
        "np.argmax(a) # 전체 배열 a 중의 max 값의 index"
      ]
    },
    {
      "cell_type": "markdown",
      "metadata": {},
      "source": [
        "3. np.argmin\n",
        "    -  np.argmin을 수행하면 \n",
        "        - 0이라는 값을 가리키는 index 11이 나오게 된다.\n",
        "    - 다른 말로, 2번 row에 3번 col에 위치한 \"0을 찾기 위해\"\n",
        "        - 11이라는 값을 반환한 것이다."
      ]
    },
    {
      "cell_type": "code",
      "execution_count": 64,
      "metadata": {},
      "outputs": [
        {
          "data": {
            "text/plain": [
              "11"
            ]
          },
          "execution_count": 64,
          "metadata": {},
          "output_type": "execute_result"
        }
      ],
      "source": [
        "np.argmin(a)"
      ]
    },
    {
      "cell_type": "markdown",
      "metadata": {},
      "source": [
        "4. axis별 min/max 값 추출하기\n",
        "    - 참고로, 대부분의 데이터에서는 전체 테이블의 최소/최대값을 찾는 것은 무의미하다.\n",
        "        - 각 Col별 혹은 row별 최소/최대값을 찾기 위해서는 \n",
        "            - \"axis\" parameter를 추가해줘야 한다.\n",
        "    - 마찬가지로 각 row/col의 \n",
        "        - 최소/최대값을 가진 요소의 index를 알려준다는 것을 이해해야 한다."
      ]
    },
    {
      "cell_type": "code",
      "execution_count": 65,
      "metadata": {},
      "outputs": [
        {
          "data": {
            "text/plain": [
              "array([3, 1, 1])"
            ]
          },
          "execution_count": 65,
          "metadata": {},
          "output_type": "execute_result"
        }
      ],
      "source": [
        "np.argmax(a, axis=1) # 결과값인 [3, 1, 1]은 각 row의 7, 88, 76이 최대값이라는 것을 의미한다."
      ]
    },
    {
      "cell_type": "code",
      "execution_count": 66,
      "metadata": {},
      "outputs": [
        {
          "data": {
            "text/plain": [
              "array([0, 0, 2, 2])"
            ]
          },
          "execution_count": 66,
          "metadata": {},
          "output_type": "execute_result"
        }
      ],
      "source": [
        "np.argmin(a, axis=0) # 결과값인 [0, 0, 2, 2]는 각 col의 4, 2, 3, 0이 최소값이라는 것을 의미한다."
      ]
    },
    {
      "cell_type": "markdown",
      "metadata": {},
      "source": [
        "마무리\n",
        "- argsort, argmin, argmax 함수들은 \n",
        "    - 직접 sorting을 해서 반환하는 것이 아니라, \n",
        "    - sorting 할 경우의 \"index를 순서대로 반환\"하는 함수이다.\n",
        "- sorting/min/max 등의 index를 주기 때문에, \n",
        "    - 이 index를 가지고 \n",
        "        - \"Fancy indexing 하여 각각의 값을 확인\"할 수 있다."
      ]
    },
    {
      "cell_type": "markdown",
      "metadata": {},
      "source": [
        "# **| *값' 찾기* | Boolean Index와 Fancy Index**"
      ]
    },
    {
      "cell_type": "markdown",
      "metadata": {},
      "source": [
        "1. Boolean Index\n",
        "    - test_a > 3이라고 하면 각 요소가 3보다 큰지에 대한 Boolean 값을 반환한다\n",
        "        - 이 Boolean 배열을 test_a의 index로 전달하면, \n",
        "            - test_a 중 True인 index의 값들만 추출해서 보게 된다.\n",
        "    - 이런 식으로 주어진 배열에서 조건을 충족하는 값들만 추출하는 방법을 Boolean indexing이라고 한다."
      ]
    },
    {
      "cell_type": "code",
      "execution_count": 67,
      "metadata": {},
      "outputs": [
        {
          "data": {
            "text/plain": [
              "array([1., 4., 0., 2., 3., 8., 9., 7.])"
            ]
          },
          "execution_count": 67,
          "metadata": {},
          "output_type": "execute_result"
        }
      ],
      "source": [
        "import numpy as np\n",
        "\n",
        "test_a = np.array([1,4,0,2,3,8,9,7], float) \n",
        "test_a"
      ]
    },
    {
      "cell_type": "code",
      "execution_count": 68,
      "metadata": {},
      "outputs": [
        {
          "data": {
            "text/plain": [
              "array([False,  True, False, False, False,  True,  True,  True])"
            ]
          },
          "execution_count": 68,
          "metadata": {},
          "output_type": "execute_result"
        }
      ],
      "source": [
        "test_a > 3 # test_a 중에서 각 요소별로 3보다 큰지 작은지에 대한 boolean 값이 담김"
      ]
    },
    {
      "cell_type": "code",
      "execution_count": 69,
      "metadata": {},
      "outputs": [
        {
          "data": {
            "text/plain": [
              "array([4., 8., 9., 7.])"
            ]
          },
          "execution_count": 69,
          "metadata": {},
          "output_type": "execute_result"
        }
      ],
      "source": [
        "test_a[test_a > 3]"
      ]
    },
    {
      "cell_type": "markdown",
      "metadata": {},
      "source": [
        "2. Fancy Index\n",
        "    - 우리가 일반적으로 test_b의 첫번째 값을 읽고 싶으면 test_b[0]라고 접근할 것이다.\n",
        "        - 이러한 접근을 여러 개 한번에 하고 싶다면, \n",
        "            - index를 숫자 하나가 아니라 하나의 배열에 여러 숫자를 담아서 전달할 수 있다.\n",
        "    - test_b를 접근하는 index를 cond라는 배열에 담아서 전달하니, \n",
        "        - test_b로 부터 각각의 index에 위치한 값들을 읽어낸다.\n",
        "    - 만약, index 값이 너무 크다면? \n",
        "        - 당연히 index out of bounds error가 발생한다."
      ]
    },
    {
      "cell_type": "code",
      "execution_count": 70,
      "metadata": {},
      "outputs": [
        {
          "data": {
            "text/plain": [
              "array([2., 4., 6., 8.])"
            ]
          },
          "execution_count": 70,
          "metadata": {},
          "output_type": "execute_result"
        }
      ],
      "source": [
        "test_b = np.array([2,4,6,8], float)\n",
        "test_b"
      ]
    },
    {
      "cell_type": "code",
      "execution_count": 71,
      "metadata": {},
      "outputs": [
        {
          "data": {
            "text/plain": [
              "array([1, 1, 1, 2, 1, 0, 1, 3])"
            ]
          },
          "execution_count": 71,
          "metadata": {},
          "output_type": "execute_result"
        }
      ],
      "source": [
        "cond = np.array([1,1,1,2,1,0,1,3]) \n",
        "cond"
      ]
    },
    {
      "cell_type": "code",
      "execution_count": 72,
      "metadata": {},
      "outputs": [
        {
          "data": {
            "text/plain": [
              "array([4., 4., 4., 6., 4., 2., 4., 8.])"
            ]
          },
          "execution_count": 72,
          "metadata": {},
          "output_type": "execute_result"
        }
      ],
      "source": [
        "test_b[cond] # test_b의 index를 접근할 때, cond 배열의 각각의 값으로 접근"
      ]
    },
    {
      "cell_type": "code",
      "execution_count": 73,
      "metadata": {},
      "outputs": [
        {
          "data": {
            "text/plain": [
              "array([4., 4., 4., 6., 4., 2., 4., 8.])"
            ]
          },
          "execution_count": 73,
          "metadata": {},
          "output_type": "execute_result"
        }
      ],
      "source": [
        "test_b.take(cond) # .take함수를 사용해서도 동일하게 fancy indexing을 할 수 있다."
      ]
    },
    {
      "cell_type": "code",
      "execution_count": 74,
      "metadata": {},
      "outputs": [
        {
          "ename": "IndexError",
          "evalue": "index 4 is out of bounds for axis 0 with size 4",
          "output_type": "error",
          "traceback": [
            "\u001b[0;31m---------------------------------------------------------------------------\u001b[0m",
            "\u001b[0;31mIndexError\u001b[0m                                Traceback (most recent call last)",
            "\u001b[1;32m/Users/chanwoo/code/python/2024)_Numpy_실습_ndarray.ipynb Cell 200\u001b[0m line \u001b[0;36m2\n\u001b[1;32m      <a href='vscode-notebook-cell:/Users/chanwoo/code/python/2024%29_Numpy_%EC%8B%A4%EC%8A%B5_ndarray.ipynb#Y415sZmlsZQ%3D%3D?line=0'>1</a>\u001b[0m cond \u001b[39m=\u001b[39m np\u001b[39m.\u001b[39marray([\u001b[39m4\u001b[39m]) \u001b[39m# 기존 test_b 배열의 max_index를 넘어가면 어떻게 될까? \u001b[39;00m\n\u001b[0;32m----> <a href='vscode-notebook-cell:/Users/chanwoo/code/python/2024%29_Numpy_%EC%8B%A4%EC%8A%B5_ndarray.ipynb#Y415sZmlsZQ%3D%3D?line=1'>2</a>\u001b[0m test_b[cond]\n",
            "\u001b[0;31mIndexError\u001b[0m: index 4 is out of bounds for axis 0 with size 4"
          ]
        }
      ],
      "source": [
        "cond = np.array([4]) # 기존 test_b 배열의 max_index를 넘어가면 어떻게 될까? \n",
        "test_b[cond]"
      ]
    },
    {
      "cell_type": "markdown",
      "metadata": {},
      "source": [
        "3. 2차원 이상 배열에서 Fancy indexing\n",
        "    - cond_row의 값과 cond_col의 값을 각각 추출해서 순서대로 test_c로부터 추출하라는 명령어이다.\n",
        "        - 결과는 \n",
        "            ```\n",
        "            test_c[0,0], \n",
        "            test_c[0,1], \n",
        "            test_c[1,1], \n",
        "            test_c[1,0], \n",
        "            test_c[0,1] 순서로 나오게 된다.\n",
        "    - 조건은 cond_row와 cond_col의 shape가 동일해야 한다는 것이다."
      ]
    },
    {
      "cell_type": "code",
      "execution_count": 75,
      "metadata": {},
      "outputs": [
        {
          "data": {
            "text/plain": [
              "array([[ 1.,  4.],\n",
              "       [ 9., 16.]])"
            ]
          },
          "execution_count": 75,
          "metadata": {},
          "output_type": "execute_result"
        }
      ],
      "source": [
        "test_c = np.array([[1,4], [9,16]], float) \n",
        "test_c"
      ]
    },
    {
      "cell_type": "code",
      "execution_count": 76,
      "metadata": {},
      "outputs": [],
      "source": [
        "cond_row = np.array([0,0,1,1,0]) \n",
        "cond_col = np.array([0,1,1,0,1])"
      ]
    },
    {
      "cell_type": "code",
      "execution_count": 77,
      "metadata": {},
      "outputs": [
        {
          "data": {
            "text/plain": [
              "array([ 1.,  4., 16.,  9.,  4.])"
            ]
          },
          "execution_count": 77,
          "metadata": {},
          "output_type": "execute_result"
        }
      ],
      "source": [
        "test_c[cond_row, cond_col] \n",
        "# cond_row의 값과 cond_col의 값을 각각 추출해서 순서대로 test_c로부터 추출함"
      ]
    },
    {
      "cell_type": "markdown",
      "metadata": {},
      "source": [
        "# **텍스트 데이터를 읽기 저장하기** "
      ]
    },
    {
      "cell_type": "markdown",
      "metadata": {},
      "source": [
        "1. np.loadtxt와 np.savetxt 예시 (텍스트 데이터 읽기 / 저장하기)\n",
        "    - np.loadtxt : 123 ~ 678이라는 값을 가진 populations.txt에서 tab으로 구분되어 있는 text 데이터를 읽어오는 함수이다.\n",
        "        - delimiter란 데이터의 구분자가 tab이라는 것을 \n",
        "            - numpy에게 알려주어 parsing을 위한 정보를 제공하는 것이다.\n",
        "    - np.savetext를 통해서  동일한 데이터를 \n",
        "        - format/delimiter를 지정하여 저장할 수 있다.\n",
        "    - 결과는 컴퓨터에서 직접 실행하여 확인해야 한다. (int_data.csv파일 생성 여부 확인)"
      ]
    },
    {
      "cell_type": "code",
      "execution_count": 2,
      "metadata": {},
      "outputs": [
        {
          "ename": "ValueError",
          "evalue": "could not convert string ' ' to float64 at row 0, column 1.",
          "output_type": "error",
          "traceback": [
            "\u001b[0;31m---------------------------------------------------------------------------\u001b[0m",
            "\u001b[0;31mValueError\u001b[0m                                Traceback (most recent call last)",
            "\u001b[1;32m/Users/chanwoo/code/python/2024)_Numpy_실습_ndarray.ipynb Cell 207\u001b[0m line \u001b[0;36m3\n\u001b[1;32m      <a href='vscode-notebook-cell:/Users/chanwoo/code/python/2024%29_Numpy_%EC%8B%A4%EC%8A%B5_ndarray.ipynb#Y413sZmlsZQ%3D%3D?line=0'>1</a>\u001b[0m \u001b[39mimport\u001b[39;00m \u001b[39mnumpy\u001b[39;00m \u001b[39mas\u001b[39;00m \u001b[39mnp\u001b[39;00m\n\u001b[0;32m----> <a href='vscode-notebook-cell:/Users/chanwoo/code/python/2024%29_Numpy_%EC%8B%A4%EC%8A%B5_ndarray.ipynb#Y413sZmlsZQ%3D%3D?line=2'>3</a>\u001b[0m a \u001b[39m=\u001b[39m np\u001b[39m.\u001b[39;49mloadtxt(\u001b[39m\"\u001b[39;49m\u001b[39m./content.txt\u001b[39;49m\u001b[39m\"\u001b[39;49m, delimiter\u001b[39m=\u001b[39;49m\u001b[39m'\u001b[39;49m\u001b[39m\\t\u001b[39;49;00m\u001b[39m'\u001b[39;49m) \n\u001b[1;32m      <a href='vscode-notebook-cell:/Users/chanwoo/code/python/2024%29_Numpy_%EC%8B%A4%EC%8A%B5_ndarray.ipynb#Y413sZmlsZQ%3D%3D?line=3'>4</a>\u001b[0m a\n",
            "File \u001b[0;32m~/.venvs/aienv/lib/python3.12/site-packages/numpy/lib/npyio.py:1373\u001b[0m, in \u001b[0;36mloadtxt\u001b[0;34m(fname, dtype, comments, delimiter, converters, skiprows, usecols, unpack, ndmin, encoding, max_rows, quotechar, like)\u001b[0m\n\u001b[1;32m   1370\u001b[0m \u001b[39mif\u001b[39;00m \u001b[39misinstance\u001b[39m(delimiter, \u001b[39mbytes\u001b[39m):\n\u001b[1;32m   1371\u001b[0m     delimiter \u001b[39m=\u001b[39m delimiter\u001b[39m.\u001b[39mdecode(\u001b[39m'\u001b[39m\u001b[39mlatin1\u001b[39m\u001b[39m'\u001b[39m)\n\u001b[0;32m-> 1373\u001b[0m arr \u001b[39m=\u001b[39m _read(fname, dtype\u001b[39m=\u001b[39;49mdtype, comment\u001b[39m=\u001b[39;49mcomment, delimiter\u001b[39m=\u001b[39;49mdelimiter,\n\u001b[1;32m   1374\u001b[0m             converters\u001b[39m=\u001b[39;49mconverters, skiplines\u001b[39m=\u001b[39;49mskiprows, usecols\u001b[39m=\u001b[39;49musecols,\n\u001b[1;32m   1375\u001b[0m             unpack\u001b[39m=\u001b[39;49munpack, ndmin\u001b[39m=\u001b[39;49mndmin, encoding\u001b[39m=\u001b[39;49mencoding,\n\u001b[1;32m   1376\u001b[0m             max_rows\u001b[39m=\u001b[39;49mmax_rows, quote\u001b[39m=\u001b[39;49mquotechar)\n\u001b[1;32m   1378\u001b[0m \u001b[39mreturn\u001b[39;00m arr\n",
            "File \u001b[0;32m~/.venvs/aienv/lib/python3.12/site-packages/numpy/lib/npyio.py:1016\u001b[0m, in \u001b[0;36m_read\u001b[0;34m(fname, delimiter, comment, quote, imaginary_unit, usecols, skiplines, max_rows, converters, ndmin, unpack, dtype, encoding)\u001b[0m\n\u001b[1;32m   1013\u001b[0m     data \u001b[39m=\u001b[39m _preprocess_comments(data, comments, encoding)\n\u001b[1;32m   1015\u001b[0m \u001b[39mif\u001b[39;00m read_dtype_via_object_chunks \u001b[39mis\u001b[39;00m \u001b[39mNone\u001b[39;00m:\n\u001b[0;32m-> 1016\u001b[0m     arr \u001b[39m=\u001b[39m _load_from_filelike(\n\u001b[1;32m   1017\u001b[0m         data, delimiter\u001b[39m=\u001b[39;49mdelimiter, comment\u001b[39m=\u001b[39;49mcomment, quote\u001b[39m=\u001b[39;49mquote,\n\u001b[1;32m   1018\u001b[0m         imaginary_unit\u001b[39m=\u001b[39;49mimaginary_unit,\n\u001b[1;32m   1019\u001b[0m         usecols\u001b[39m=\u001b[39;49musecols, skiplines\u001b[39m=\u001b[39;49mskiplines, max_rows\u001b[39m=\u001b[39;49mmax_rows,\n\u001b[1;32m   1020\u001b[0m         converters\u001b[39m=\u001b[39;49mconverters, dtype\u001b[39m=\u001b[39;49mdtype,\n\u001b[1;32m   1021\u001b[0m         encoding\u001b[39m=\u001b[39;49mencoding, filelike\u001b[39m=\u001b[39;49mfilelike,\n\u001b[1;32m   1022\u001b[0m         byte_converters\u001b[39m=\u001b[39;49mbyte_converters)\n\u001b[1;32m   1024\u001b[0m \u001b[39melse\u001b[39;00m:\n\u001b[1;32m   1025\u001b[0m     \u001b[39m# This branch reads the file into chunks of object arrays and then\u001b[39;00m\n\u001b[1;32m   1026\u001b[0m     \u001b[39m# casts them to the desired actual dtype.  This ensures correct\u001b[39;00m\n\u001b[1;32m   1027\u001b[0m     \u001b[39m# string-length and datetime-unit discovery (like `arr.astype()`).\u001b[39;00m\n\u001b[1;32m   1028\u001b[0m     \u001b[39m# Due to chunking, certain error reports are less clear, currently.\u001b[39;00m\n\u001b[1;32m   1029\u001b[0m     \u001b[39mif\u001b[39;00m filelike:\n",
            "\u001b[0;31mValueError\u001b[0m: could not convert string ' ' to float64 at row 0, column 1."
          ]
        }
      ],
      "source": [
        "import numpy as np\n",
        "\n",
        "a = np.loadtxt(\"./content.txt\", delimiter='\\t') \n",
        "a"
      ]
    },
    {
      "cell_type": "code",
      "execution_count": null,
      "metadata": {},
      "outputs": [],
      "source": [
        "a_int = a.astype(int) \n",
        "a_int"
      ]
    },
    {
      "cell_type": "code",
      "execution_count": null,
      "metadata": {},
      "outputs": [],
      "source": [
        "np.savetxt('int_data.csv', a_int, fmt='%.2e', delimiter=',')"
      ]
    },
    {
      "cell_type": "markdown",
      "metadata": {},
      "source": [
        "2. NumPy object로 데이터 저장하고 읽기\n",
        "    - np.save를 통해서 기존 array 데이터를 저장할 수 있다.\n",
        "    - 이를 다시 불러오기 위해서는 np.load함수를 사용하면 된다"
      ]
    },
    {
      "cell_type": "code",
      "execution_count": null,
      "metadata": {},
      "outputs": [],
      "source": [
        "np.save('npy_test', arr=a_int)"
      ]
    },
    {
      "cell_type": "code",
      "execution_count": null,
      "metadata": {},
      "outputs": [],
      "source": [
        "a_test = np.load(file=\"npy_test.npy\") \n",
        "a_test"
      ]
    },
    {
      "cell_type": "code",
      "execution_count": null,
      "metadata": {},
      "outputs": [],
      "source": [
        "npy_array = np.load(file='npy_test.npy') \n",
        "npy_array"
      ]
    },
    {
      "cell_type": "markdown",
      "metadata": {},
      "source": [
        "# **[ 출처 ]** : 티스토리, 개발자로 취업하기"
      ]
    },
    {
      "cell_type": "markdown",
      "metadata": {},
      "source": [
        "https://coding-grandpa.tistory.com/m/category/Python%EA%B3%BC%20%EB%A8%B8%EC%8B%A0%EB%9F%AC%EB%8B%9D/NumPy%20%EB%8D%B0%EC%9D%B4%ED%84%B0%20%EB%B6%84%EC%84%9D"
      ]
    }
  ],
  "metadata": {
    "colab": {
      "collapsed_sections": [
        "QFRYTAAPT4BP",
        "oYmaK5H8si_g"
      ],
      "provenance": []
    },
    "kernelspec": {
      "display_name": "Python 3",
      "name": "python3"
    },
    "language_info": {
      "name": "python"
    }
  },
  "nbformat": 4,
  "nbformat_minor": 0
}
