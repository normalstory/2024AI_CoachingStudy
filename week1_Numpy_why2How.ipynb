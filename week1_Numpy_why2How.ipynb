{
  "cells": [
    {
      "cell_type": "markdown",
      "metadata": {},
      "source": [
        "모두의 연구소, 2024 AI 코칭스터디 팀 활동을 통해 정리한 내용입니다.  \n",
        "- 로롱코치_6팀 : @박문지 @서진형 @엄수빈 @엔터6(변찬우) @miji(박미지) @Shinar(신애라) "
      ]
    },
    {
      "cell_type": "markdown",
      "metadata": {},
      "source": [
        "# **Numpy를 활용하는 작업**"
      ]
    },
    {
      "cell_type": "markdown",
      "metadata": {},
      "source": [
        "NumPy가 제공하는 기능들은 특히 대규모 데이터 처리와 복잡한 수치 연산을 단순화하고 가속화하는 데 큰 기여를 했습니다. 다음은 NumPy로 인해 더욱 편리해진 주요 작업들입니다. "
      ]
    },
    {
      "cell_type": "markdown",
      "metadata": {},
      "source": [
        "1. 효율적인 다차원 배열 처리"
      ]
    },
    {
      "cell_type": "code",
      "execution_count": null,
      "metadata": {},
      "outputs": [],
      "source": [
        "import numpy as np\n",
        "\n",
        "# 2차원 배열 생성\n",
        "array_2d = np.array([[1, 2, 3], [4, 5, 6], [7, 8, 9]])\n",
        "\n",
        "# 배열의 형태 확인\n",
        "print(\"Array shape:\", array_2d.shape)\n",
        "\n",
        "# 배열의 요소 접근 및 수정\n",
        "array_2d[1, 2] = 10\n",
        "print(\"Modified array:\\n\", array_2d)"
      ]
    },
    {
      "cell_type": "markdown",
      "metadata": {},
      "source": [
        "2. 고성능 수치 계산"
      ]
    },
    {
      "cell_type": "code",
      "execution_count": null,
      "metadata": {},
      "outputs": [],
      "source": [
        "# 두 개의 큰 배열 생성\n",
        "a = np.random.rand(1000000)\n",
        "b = np.random.rand(1000000)\n",
        "\n",
        "# 배열 요소별 곱셈\n",
        "result = a * b\n",
        "\n",
        "# 첫 5개 결과 출력\n",
        "print(result[:5])\n"
      ]
    },
    {
      "cell_type": "markdown",
      "metadata": {},
      "source": [
        "3. 데이터 전처리 및 분석"
      ]
    },
    {
      "cell_type": "code",
      "execution_count": null,
      "metadata": {},
      "outputs": [],
      "source": [
        "# 임의의 데이터 생성\n",
        "data = np.random.randn(1000)\n",
        "\n",
        "# 평균과 표준편차 계산\n",
        "mean = np.mean(data)\n",
        "std_dev = np.std(data)\n",
        "\n",
        "print(\"Mean:\", mean)\n",
        "print(\"Standard Deviation:\", std_dev)\n",
        "\n",
        "# 데이터 정규화\n",
        "normalized_data = (data - mean) / std_dev\n",
        "print(\"First 5 normalized data points:\", normalized_data[:5])\n"
      ]
    },
    {
      "cell_type": "markdown",
      "metadata": {},
      "source": [
        "4. 과학 계산 및 시뮬레이션"
      ]
    },
    {
      "cell_type": "code",
      "execution_count": null,
      "metadata": {},
      "outputs": [],
      "source": [
        "# 선형 방정식 시스템 Ax = b\n",
        "A = np.array([[3, 1], [1, 2]])\n",
        "b = np.array([9, 8])\n",
        "\n",
        "# 선형 방정식 풀기\n",
        "x = np.linalg.solve(A, b)\n",
        "\n",
        "print(\"Solution x:\", x)\n"
      ]
    },
    {
      "cell_type": "code",
      "execution_count": null,
      "metadata": {},
      "outputs": [],
      "source": []
    },
    {
      "cell_type": "markdown",
      "metadata": {},
      "source": [
        "5. 데이터 시각화와 상호 운용성"
      ]
    },
    {
      "cell_type": "code",
      "execution_count": null,
      "metadata": {},
      "outputs": [],
      "source": [
        "import matplotlib.pyplot as plt\n",
        "\n",
        "# 임의의 데이터 생성\n",
        "x = np.linspace(0, 10, 100)\n",
        "y = np.sin(x)\n",
        "\n",
        "# 데이터 시각화\n",
        "plt.plot(x, y)\n",
        "plt.title(\"Sine Wave\")\n",
        "plt.xlabel(\"x\")\n",
        "plt.ylabel(\"sin(x)\")\n",
        "plt.show()\n"
      ]
    },
    {
      "cell_type": "markdown",
      "metadata": {},
      "source": [
        "6. 머신러닝과 데이터 과학"
      ]
    },
    {
      "cell_type": "code",
      "execution_count": null,
      "metadata": {},
      "outputs": [],
      "source": [
        "from sklearn.linear_model import LinearRegression\n",
        "\n",
        "# 간단한 선형 회귀 모델 예제\n",
        "X = np.array([[1], [2], [3], [4], [5]])\n",
        "y = np.array([1, 2, 1.3, 3.75, 2.25])\n",
        "\n",
        "# 모델 학습\n",
        "model = LinearRegression().fit(X, y)\n",
        "\n",
        "# 예측\n",
        "predictions = model.predict(X)\n",
        "\n",
        "print(\"Predictions:\", predictions)"
      ]
    },
    {
      "cell_type": "markdown",
      "metadata": {},
      "source": [
        "# **NumPy 도입 전-후 비교** "
      ]
    },
    {
      "cell_type": "markdown",
      "metadata": {},
      "source": [
        "과거에 NumPy가 등장하기 전에는, 대규모 데이터 처리와 수치 연산을 Python의 기본 데이터 구조와 반복문을 사용하여 수행해야 했습니다. 이는 특히 대규모 데이터셋이나 복잡한 수치 계산에서 매우 비효율적이었습니다. 아래는 NumPy가 없었던 시절의 예시 코드를 보여줍니다."
      ]
    },
    {
      "cell_type": "markdown",
      "metadata": {},
      "source": [
        "1. 대규모 행렬 연산"
      ]
    },
    {
      "cell_type": "code",
      "execution_count": 6,
      "metadata": {},
      "outputs": [],
      "source": [
        "# 과거\n",
        "## 대규모 행렬 곱셈을 루프를 사용하여 구현해야 했습니다.\n",
        "\n",
        "# 행렬 곱셈\n",
        "import random\n",
        "\n",
        "# 두 행렬의 크기\n",
        "N = 1000\n",
        "\n",
        "# 행렬 생성\n",
        "A = [[random.random() for _ in range(N)] for _ in range(N)]\n",
        "B = [[random.random() for _ in range(N)] for _ in range(N)]\n",
        "C = [[0]*N for _ in range(N)]\n",
        "\n",
        "# 행렬 곱셈\n",
        "for i in range(N):\n",
        "    for j in range(N):\n",
        "        for k in range(N):\n",
        "            C[i][j] += A[i][k] * B[k][j]"
      ]
    },
    {
      "cell_type": "code",
      "execution_count": 7,
      "metadata": {},
      "outputs": [],
      "source": [
        "# NumPy 도입 후\n",
        "import numpy as np\n",
        "\n",
        "# 행렬 생성\n",
        "A = np.random.rand(1000, 1000)\n",
        "B = np.random.rand(1000, 1000)\n",
        "\n",
        "# 행렬 곱셈\n",
        "C = np.dot(A, B)"
      ]
    },
    {
      "cell_type": "markdown",
      "metadata": {},
      "source": [
        "2. 데이터 분석 및 전처리"
      ]
    },
    {
      "cell_type": "code",
      "execution_count": 8,
      "metadata": {},
      "outputs": [
        {
          "name": "stdout",
          "output_type": "stream",
          "text": [
            "과거 : 0.2886542304368079\n"
          ]
        }
      ],
      "source": [
        "# 과거\n",
        "## 평균과 표준편차를 계산하는 데 많은 반복문이 필요했습니다.\n",
        "import random\n",
        "\n",
        "# 데이터 생성\n",
        "data = [random.random() for _ in range(1000000)]\n",
        "\n",
        "# 평균 계산\n",
        "mean = sum(data) / len(data)\n",
        "\n",
        "# 표준편차 계산\n",
        "variance = sum((x - mean) ** 2 for x in data) / len(data)\n",
        "std_dev = variance ** 0.5\n",
        "\n",
        "print(\"과거 :\", std_dev)"
      ]
    },
    {
      "cell_type": "code",
      "execution_count": 9,
      "metadata": {},
      "outputs": [
        {
          "name": "stdout",
          "output_type": "stream",
          "text": [
            "NumPy 도입 후 : 0.2887707580115495\n"
          ]
        }
      ],
      "source": [
        "# NumPy 도입 후\n",
        "import numpy as np\n",
        "\n",
        "# 데이터 생성\n",
        "data = np.random.rand(1000000)\n",
        "\n",
        "# 평균과 표준편차 계산\n",
        "mean = np.mean(data)\n",
        "std_dev = np.std(data)\n",
        "\n",
        "print(\"NumPy 도입 후 :\", std_dev)"
      ]
    },
    {
      "cell_type": "markdown",
      "metadata": {},
      "source": [
        "3. 이미지 처리"
      ]
    },
    {
      "cell_type": "code",
      "execution_count": 1,
      "metadata": {},
      "outputs": [],
      "source": [
        "# 과거\n",
        "## 이미지의 밝기를 조정하는 작업이 복잡했습니다.\n",
        "\n",
        "from PIL import Image\n",
        "\n",
        "# 이미지 로드\n",
        "image = Image.open('temp/image.png')\n",
        "pixels = list(image.getdata())\n",
        "width, height = image.size\n",
        "\n",
        "# 밝기 조정\n",
        "new_pixels = [(int(r*0.5), int(g*0.5), int(b*0.5)) for (r, g, b) in pixels]\n",
        "\n",
        "# 새로운 이미지 생성\n",
        "new_image = Image.new('RGB', (width, height))\n",
        "new_image.putdata(new_pixels)\n",
        "new_image.save('temp/darkened_image.png')\n",
        "\n"
      ]
    },
    {
      "cell_type": "code",
      "execution_count": null,
      "metadata": {},
      "outputs": [],
      "source": [
        "# 패키지 설치 \n",
        "! pip install scikit-image"
      ]
    },
    {
      "cell_type": "code",
      "execution_count": 2,
      "metadata": {},
      "outputs": [],
      "source": [
        "# NumPy 도입 후\n",
        "import numpy as np\n",
        "from skimage import io\n",
        "\n",
        "# 이미지 로드\n",
        "image = io.imread('temp/image.png')\n",
        "\n",
        "# 밝기 조정\n",
        "darkened_image = image * 0.5\n",
        "\n",
        "# 이미지 저장\n",
        "io.imsave('temp/darkened_image.png', darkened_image.astype(np.uint8))\n"
      ]
    },
    {
      "cell_type": "markdown",
      "metadata": {},
      "source": [
        "4. 과학 계산 및 시뮬레이션"
      ]
    },
    {
      "cell_type": "code",
      "execution_count": null,
      "metadata": {},
      "outputs": [],
      "source": [
        "# 과거\n",
        "import math\n",
        "import random\n",
        "\n",
        "# 푸리에 변환 (간단한 예제)\n",
        "def dft(x):\n",
        "    N = len(x)\n",
        "    X = [complex(0)] * N\n",
        "    for k in range(N):\n",
        "        for n in range(N):\n",
        "            angle = 2j * math.pi * k * n / N\n",
        "            X[k] += x[n] * math.e ** (-angle)\n",
        "    return X\n",
        "\n",
        "# 데이터 생성\n",
        "signal = [random.random() for _ in range(1000)]\n",
        "\n",
        "# 푸리에 변환\n",
        "fft_signal = dft(signal)\n",
        "\n",
        "print(\"과거 :\", fft_signal)"
      ]
    },
    {
      "cell_type": "code",
      "execution_count": null,
      "metadata": {},
      "outputs": [],
      "source": [
        "# NumPy 도입 후\n",
        "\n",
        "import numpy as np\n",
        "\n",
        "# 데이터 생성\n",
        "signal = np.random.rand(1000)\n",
        "\n",
        "# 푸리에 변환\n",
        "fft_signal = np.fft.fft(signal)\n",
        "\n",
        "print(\"NumPy 도입 후 :\", fft_signal)"
      ]
    },
    {
      "cell_type": "markdown",
      "metadata": {},
      "source": [
        "5. 머신러닝"
      ]
    },
    {
      "cell_type": "code",
      "execution_count": null,
      "metadata": {},
      "outputs": [],
      "source": [
        "# 과거\n",
        "## 데이터 전처리와 기본적인 모델 구현도 많은 수작업이 필요했습니다.\n",
        "\n",
        "import random\n",
        "\n",
        "# 데이터 생성\n",
        "X = [[random.random()] for _ in range(100)]\n",
        "y = [3*x[0] + random.random() for x in X]\n",
        "\n",
        "# 모델 학습 (단순 선형 회귀)\n",
        "def fit_linear_regression(X, y):\n",
        "    n = len(X)\n",
        "    x_mean = sum([x[0] for x in X]) / n\n",
        "    y_mean = sum(y) / n\n",
        "    num = sum([(X[i][0] - x_mean) * (y[i] - y_mean) for i in range(n)])\n",
        "    den = sum([(X[i][0] - x_mean) ** 2 for i in range(n)])\n",
        "    slope = num / den\n",
        "    intercept = y_mean - slope * x_mean\n",
        "    return slope, intercept\n",
        "\n",
        "# 학습\n",
        "slope, intercept = fit_linear_regression(X, y)\n",
        "\n",
        "print(\"과거 :\", fft_signal)"
      ]
    },
    {
      "cell_type": "code",
      "execution_count": null,
      "metadata": {},
      "outputs": [],
      "source": [
        "# NumPy 도입 후\n",
        "\n",
        "# import numpy as np\n",
        "from sklearn.linear_model import LinearRegression\n",
        "\n",
        "# 데이터 생성\n",
        "X = np.random.rand(100, 1)\n",
        "y = 3 * X + np.random.rand(100, 1)\n",
        "\n",
        "# 모델 학습\n",
        "model = LinearRegression().fit(X, y)\n",
        "\n",
        "print(\"NumPy 도입 후 :\", model)"
      ]
    },
    {
      "cell_type": "markdown",
      "metadata": {},
      "source": [
        "# **넘파이의 실무 활용 시나리오 예시** "
      ]
    },
    {
      "cell_type": "code",
      "execution_count": 1,
      "metadata": {},
      "outputs": [],
      "source": [
        "import numpy as np\n",
        "\n",
        "# 각 행은 제품, 각 열은 월별 판매량을 나타낸다.\n",
        "sales_data = np.array([\n",
        "    [120, 135, 150, 145],\n",
        "    [100, 110, 140, 130],\n",
        "    [90, 100, 95, 105]\n",
        "])\n",
        "\n",
        "# 각 제품의 단위당 이익\n",
        "profit_per_unit = np.array([20, 30, 25])"
      ]
    },
    {
      "cell_type": "code",
      "execution_count": 2,
      "metadata": {},
      "outputs": [
        {
          "name": "stdout",
          "output_type": "stream",
          "text": [
            "총 판매량: [550 480 390]\n"
          ]
        }
      ],
      "source": [
        "#총 판매량 계산\n",
        "total_sales = np.sum(sales_data, axis=1)\n",
        "print(f\"총 판매량: {total_sales}\")"
      ]
    },
    {
      "cell_type": "code",
      "execution_count": 3,
      "metadata": {},
      "outputs": [
        {
          "name": "stdout",
          "output_type": "stream",
          "text": [
            "총 이익: [7650 8500 9575 9425]\n"
          ]
        }
      ],
      "source": [
        "#각 제품별 총 이익 계산\n",
        "total_profit = np.dot(profit_per_unit, sales_data)\n",
        "print(f\"총 이익: {total_profit}\")\n"
      ]
    },
    {
      "cell_type": "code",
      "execution_count": 18,
      "metadata": {},
      "outputs": [
        {
          "name": "stdout",
          "output_type": "stream",
          "text": [
            "가장 높은 판매량을 기록한 월: 3월\n"
          ]
        }
      ],
      "source": [
        "# 가장 높은 판매량을 기록한 월 찾기\n",
        "highest_sales_month = np.argmax(np.sum(sales_data, axis=0)) + 1\n",
        "print(f\"가장 높은 판매량을 기록한 월: {highest_sales_month}월\")"
      ]
    },
    {
      "cell_type": "code",
      "execution_count": 19,
      "metadata": {},
      "outputs": [
        {
          "name": "stdout",
          "output_type": "stream",
          "text": [
            "가장 이익이 높은 제품: 제품 3\n"
          ]
        }
      ],
      "source": [
        "# 가장 이익이 높은 제품 찾기\n",
        "highest_profit_product = np.argmax(total_profit) + 1\n",
        "print(f\"가장 이익이 높은 제품: 제품 {highest_profit_product}\")"
      ]
    },
    {
      "cell_type": "markdown",
      "metadata": {},
      "source": [
        "출처 : https://velog.io/@thddbsk0853/%EB%84%98%ED%8C%8C%EC%9D%B4%EB%A5%BC-%ED%99%9C%EC%9A%A9%ED%95%9C-%EC%82%AC%EC%97%85%EC%84%B1-%EB%B6%84%EC%84%9D-w6hn3ur0 "
      ]
    }
  ],
  "metadata": {
    "colab": {
      "collapsed_sections": [
        "QFRYTAAPT4BP",
        "oYmaK5H8si_g"
      ],
      "provenance": []
    },
    "kernelspec": {
      "display_name": "Python 3",
      "name": "python3"
    },
    "language_info": {
      "name": "python"
    }
  },
  "nbformat": 4,
  "nbformat_minor": 0
}
