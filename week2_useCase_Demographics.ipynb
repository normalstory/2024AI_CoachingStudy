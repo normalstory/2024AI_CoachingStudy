{
  "cells": [
    {
      "cell_type": "markdown",
      "metadata": {},
      "source": [
        "# Matplotlib Usecase"
      ]
    },
    {
      "cell_type": "markdown",
      "metadata": {},
      "source": [
        "## Demographics"
      ]
    },
    {
      "cell_type": "markdown",
      "metadata": {},
      "source": [
        "- 행정동별 주민등록 인구/세대 현황(csv) : https://jumin.mois.go.kr/index.jsp# \n",
        "    - 데이터 전처리 필요 : 인코딩, 들여쓰기 "
      ]
    },
    {
      "cell_type": "code",
      "execution_count": 1,
      "metadata": {},
      "outputs": [
        {
          "name": "stdout",
          "output_type": "stream",
          "text": [
            "Requirement already satisfied: matplotlib in /Users/chanwoo/.venvs/aienv/lib/python3.12/site-packages (3.9.0)\n",
            "Requirement already satisfied: contourpy>=1.0.1 in /Users/chanwoo/.venvs/aienv/lib/python3.12/site-packages (from matplotlib) (1.2.1)\n",
            "Requirement already satisfied: cycler>=0.10 in /Users/chanwoo/.venvs/aienv/lib/python3.12/site-packages (from matplotlib) (0.12.1)\n",
            "Requirement already satisfied: fonttools>=4.22.0 in /Users/chanwoo/.venvs/aienv/lib/python3.12/site-packages (from matplotlib) (4.52.1)\n",
            "Requirement already satisfied: kiwisolver>=1.3.1 in /Users/chanwoo/.venvs/aienv/lib/python3.12/site-packages (from matplotlib) (1.4.5)\n",
            "Requirement already satisfied: numpy>=1.23 in /Users/chanwoo/.venvs/aienv/lib/python3.12/site-packages (from matplotlib) (1.26.4)\n",
            "Requirement already satisfied: packaging>=20.0 in /Users/chanwoo/.venvs/aienv/lib/python3.12/site-packages (from matplotlib) (24.0)\n",
            "Requirement already satisfied: pillow>=8 in /Users/chanwoo/.venvs/aienv/lib/python3.12/site-packages (from matplotlib) (10.3.0)\n",
            "Requirement already satisfied: pyparsing>=2.3.1 in /Users/chanwoo/.venvs/aienv/lib/python3.12/site-packages (from matplotlib) (3.1.2)\n",
            "Requirement already satisfied: python-dateutil>=2.7 in /Users/chanwoo/.venvs/aienv/lib/python3.12/site-packages (from matplotlib) (2.9.0.post0)\n",
            "Requirement already satisfied: six>=1.5 in /Users/chanwoo/.venvs/aienv/lib/python3.12/site-packages (from python-dateutil>=2.7->matplotlib) (1.16.0)\n"
          ]
        }
      ],
      "source": [
        "! pip install matplotlib"
      ]
    },
    {
      "cell_type": "code",
      "execution_count": 65,
      "metadata": {},
      "outputs": [],
      "source": [
        "# 라이브러리 임포트\n",
        "import pandas as pd\n",
        "import numpy as np\n",
        "import matplotlib.pyplot as plt\n",
        "\n",
        "import seaborn as sns"
      ]
    }
  ],
  "metadata": {
    "kernelspec": {
      "display_name": "Python 3",
      "language": "python",
      "name": "python3"
    },
    "language_info": {
      "codemirror_mode": {
        "name": "ipython",
        "version": 3
      },
      "file_extension": ".py",
      "mimetype": "text/x-python",
      "name": "python",
      "nbconvert_exporter": "python",
      "pygments_lexer": "ipython3",
      "version": "3.12.2"
    }
  },
  "nbformat": 4,
  "nbformat_minor": 0
}
